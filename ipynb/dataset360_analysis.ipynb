{
 "cells": [
  {
   "cell_type": "code",
   "execution_count": 1,
   "metadata": {},
   "outputs": [],
   "source": [
    "import sys, cv2, os, re, random\n",
    "sys.path.append('../')\n",
    "\n",
    "import pandas as pd\n",
    "from utils import *"
   ]
  },
  {
   "cell_type": "markdown",
   "metadata": {},
   "source": [
    "## Dataset to DataFrame"
   ]
  },
  {
   "cell_type": "code",
   "execution_count": 2,
   "metadata": {},
   "outputs": [],
   "source": [
    "dataset_path = \"../data/dataset_360/\""
   ]
  },
  {
   "cell_type": "code",
   "execution_count": 3,
   "metadata": {},
   "outputs": [],
   "source": [
    "images_path = pd.Series(get_files_folder(dataset_path, is_image))\n",
    "meta_path = images_path.apply(lambda x: x.replace('jpg','txt'))\n",
    "folds = images_path.apply(lambda x: re.findall('FDDB-fold-\\d\\d', x)[0])\n",
    "\n",
    "dict360 = {'image_path':images_path, 'metadata':meta_path, 'fold':folds}\n",
    "dataset360 = pd.DataFrame(dict360)"
   ]
  },
  {
   "cell_type": "code",
   "execution_count": 4,
   "metadata": {},
   "outputs": [
    {
     "data": {
      "text/html": [
       "<div>\n",
       "<style scoped>\n",
       "    .dataframe tbody tr th:only-of-type {\n",
       "        vertical-align: middle;\n",
       "    }\n",
       "\n",
       "    .dataframe tbody tr th {\n",
       "        vertical-align: top;\n",
       "    }\n",
       "\n",
       "    .dataframe thead th {\n",
       "        text-align: right;\n",
       "    }\n",
       "</style>\n",
       "<table border=\"1\" class=\"dataframe\">\n",
       "  <thead>\n",
       "    <tr style=\"text-align: right;\">\n",
       "      <th></th>\n",
       "      <th>image_path</th>\n",
       "      <th>metadata</th>\n",
       "      <th>fold</th>\n",
       "    </tr>\n",
       "  </thead>\n",
       "  <tbody>\n",
       "    <tr>\n",
       "      <th>0</th>\n",
       "      <td>../data/dataset_360/FDDB-fold-01\\2002_07_19_bi...</td>\n",
       "      <td>../data/dataset_360/FDDB-fold-01\\2002_07_19_bi...</td>\n",
       "      <td>FDDB-fold-01</td>\n",
       "    </tr>\n",
       "    <tr>\n",
       "      <th>1</th>\n",
       "      <td>../data/dataset_360/FDDB-fold-01\\2002_07_19_bi...</td>\n",
       "      <td>../data/dataset_360/FDDB-fold-01\\2002_07_19_bi...</td>\n",
       "      <td>FDDB-fold-01</td>\n",
       "    </tr>\n",
       "    <tr>\n",
       "      <th>2</th>\n",
       "      <td>../data/dataset_360/FDDB-fold-01\\2002_07_19_bi...</td>\n",
       "      <td>../data/dataset_360/FDDB-fold-01\\2002_07_19_bi...</td>\n",
       "      <td>FDDB-fold-01</td>\n",
       "    </tr>\n",
       "    <tr>\n",
       "      <th>3</th>\n",
       "      <td>../data/dataset_360/FDDB-fold-01\\2002_07_19_bi...</td>\n",
       "      <td>../data/dataset_360/FDDB-fold-01\\2002_07_19_bi...</td>\n",
       "      <td>FDDB-fold-01</td>\n",
       "    </tr>\n",
       "    <tr>\n",
       "      <th>4</th>\n",
       "      <td>../data/dataset_360/FDDB-fold-01\\2002_07_19_bi...</td>\n",
       "      <td>../data/dataset_360/FDDB-fold-01\\2002_07_19_bi...</td>\n",
       "      <td>FDDB-fold-01</td>\n",
       "    </tr>\n",
       "  </tbody>\n",
       "</table>\n",
       "</div>"
      ],
      "text/plain": [
       "                                          image_path  \\\n",
       "0  ../data/dataset_360/FDDB-fold-01\\2002_07_19_bi...   \n",
       "1  ../data/dataset_360/FDDB-fold-01\\2002_07_19_bi...   \n",
       "2  ../data/dataset_360/FDDB-fold-01\\2002_07_19_bi...   \n",
       "3  ../data/dataset_360/FDDB-fold-01\\2002_07_19_bi...   \n",
       "4  ../data/dataset_360/FDDB-fold-01\\2002_07_19_bi...   \n",
       "\n",
       "                                            metadata          fold  \n",
       "0  ../data/dataset_360/FDDB-fold-01\\2002_07_19_bi...  FDDB-fold-01  \n",
       "1  ../data/dataset_360/FDDB-fold-01\\2002_07_19_bi...  FDDB-fold-01  \n",
       "2  ../data/dataset_360/FDDB-fold-01\\2002_07_19_bi...  FDDB-fold-01  \n",
       "3  ../data/dataset_360/FDDB-fold-01\\2002_07_19_bi...  FDDB-fold-01  \n",
       "4  ../data/dataset_360/FDDB-fold-01\\2002_07_19_bi...  FDDB-fold-01  "
      ]
     },
     "execution_count": 4,
     "metadata": {},
     "output_type": "execute_result"
    }
   ],
   "source": [
    "dataset360.head()"
   ]
  },
  {
   "cell_type": "code",
   "execution_count": 22,
   "metadata": {},
   "outputs": [],
   "source": [
    "def get_meta(url):\n",
    "\n",
    "    with open(url, 'r') as f:\n",
    "        _ = f.readline()\n",
    "        phi, theta, r_h = [eval(x) for x in f.readline().rstrip('\\n').split(' ')]\n",
    "        n_faces = int(f.readline().rstrip('\\n'))\n",
    "        faces = []\n",
    "        for _ in range(n_faces):\n",
    "            faces.append(eval(f.readline().rstrip('\\n')))\n",
    "\n",
    "        return [phi, theta, r_h, faces]\n",
    "        "
   ]
  },
  {
   "cell_type": "code",
   "execution_count": 23,
   "metadata": {},
   "outputs": [],
   "source": [
    "meta = dataset360.metadata.apply(get_meta)"
   ]
  },
  {
   "cell_type": "code",
   "execution_count": 26,
   "metadata": {},
   "outputs": [],
   "source": [
    "dataset360['phi'] = meta.apply(lambda x: x[0])\n",
    "dataset360['theta'] = meta.apply(lambda x: x[1])\n",
    "dataset360['r_h'] = meta.apply(lambda x: x[2])\n",
    "dataset360['faces'] = meta.apply(lambda x: x[3])"
   ]
  },
  {
   "cell_type": "code",
   "execution_count": 27,
   "metadata": {},
   "outputs": [
    {
     "data": {
      "text/html": [
       "<div>\n",
       "<style scoped>\n",
       "    .dataframe tbody tr th:only-of-type {\n",
       "        vertical-align: middle;\n",
       "    }\n",
       "\n",
       "    .dataframe tbody tr th {\n",
       "        vertical-align: top;\n",
       "    }\n",
       "\n",
       "    .dataframe thead th {\n",
       "        text-align: right;\n",
       "    }\n",
       "</style>\n",
       "<table border=\"1\" class=\"dataframe\">\n",
       "  <thead>\n",
       "    <tr style=\"text-align: right;\">\n",
       "      <th></th>\n",
       "      <th>image_path</th>\n",
       "      <th>metadata</th>\n",
       "      <th>fold</th>\n",
       "      <th>phi</th>\n",
       "      <th>theta</th>\n",
       "      <th>r_h</th>\n",
       "      <th>faces</th>\n",
       "    </tr>\n",
       "  </thead>\n",
       "  <tbody>\n",
       "    <tr>\n",
       "      <th>0</th>\n",
       "      <td>../data/dataset_360/FDDB-fold-01\\2002_07_19_bi...</td>\n",
       "      <td>../data/dataset_360/FDDB-fold-01\\2002_07_19_bi...</td>\n",
       "      <td>FDDB-fold-01</td>\n",
       "      <td>-35</td>\n",
       "      <td>78</td>\n",
       "      <td>0.994500</td>\n",
       "      <td>[[(320, 114), (374, 112), (427, 116), (328, 15...</td>\n",
       "    </tr>\n",
       "    <tr>\n",
       "      <th>1</th>\n",
       "      <td>../data/dataset_360/FDDB-fold-01\\2002_07_19_bi...</td>\n",
       "      <td>../data/dataset_360/FDDB-fold-01\\2002_07_19_bi...</td>\n",
       "      <td>FDDB-fold-01</td>\n",
       "      <td>22</td>\n",
       "      <td>-142</td>\n",
       "      <td>0.523074</td>\n",
       "      <td>[[(1138, 357), (1152, 357), (1166, 356), (1138...</td>\n",
       "    </tr>\n",
       "    <tr>\n",
       "      <th>2</th>\n",
       "      <td>../data/dataset_360/FDDB-fold-01\\2002_07_19_bi...</td>\n",
       "      <td>../data/dataset_360/FDDB-fold-01\\2002_07_19_bi...</td>\n",
       "      <td>FDDB-fold-01</td>\n",
       "      <td>46</td>\n",
       "      <td>-103</td>\n",
       "      <td>0.695416</td>\n",
       "      <td>[[(941, 453), (965, 457), (990, 459), (932, 47...</td>\n",
       "    </tr>\n",
       "    <tr>\n",
       "      <th>3</th>\n",
       "      <td>../data/dataset_360/FDDB-fold-01\\2002_07_19_bi...</td>\n",
       "      <td>../data/dataset_360/FDDB-fold-01\\2002_07_19_bi...</td>\n",
       "      <td>FDDB-fold-01</td>\n",
       "      <td>-39</td>\n",
       "      <td>-95</td>\n",
       "      <td>0.616609</td>\n",
       "      <td>[[(940, 144), (975, 143), (1010, 144), (945, 1...</td>\n",
       "    </tr>\n",
       "    <tr>\n",
       "      <th>4</th>\n",
       "      <td>../data/dataset_360/FDDB-fold-01\\2002_07_19_bi...</td>\n",
       "      <td>../data/dataset_360/FDDB-fold-01\\2002_07_19_bi...</td>\n",
       "      <td>FDDB-fold-01</td>\n",
       "      <td>41</td>\n",
       "      <td>132</td>\n",
       "      <td>0.556615</td>\n",
       "      <td>[[(149, 430), (170, 431), (190, 431), (147, 45...</td>\n",
       "    </tr>\n",
       "  </tbody>\n",
       "</table>\n",
       "</div>"
      ],
      "text/plain": [
       "                                          image_path  \\\n",
       "0  ../data/dataset_360/FDDB-fold-01\\2002_07_19_bi...   \n",
       "1  ../data/dataset_360/FDDB-fold-01\\2002_07_19_bi...   \n",
       "2  ../data/dataset_360/FDDB-fold-01\\2002_07_19_bi...   \n",
       "3  ../data/dataset_360/FDDB-fold-01\\2002_07_19_bi...   \n",
       "4  ../data/dataset_360/FDDB-fold-01\\2002_07_19_bi...   \n",
       "\n",
       "                                            metadata          fold  phi  \\\n",
       "0  ../data/dataset_360/FDDB-fold-01\\2002_07_19_bi...  FDDB-fold-01  -35   \n",
       "1  ../data/dataset_360/FDDB-fold-01\\2002_07_19_bi...  FDDB-fold-01   22   \n",
       "2  ../data/dataset_360/FDDB-fold-01\\2002_07_19_bi...  FDDB-fold-01   46   \n",
       "3  ../data/dataset_360/FDDB-fold-01\\2002_07_19_bi...  FDDB-fold-01  -39   \n",
       "4  ../data/dataset_360/FDDB-fold-01\\2002_07_19_bi...  FDDB-fold-01   41   \n",
       "\n",
       "   theta       r_h                                              faces  \n",
       "0     78  0.994500  [[(320, 114), (374, 112), (427, 116), (328, 15...  \n",
       "1   -142  0.523074  [[(1138, 357), (1152, 357), (1166, 356), (1138...  \n",
       "2   -103  0.695416  [[(941, 453), (965, 457), (990, 459), (932, 47...  \n",
       "3    -95  0.616609  [[(940, 144), (975, 143), (1010, 144), (945, 1...  \n",
       "4    132  0.556615  [[(149, 430), (170, 431), (190, 431), (147, 45...  "
      ]
     },
     "execution_count": 27,
     "metadata": {},
     "output_type": "execute_result"
    }
   ],
   "source": [
    "dataset360.head()"
   ]
  },
  {
   "cell_type": "code",
   "execution_count": 28,
   "metadata": {},
   "outputs": [],
   "source": [
    "dataset360.to_pickle('../dataframes/dataset360.pkl')"
   ]
  },
  {
   "cell_type": "markdown",
   "metadata": {},
   "source": [
    "## Dataset Analysis"
   ]
  },
  {
   "cell_type": "code",
   "execution_count": null,
   "metadata": {},
   "outputs": [],
   "source": []
  }
 ],
 "metadata": {
  "kernelspec": {
   "display_name": "Python 3",
   "language": "python",
   "name": "python3"
  },
  "language_info": {
   "codemirror_mode": {
    "name": "ipython",
    "version": 3
   },
   "file_extension": ".py",
   "mimetype": "text/x-python",
   "name": "python",
   "nbconvert_exporter": "python",
   "pygments_lexer": "ipython3",
   "version": "3.8.3"
  }
 },
 "nbformat": 4,
 "nbformat_minor": 4
}
