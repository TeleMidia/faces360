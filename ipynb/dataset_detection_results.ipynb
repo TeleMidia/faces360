{
 "cells": [
  {
   "cell_type": "code",
   "execution_count": 1,
   "metadata": {},
   "outputs": [
    {
     "name": "stderr",
     "output_type": "stream",
     "text": [
      "C:\\Users\\paulo\\anaconda3\\envs\\faces\\lib\\site-packages\\tqdm\\std.py:668: FutureWarning: The Panel class is removed from pandas. Accessing it from the top-level namespace will also be removed in the next version\n",
      "  from pandas import Panel\n",
      "Using TensorFlow backend.\n"
     ]
    }
   ],
   "source": [
    "import sys\n",
    "import numpy as np\n",
    "sys.path.append('../')\n",
    "\n",
    "import pandas as pd\n",
    "from tqdm.notebook import tqdm\n",
    "tqdm.pandas()\n",
    "\n",
    "from mtcnn_torch import MTCNN_Torch\n",
    "from faces_viewport import MTCNN_tf, ViewportsFaceDetector"
   ]
  },
  {
   "cell_type": "code",
   "execution_count": 2,
   "metadata": {},
   "outputs": [
    {
     "data": {
      "text/html": [
       "<div>\n",
       "<style scoped>\n",
       "    .dataframe tbody tr th:only-of-type {\n",
       "        vertical-align: middle;\n",
       "    }\n",
       "\n",
       "    .dataframe tbody tr th {\n",
       "        vertical-align: top;\n",
       "    }\n",
       "\n",
       "    .dataframe thead th {\n",
       "        text-align: right;\n",
       "    }\n",
       "</style>\n",
       "<table border=\"1\" class=\"dataframe\">\n",
       "  <thead>\n",
       "    <tr style=\"text-align: right;\">\n",
       "      <th></th>\n",
       "      <th>image_path</th>\n",
       "      <th>metadata</th>\n",
       "      <th>fold</th>\n",
       "      <th>phi</th>\n",
       "      <th>theta</th>\n",
       "      <th>r_h</th>\n",
       "      <th>faces</th>\n",
       "      <th>circular_perimeter_faces</th>\n",
       "      <th>detectionsViewD_3</th>\n",
       "      <th>detectionsViewD_4</th>\n",
       "      <th>detectionsViewD_5</th>\n",
       "      <th>detectionsViewD_6</th>\n",
       "      <th>detectionsViewD_7</th>\n",
       "      <th>detectionsViewD_8</th>\n",
       "      <th>detectionsViewD_9</th>\n",
       "      <th>detectionsViewD_10</th>\n",
       "      <th>detections_sphere_mtcnn</th>\n",
       "    </tr>\n",
       "  </thead>\n",
       "  <tbody>\n",
       "    <tr>\n",
       "      <th>0</th>\n",
       "      <td>../data/dataset_360/FDDB-fold-01\\2002_07_19_bi...</td>\n",
       "      <td>../data/dataset_360/FDDB-fold-01\\2002_07_19_bi...</td>\n",
       "      <td>FDDB-fold-01</td>\n",
       "      <td>35</td>\n",
       "      <td>-123</td>\n",
       "      <td>-1</td>\n",
       "      <td>[[(1056, 367), (1083, 368), (1110, 366), (1053...</td>\n",
       "      <td>[[(1056, 367), (1083, 368), (1110, 366), (1114...</td>\n",
       "      <td>[[(1054, 375), (1081, 375), (1108, 374), (1108...</td>\n",
       "      <td>[[(1059, 375), (1085, 377), (1112, 377), (1111...</td>\n",
       "      <td>[[(1056, 373), (1083, 376), (1112, 378), (1111...</td>\n",
       "      <td>[[(1054, 377), (1080, 377), (1106, 376), (1110...</td>\n",
       "      <td>[[(1043, 380), (1070, 378), (1095, 376), (1106...</td>\n",
       "      <td>[[(1059, 375), (1085, 377), (1112, 377), (1111...</td>\n",
       "      <td>[[(1048, 381), (1072, 379), (1093, 376), (1105...</td>\n",
       "      <td>[[(1050, 380), (1076, 379), (1101, 376), (1108...</td>\n",
       "      <td>[]</td>\n",
       "    </tr>\n",
       "    <tr>\n",
       "      <th>1</th>\n",
       "      <td>../data/dataset_360/FDDB-fold-01\\2002_07_19_bi...</td>\n",
       "      <td>../data/dataset_360/FDDB-fold-01\\2002_07_19_bi...</td>\n",
       "      <td>FDDB-fold-01</td>\n",
       "      <td>85</td>\n",
       "      <td>-142</td>\n",
       "      <td>-1</td>\n",
       "      <td>[[(1118, 537), (1174, 537), (1225, 530), (1100...</td>\n",
       "      <td>[[(1118, 537), (1174, 537), (1225, 530), (1269...</td>\n",
       "      <td>[[(1078, 552), (1143, 547), (1195, 535), (1245...</td>\n",
       "      <td>[[(1112, 546), (1162, 544), (1209, 538), (1249...</td>\n",
       "      <td>[[(1122, 544), (1174, 544), (1223, 539), (1260...</td>\n",
       "      <td>[[(1132, 540), (1189, 542), (1243, 537), (1275...</td>\n",
       "      <td>[[(1137, 545), (1191, 547), (1246, 544), (1276...</td>\n",
       "      <td>[[(1130, 554), (1195, 559), (1259, 555), (12, ...</td>\n",
       "      <td>[[(1099, 566), (1173, 566), (1241, 558), (3, 5...</td>\n",
       "      <td>[[(1143, 541), (1198, 546), (1256, 545), (1, 5...</td>\n",
       "      <td>[]</td>\n",
       "    </tr>\n",
       "    <tr>\n",
       "      <th>2</th>\n",
       "      <td>../data/dataset_360/FDDB-fold-01\\2002_07_19_bi...</td>\n",
       "      <td>../data/dataset_360/FDDB-fold-01\\2002_07_19_bi...</td>\n",
       "      <td>FDDB-fold-01</td>\n",
       "      <td>-52</td>\n",
       "      <td>-81</td>\n",
       "      <td>-1</td>\n",
       "      <td>[[(800, 120), (843, 110), (894, 104), (824, 15...</td>\n",
       "      <td>[[(800, 120), (843, 110), (894, 104), (901, 13...</td>\n",
       "      <td>[[(815, 119), (860, 117), (904, 120), (895, 14...</td>\n",
       "      <td>[[(803, 135), (834, 122), (876, 112), (892, 13...</td>\n",
       "      <td>[[(818, 134), (854, 129), (896, 127), (896, 14...</td>\n",
       "      <td>[[(803, 135), (834, 122), (876, 112), (892, 13...</td>\n",
       "      <td>[[(917, 91), (978, 95), (1031, 106), (1017, 12...</td>\n",
       "      <td>[[(811, 126), (855, 121), (901, 121), (897, 14...</td>\n",
       "      <td>[[(802, 128), (840, 118), (886, 112), (893, 14...</td>\n",
       "      <td>[[(818, 134), (854, 129), (896, 127), (896, 14...</td>\n",
       "      <td>[]</td>\n",
       "    </tr>\n",
       "    <tr>\n",
       "      <th>3</th>\n",
       "      <td>../data/dataset_360/FDDB-fold-01\\2002_07_19_bi...</td>\n",
       "      <td>../data/dataset_360/FDDB-fold-01\\2002_07_19_bi...</td>\n",
       "      <td>FDDB-fold-01</td>\n",
       "      <td>-16</td>\n",
       "      <td>36</td>\n",
       "      <td>-1</td>\n",
       "      <td>[[(462, 198), (509, 196), (556, 197), (466, 25...</td>\n",
       "      <td>[[(462, 198), (509, 196), (556, 197), (552, 25...</td>\n",
       "      <td>[[(456, 214), (495, 218), (530, 225), (530, 26...</td>\n",
       "      <td>[[(467, 212), (510, 213), (551, 218), (547, 25...</td>\n",
       "      <td>[[(460, 206), (506, 203), (554, 205), (550, 25...</td>\n",
       "      <td>[[(457, 211), (501, 206), (548, 205), (546, 25...</td>\n",
       "      <td>[[(467, 205), (511, 208), (551, 215), (547, 25...</td>\n",
       "      <td>[[(462, 216), (501, 209), (545, 206), (546, 25...</td>\n",
       "      <td>[[(457, 211), (498, 202), (547, 197), (549, 25...</td>\n",
       "      <td>[[(465, 209), (507, 207), (550, 209), (549, 25...</td>\n",
       "      <td>[]</td>\n",
       "    </tr>\n",
       "    <tr>\n",
       "      <th>4</th>\n",
       "      <td>../data/dataset_360/FDDB-fold-01\\2002_07_19_bi...</td>\n",
       "      <td>../data/dataset_360/FDDB-fold-01\\2002_07_19_bi...</td>\n",
       "      <td>FDDB-fold-01</td>\n",
       "      <td>-71</td>\n",
       "      <td>140</td>\n",
       "      <td>-1</td>\n",
       "      <td>[[(1100, 34), (1170, 2), (464, 31), (11, 61), ...</td>\n",
       "      <td>[[(1100, 34), (1170, 2), (464, 31), (264, 59),...</td>\n",
       "      <td>[[(1215, 51), (1264, 25), (326, 12), (244, 49)...</td>\n",
       "      <td>[[(1184, 40), (35, 15), (370, 25), (245, 57), ...</td>\n",
       "      <td>[[(1185, 31), (135, 14), (352, 32), (236, 62),...</td>\n",
       "      <td>[[(1174, 28), (170, 15), (346, 38), (234, 64),...</td>\n",
       "      <td>[[(1205, 44), (18, 19), (346, 19), (240, 55), ...</td>\n",
       "      <td>[[(1169, 23), (218, 17), (335, 43), (226, 67),...</td>\n",
       "      <td>[[(1166, 22), (227, 19), (329, 45), (222, 69),...</td>\n",
       "      <td>[[(1164, 19), (234, 19), (327, 46), (219, 69),...</td>\n",
       "      <td>erro</td>\n",
       "    </tr>\n",
       "  </tbody>\n",
       "</table>\n",
       "</div>"
      ],
      "text/plain": [
       "                                          image_path  \\\n",
       "0  ../data/dataset_360/FDDB-fold-01\\2002_07_19_bi...   \n",
       "1  ../data/dataset_360/FDDB-fold-01\\2002_07_19_bi...   \n",
       "2  ../data/dataset_360/FDDB-fold-01\\2002_07_19_bi...   \n",
       "3  ../data/dataset_360/FDDB-fold-01\\2002_07_19_bi...   \n",
       "4  ../data/dataset_360/FDDB-fold-01\\2002_07_19_bi...   \n",
       "\n",
       "                                            metadata          fold  phi  \\\n",
       "0  ../data/dataset_360/FDDB-fold-01\\2002_07_19_bi...  FDDB-fold-01   35   \n",
       "1  ../data/dataset_360/FDDB-fold-01\\2002_07_19_bi...  FDDB-fold-01   85   \n",
       "2  ../data/dataset_360/FDDB-fold-01\\2002_07_19_bi...  FDDB-fold-01  -52   \n",
       "3  ../data/dataset_360/FDDB-fold-01\\2002_07_19_bi...  FDDB-fold-01  -16   \n",
       "4  ../data/dataset_360/FDDB-fold-01\\2002_07_19_bi...  FDDB-fold-01  -71   \n",
       "\n",
       "   theta  r_h                                              faces  \\\n",
       "0   -123   -1  [[(1056, 367), (1083, 368), (1110, 366), (1053...   \n",
       "1   -142   -1  [[(1118, 537), (1174, 537), (1225, 530), (1100...   \n",
       "2    -81   -1  [[(800, 120), (843, 110), (894, 104), (824, 15...   \n",
       "3     36   -1  [[(462, 198), (509, 196), (556, 197), (466, 25...   \n",
       "4    140   -1  [[(1100, 34), (1170, 2), (464, 31), (11, 61), ...   \n",
       "\n",
       "                            circular_perimeter_faces  \\\n",
       "0  [[(1056, 367), (1083, 368), (1110, 366), (1114...   \n",
       "1  [[(1118, 537), (1174, 537), (1225, 530), (1269...   \n",
       "2  [[(800, 120), (843, 110), (894, 104), (901, 13...   \n",
       "3  [[(462, 198), (509, 196), (556, 197), (552, 25...   \n",
       "4  [[(1100, 34), (1170, 2), (464, 31), (264, 59),...   \n",
       "\n",
       "                                   detectionsViewD_3  \\\n",
       "0  [[(1054, 375), (1081, 375), (1108, 374), (1108...   \n",
       "1  [[(1078, 552), (1143, 547), (1195, 535), (1245...   \n",
       "2  [[(815, 119), (860, 117), (904, 120), (895, 14...   \n",
       "3  [[(456, 214), (495, 218), (530, 225), (530, 26...   \n",
       "4  [[(1215, 51), (1264, 25), (326, 12), (244, 49)...   \n",
       "\n",
       "                                   detectionsViewD_4  \\\n",
       "0  [[(1059, 375), (1085, 377), (1112, 377), (1111...   \n",
       "1  [[(1112, 546), (1162, 544), (1209, 538), (1249...   \n",
       "2  [[(803, 135), (834, 122), (876, 112), (892, 13...   \n",
       "3  [[(467, 212), (510, 213), (551, 218), (547, 25...   \n",
       "4  [[(1184, 40), (35, 15), (370, 25), (245, 57), ...   \n",
       "\n",
       "                                   detectionsViewD_5  \\\n",
       "0  [[(1056, 373), (1083, 376), (1112, 378), (1111...   \n",
       "1  [[(1122, 544), (1174, 544), (1223, 539), (1260...   \n",
       "2  [[(818, 134), (854, 129), (896, 127), (896, 14...   \n",
       "3  [[(460, 206), (506, 203), (554, 205), (550, 25...   \n",
       "4  [[(1185, 31), (135, 14), (352, 32), (236, 62),...   \n",
       "\n",
       "                                   detectionsViewD_6  \\\n",
       "0  [[(1054, 377), (1080, 377), (1106, 376), (1110...   \n",
       "1  [[(1132, 540), (1189, 542), (1243, 537), (1275...   \n",
       "2  [[(803, 135), (834, 122), (876, 112), (892, 13...   \n",
       "3  [[(457, 211), (501, 206), (548, 205), (546, 25...   \n",
       "4  [[(1174, 28), (170, 15), (346, 38), (234, 64),...   \n",
       "\n",
       "                                   detectionsViewD_7  \\\n",
       "0  [[(1043, 380), (1070, 378), (1095, 376), (1106...   \n",
       "1  [[(1137, 545), (1191, 547), (1246, 544), (1276...   \n",
       "2  [[(917, 91), (978, 95), (1031, 106), (1017, 12...   \n",
       "3  [[(467, 205), (511, 208), (551, 215), (547, 25...   \n",
       "4  [[(1205, 44), (18, 19), (346, 19), (240, 55), ...   \n",
       "\n",
       "                                   detectionsViewD_8  \\\n",
       "0  [[(1059, 375), (1085, 377), (1112, 377), (1111...   \n",
       "1  [[(1130, 554), (1195, 559), (1259, 555), (12, ...   \n",
       "2  [[(811, 126), (855, 121), (901, 121), (897, 14...   \n",
       "3  [[(462, 216), (501, 209), (545, 206), (546, 25...   \n",
       "4  [[(1169, 23), (218, 17), (335, 43), (226, 67),...   \n",
       "\n",
       "                                   detectionsViewD_9  \\\n",
       "0  [[(1048, 381), (1072, 379), (1093, 376), (1105...   \n",
       "1  [[(1099, 566), (1173, 566), (1241, 558), (3, 5...   \n",
       "2  [[(802, 128), (840, 118), (886, 112), (893, 14...   \n",
       "3  [[(457, 211), (498, 202), (547, 197), (549, 25...   \n",
       "4  [[(1166, 22), (227, 19), (329, 45), (222, 69),...   \n",
       "\n",
       "                                  detectionsViewD_10 detections_sphere_mtcnn  \n",
       "0  [[(1050, 380), (1076, 379), (1101, 376), (1108...                      []  \n",
       "1  [[(1143, 541), (1198, 546), (1256, 545), (1, 5...                      []  \n",
       "2  [[(818, 134), (854, 129), (896, 127), (896, 14...                      []  \n",
       "3  [[(465, 209), (507, 207), (550, 209), (549, 25...                      []  \n",
       "4  [[(1164, 19), (234, 19), (327, 46), (219, 69),...                    erro  "
      ]
     },
     "execution_count": 2,
     "metadata": {},
     "output_type": "execute_result"
    }
   ],
   "source": [
    "dataset360 = pd.read_pickle('../dataframes/dataset360_detections.pkl')\n",
    "dataset360.head()"
   ]
  },
  {
   "cell_type": "markdown",
   "metadata": {},
   "source": [
    "## MTCNN"
   ]
  },
  {
   "cell_type": "code",
   "execution_count": 3,
   "metadata": {},
   "outputs": [],
   "source": [
    "mtcnn_torch = MTCNN_Torch()\n",
    "#mtcnn_tf = MTCNN_tf(verbose = 1)"
   ]
  },
  {
   "cell_type": "code",
   "execution_count": 4,
   "metadata": {},
   "outputs": [
    {
     "data": {
      "application/vnd.jupyter.widget-view+json": {
       "model_id": "07fc48360cdf4ff0aba8cd44b194ce3f",
       "version_major": 2,
       "version_minor": 0
      },
      "text/plain": [
       "HBox(children=(FloatProgress(value=0.0, max=2845.0), HTML(value='')))"
      ]
     },
     "metadata": {},
     "output_type": "display_data"
    },
    {
     "name": "stdout",
     "output_type": "stream",
     "text": [
      "\n"
     ]
    }
   ],
   "source": [
    "detections_mtcnn = dataset360.image_path.progress_apply(lambda x: mtcnn_torch.detect_faces_polys(x)[0])"
   ]
  },
  {
   "cell_type": "code",
   "execution_count": 7,
   "metadata": {},
   "outputs": [],
   "source": [
    "dataset360['detections_mtcnn'] = detections_mtcnn"
   ]
  },
  {
   "cell_type": "code",
   "execution_count": 6,
   "metadata": {},
   "outputs": [
    {
     "data": {
      "text/html": [
       "<div>\n",
       "<style scoped>\n",
       "    .dataframe tbody tr th:only-of-type {\n",
       "        vertical-align: middle;\n",
       "    }\n",
       "\n",
       "    .dataframe tbody tr th {\n",
       "        vertical-align: top;\n",
       "    }\n",
       "\n",
       "    .dataframe thead th {\n",
       "        text-align: right;\n",
       "    }\n",
       "</style>\n",
       "<table border=\"1\" class=\"dataframe\">\n",
       "  <thead>\n",
       "    <tr style=\"text-align: right;\">\n",
       "      <th></th>\n",
       "      <th>image_path</th>\n",
       "      <th>metadata</th>\n",
       "      <th>fold</th>\n",
       "      <th>phi</th>\n",
       "      <th>theta</th>\n",
       "      <th>r_h</th>\n",
       "      <th>faces</th>\n",
       "      <th>circular_perimeter_faces</th>\n",
       "      <th>detectionsViewD_3</th>\n",
       "      <th>detectionsViewD_4</th>\n",
       "      <th>detectionsViewD_5</th>\n",
       "      <th>detectionsViewD_6</th>\n",
       "      <th>detectionsViewD_7</th>\n",
       "      <th>detectionsViewD_8</th>\n",
       "      <th>detectionsViewD_9</th>\n",
       "      <th>detectionsViewD_10</th>\n",
       "      <th>detections_sphere_mtcnn</th>\n",
       "      <th>detections_mtcnn</th>\n",
       "    </tr>\n",
       "  </thead>\n",
       "  <tbody>\n",
       "    <tr>\n",
       "      <th>0</th>\n",
       "      <td>../data/dataset_360/FDDB-fold-01\\2002_07_19_bi...</td>\n",
       "      <td>../data/dataset_360/FDDB-fold-01\\2002_07_19_bi...</td>\n",
       "      <td>FDDB-fold-01</td>\n",
       "      <td>35</td>\n",
       "      <td>-123</td>\n",
       "      <td>-1</td>\n",
       "      <td>[[(1056, 367), (1083, 368), (1110, 366), (1053...</td>\n",
       "      <td>[[(1056, 367), (1083, 368), (1110, 366), (1114...</td>\n",
       "      <td>[[(1054, 375), (1081, 375), (1108, 374), (1108...</td>\n",
       "      <td>[[(1059, 375), (1085, 377), (1112, 377), (1111...</td>\n",
       "      <td>[[(1056, 373), (1083, 376), (1112, 378), (1111...</td>\n",
       "      <td>[[(1054, 377), (1080, 377), (1106, 376), (1110...</td>\n",
       "      <td>[[(1043, 380), (1070, 378), (1095, 376), (1106...</td>\n",
       "      <td>[[(1059, 375), (1085, 377), (1112, 377), (1111...</td>\n",
       "      <td>[[(1048, 381), (1072, 379), (1093, 376), (1105...</td>\n",
       "      <td>[[(1050, 380), (1076, 379), (1101, 376), (1108...</td>\n",
       "      <td>[]</td>\n",
       "      <td>[[(1054, 377), (1111, 377), (1111, 450), (1054...</td>\n",
       "    </tr>\n",
       "    <tr>\n",
       "      <th>1</th>\n",
       "      <td>../data/dataset_360/FDDB-fold-01\\2002_07_19_bi...</td>\n",
       "      <td>../data/dataset_360/FDDB-fold-01\\2002_07_19_bi...</td>\n",
       "      <td>FDDB-fold-01</td>\n",
       "      <td>85</td>\n",
       "      <td>-142</td>\n",
       "      <td>-1</td>\n",
       "      <td>[[(1118, 537), (1174, 537), (1225, 530), (1100...</td>\n",
       "      <td>[[(1118, 537), (1174, 537), (1225, 530), (1269...</td>\n",
       "      <td>[[(1078, 552), (1143, 547), (1195, 535), (1245...</td>\n",
       "      <td>[[(1112, 546), (1162, 544), (1209, 538), (1249...</td>\n",
       "      <td>[[(1122, 544), (1174, 544), (1223, 539), (1260...</td>\n",
       "      <td>[[(1132, 540), (1189, 542), (1243, 537), (1275...</td>\n",
       "      <td>[[(1137, 545), (1191, 547), (1246, 544), (1276...</td>\n",
       "      <td>[[(1130, 554), (1195, 559), (1259, 555), (12, ...</td>\n",
       "      <td>[[(1099, 566), (1173, 566), (1241, 558), (3, 5...</td>\n",
       "      <td>[[(1143, 541), (1198, 546), (1256, 545), (1, 5...</td>\n",
       "      <td>[]</td>\n",
       "      <td>[]</td>\n",
       "    </tr>\n",
       "    <tr>\n",
       "      <th>2</th>\n",
       "      <td>../data/dataset_360/FDDB-fold-01\\2002_07_19_bi...</td>\n",
       "      <td>../data/dataset_360/FDDB-fold-01\\2002_07_19_bi...</td>\n",
       "      <td>FDDB-fold-01</td>\n",
       "      <td>-52</td>\n",
       "      <td>-81</td>\n",
       "      <td>-1</td>\n",
       "      <td>[[(800, 120), (843, 110), (894, 104), (824, 15...</td>\n",
       "      <td>[[(800, 120), (843, 110), (894, 104), (901, 13...</td>\n",
       "      <td>[[(815, 119), (860, 117), (904, 120), (895, 14...</td>\n",
       "      <td>[[(803, 135), (834, 122), (876, 112), (892, 13...</td>\n",
       "      <td>[[(818, 134), (854, 129), (896, 127), (896, 14...</td>\n",
       "      <td>[[(803, 135), (834, 122), (876, 112), (892, 13...</td>\n",
       "      <td>[[(917, 91), (978, 95), (1031, 106), (1017, 12...</td>\n",
       "      <td>[[(811, 126), (855, 121), (901, 121), (897, 14...</td>\n",
       "      <td>[[(802, 128), (840, 118), (886, 112), (893, 14...</td>\n",
       "      <td>[[(818, 134), (854, 129), (896, 127), (896, 14...</td>\n",
       "      <td>[]</td>\n",
       "      <td>[[(825, 116), (885, 116), (885, 176), (825, 17...</td>\n",
       "    </tr>\n",
       "    <tr>\n",
       "      <th>3</th>\n",
       "      <td>../data/dataset_360/FDDB-fold-01\\2002_07_19_bi...</td>\n",
       "      <td>../data/dataset_360/FDDB-fold-01\\2002_07_19_bi...</td>\n",
       "      <td>FDDB-fold-01</td>\n",
       "      <td>-16</td>\n",
       "      <td>36</td>\n",
       "      <td>-1</td>\n",
       "      <td>[[(462, 198), (509, 196), (556, 197), (466, 25...</td>\n",
       "      <td>[[(462, 198), (509, 196), (556, 197), (552, 25...</td>\n",
       "      <td>[[(456, 214), (495, 218), (530, 225), (530, 26...</td>\n",
       "      <td>[[(467, 212), (510, 213), (551, 218), (547, 25...</td>\n",
       "      <td>[[(460, 206), (506, 203), (554, 205), (550, 25...</td>\n",
       "      <td>[[(457, 211), (501, 206), (548, 205), (546, 25...</td>\n",
       "      <td>[[(467, 205), (511, 208), (551, 215), (547, 25...</td>\n",
       "      <td>[[(462, 216), (501, 209), (545, 206), (546, 25...</td>\n",
       "      <td>[[(457, 211), (498, 202), (547, 197), (549, 25...</td>\n",
       "      <td>[[(465, 209), (507, 207), (550, 209), (549, 25...</td>\n",
       "      <td>[]</td>\n",
       "      <td>[[(466, 207), (548, 207), (548, 305), (466, 30...</td>\n",
       "    </tr>\n",
       "    <tr>\n",
       "      <th>4</th>\n",
       "      <td>../data/dataset_360/FDDB-fold-01\\2002_07_19_bi...</td>\n",
       "      <td>../data/dataset_360/FDDB-fold-01\\2002_07_19_bi...</td>\n",
       "      <td>FDDB-fold-01</td>\n",
       "      <td>-71</td>\n",
       "      <td>140</td>\n",
       "      <td>-1</td>\n",
       "      <td>[[(1100, 34), (1170, 2), (464, 31), (11, 61), ...</td>\n",
       "      <td>[[(1100, 34), (1170, 2), (464, 31), (264, 59),...</td>\n",
       "      <td>[[(1215, 51), (1264, 25), (326, 12), (244, 49)...</td>\n",
       "      <td>[[(1184, 40), (35, 15), (370, 25), (245, 57), ...</td>\n",
       "      <td>[[(1185, 31), (135, 14), (352, 32), (236, 62),...</td>\n",
       "      <td>[[(1174, 28), (170, 15), (346, 38), (234, 64),...</td>\n",
       "      <td>[[(1205, 44), (18, 19), (346, 19), (240, 55), ...</td>\n",
       "      <td>[[(1169, 23), (218, 17), (335, 43), (226, 67),...</td>\n",
       "      <td>[[(1166, 22), (227, 19), (329, 45), (222, 69),...</td>\n",
       "      <td>[[(1164, 19), (234, 19), (327, 46), (219, 69),...</td>\n",
       "      <td>erro</td>\n",
       "      <td>[]</td>\n",
       "    </tr>\n",
       "  </tbody>\n",
       "</table>\n",
       "</div>"
      ],
      "text/plain": [
       "                                          image_path  \\\n",
       "0  ../data/dataset_360/FDDB-fold-01\\2002_07_19_bi...   \n",
       "1  ../data/dataset_360/FDDB-fold-01\\2002_07_19_bi...   \n",
       "2  ../data/dataset_360/FDDB-fold-01\\2002_07_19_bi...   \n",
       "3  ../data/dataset_360/FDDB-fold-01\\2002_07_19_bi...   \n",
       "4  ../data/dataset_360/FDDB-fold-01\\2002_07_19_bi...   \n",
       "\n",
       "                                            metadata          fold  phi  \\\n",
       "0  ../data/dataset_360/FDDB-fold-01\\2002_07_19_bi...  FDDB-fold-01   35   \n",
       "1  ../data/dataset_360/FDDB-fold-01\\2002_07_19_bi...  FDDB-fold-01   85   \n",
       "2  ../data/dataset_360/FDDB-fold-01\\2002_07_19_bi...  FDDB-fold-01  -52   \n",
       "3  ../data/dataset_360/FDDB-fold-01\\2002_07_19_bi...  FDDB-fold-01  -16   \n",
       "4  ../data/dataset_360/FDDB-fold-01\\2002_07_19_bi...  FDDB-fold-01  -71   \n",
       "\n",
       "   theta  r_h                                              faces  \\\n",
       "0   -123   -1  [[(1056, 367), (1083, 368), (1110, 366), (1053...   \n",
       "1   -142   -1  [[(1118, 537), (1174, 537), (1225, 530), (1100...   \n",
       "2    -81   -1  [[(800, 120), (843, 110), (894, 104), (824, 15...   \n",
       "3     36   -1  [[(462, 198), (509, 196), (556, 197), (466, 25...   \n",
       "4    140   -1  [[(1100, 34), (1170, 2), (464, 31), (11, 61), ...   \n",
       "\n",
       "                            circular_perimeter_faces  \\\n",
       "0  [[(1056, 367), (1083, 368), (1110, 366), (1114...   \n",
       "1  [[(1118, 537), (1174, 537), (1225, 530), (1269...   \n",
       "2  [[(800, 120), (843, 110), (894, 104), (901, 13...   \n",
       "3  [[(462, 198), (509, 196), (556, 197), (552, 25...   \n",
       "4  [[(1100, 34), (1170, 2), (464, 31), (264, 59),...   \n",
       "\n",
       "                                   detectionsViewD_3  \\\n",
       "0  [[(1054, 375), (1081, 375), (1108, 374), (1108...   \n",
       "1  [[(1078, 552), (1143, 547), (1195, 535), (1245...   \n",
       "2  [[(815, 119), (860, 117), (904, 120), (895, 14...   \n",
       "3  [[(456, 214), (495, 218), (530, 225), (530, 26...   \n",
       "4  [[(1215, 51), (1264, 25), (326, 12), (244, 49)...   \n",
       "\n",
       "                                   detectionsViewD_4  \\\n",
       "0  [[(1059, 375), (1085, 377), (1112, 377), (1111...   \n",
       "1  [[(1112, 546), (1162, 544), (1209, 538), (1249...   \n",
       "2  [[(803, 135), (834, 122), (876, 112), (892, 13...   \n",
       "3  [[(467, 212), (510, 213), (551, 218), (547, 25...   \n",
       "4  [[(1184, 40), (35, 15), (370, 25), (245, 57), ...   \n",
       "\n",
       "                                   detectionsViewD_5  \\\n",
       "0  [[(1056, 373), (1083, 376), (1112, 378), (1111...   \n",
       "1  [[(1122, 544), (1174, 544), (1223, 539), (1260...   \n",
       "2  [[(818, 134), (854, 129), (896, 127), (896, 14...   \n",
       "3  [[(460, 206), (506, 203), (554, 205), (550, 25...   \n",
       "4  [[(1185, 31), (135, 14), (352, 32), (236, 62),...   \n",
       "\n",
       "                                   detectionsViewD_6  \\\n",
       "0  [[(1054, 377), (1080, 377), (1106, 376), (1110...   \n",
       "1  [[(1132, 540), (1189, 542), (1243, 537), (1275...   \n",
       "2  [[(803, 135), (834, 122), (876, 112), (892, 13...   \n",
       "3  [[(457, 211), (501, 206), (548, 205), (546, 25...   \n",
       "4  [[(1174, 28), (170, 15), (346, 38), (234, 64),...   \n",
       "\n",
       "                                   detectionsViewD_7  \\\n",
       "0  [[(1043, 380), (1070, 378), (1095, 376), (1106...   \n",
       "1  [[(1137, 545), (1191, 547), (1246, 544), (1276...   \n",
       "2  [[(917, 91), (978, 95), (1031, 106), (1017, 12...   \n",
       "3  [[(467, 205), (511, 208), (551, 215), (547, 25...   \n",
       "4  [[(1205, 44), (18, 19), (346, 19), (240, 55), ...   \n",
       "\n",
       "                                   detectionsViewD_8  \\\n",
       "0  [[(1059, 375), (1085, 377), (1112, 377), (1111...   \n",
       "1  [[(1130, 554), (1195, 559), (1259, 555), (12, ...   \n",
       "2  [[(811, 126), (855, 121), (901, 121), (897, 14...   \n",
       "3  [[(462, 216), (501, 209), (545, 206), (546, 25...   \n",
       "4  [[(1169, 23), (218, 17), (335, 43), (226, 67),...   \n",
       "\n",
       "                                   detectionsViewD_9  \\\n",
       "0  [[(1048, 381), (1072, 379), (1093, 376), (1105...   \n",
       "1  [[(1099, 566), (1173, 566), (1241, 558), (3, 5...   \n",
       "2  [[(802, 128), (840, 118), (886, 112), (893, 14...   \n",
       "3  [[(457, 211), (498, 202), (547, 197), (549, 25...   \n",
       "4  [[(1166, 22), (227, 19), (329, 45), (222, 69),...   \n",
       "\n",
       "                                  detectionsViewD_10 detections_sphere_mtcnn  \\\n",
       "0  [[(1050, 380), (1076, 379), (1101, 376), (1108...                      []   \n",
       "1  [[(1143, 541), (1198, 546), (1256, 545), (1, 5...                      []   \n",
       "2  [[(818, 134), (854, 129), (896, 127), (896, 14...                      []   \n",
       "3  [[(465, 209), (507, 207), (550, 209), (549, 25...                      []   \n",
       "4  [[(1164, 19), (234, 19), (327, 46), (219, 69),...                    erro   \n",
       "\n",
       "                                    detections_mtcnn  \n",
       "0  [[(1054, 377), (1111, 377), (1111, 450), (1054...  \n",
       "1                                                 []  \n",
       "2  [[(825, 116), (885, 116), (885, 176), (825, 17...  \n",
       "3  [[(466, 207), (548, 207), (548, 305), (466, 30...  \n",
       "4                                                 []  "
      ]
     },
     "execution_count": 6,
     "metadata": {},
     "output_type": "execute_result"
    }
   ],
   "source": [
    "dataset360.head()"
   ]
  },
  {
   "cell_type": "code",
   "execution_count": 8,
   "metadata": {},
   "outputs": [],
   "source": [
    "dataset360.to_pickle('../dataframes/dataset360_detections.pkl')"
   ]
  },
  {
   "cell_type": "markdown",
   "metadata": {},
   "source": [
    "## Viewports MTCNN"
   ]
  },
  {
   "cell_type": "code",
   "execution_count": 12,
   "metadata": {},
   "outputs": [],
   "source": [
    "dataset360 = pd.read_pickle('../dataframes/dataset360_detections.pkl')"
   ]
  },
  {
   "cell_type": "code",
   "execution_count": 16,
   "metadata": {},
   "outputs": [
    {
     "data": {
      "application/vnd.jupyter.widget-view+json": {
       "model_id": "ddb32f0a847a47b69b2fea6870e80076",
       "version_major": 2,
       "version_minor": 0
      },
      "text/plain": [
       "HBox(children=(FloatProgress(value=0.0, max=2845.0), HTML(value='')))"
      ]
     },
     "metadata": {},
     "output_type": "display_data"
    },
    {
     "name": "stdout",
     "output_type": "stream",
     "text": [
      "\n"
     ]
    },
    {
     "data": {
      "application/vnd.jupyter.widget-view+json": {
       "model_id": "51cba583c2a94dbf912e5036b12fa316",
       "version_major": 2,
       "version_minor": 0
      },
      "text/plain": [
       "HBox(children=(FloatProgress(value=0.0, max=2845.0), HTML(value='')))"
      ]
     },
     "metadata": {},
     "output_type": "display_data"
    },
    {
     "name": "stdout",
     "output_type": "stream",
     "text": [
      "\n"
     ]
    },
    {
     "data": {
      "application/vnd.jupyter.widget-view+json": {
       "model_id": "71ee1a0b73294285a00ab98d6908f6b0",
       "version_major": 2,
       "version_minor": 0
      },
      "text/plain": [
       "HBox(children=(FloatProgress(value=0.0, max=2845.0), HTML(value='')))"
      ]
     },
     "metadata": {},
     "output_type": "display_data"
    },
    {
     "name": "stdout",
     "output_type": "stream",
     "text": [
      "\n"
     ]
    },
    {
     "data": {
      "application/vnd.jupyter.widget-view+json": {
       "model_id": "7cc546843c8942dd97d52562f252e626",
       "version_major": 2,
       "version_minor": 0
      },
      "text/plain": [
       "HBox(children=(FloatProgress(value=0.0, max=2845.0), HTML(value='')))"
      ]
     },
     "metadata": {},
     "output_type": "display_data"
    },
    {
     "name": "stdout",
     "output_type": "stream",
     "text": [
      "\n"
     ]
    },
    {
     "data": {
      "application/vnd.jupyter.widget-view+json": {
       "model_id": "debca7f79b994f9b811b9d2a8834e8c1",
       "version_major": 2,
       "version_minor": 0
      },
      "text/plain": [
       "HBox(children=(FloatProgress(value=0.0, max=2845.0), HTML(value='')))"
      ]
     },
     "metadata": {},
     "output_type": "display_data"
    },
    {
     "name": "stdout",
     "output_type": "stream",
     "text": [
      "\n"
     ]
    },
    {
     "data": {
      "application/vnd.jupyter.widget-view+json": {
       "model_id": "1a063764821349d88393eeeeb8386177",
       "version_major": 2,
       "version_minor": 0
      },
      "text/plain": [
       "HBox(children=(FloatProgress(value=0.0, max=2845.0), HTML(value='')))"
      ]
     },
     "metadata": {},
     "output_type": "display_data"
    },
    {
     "name": "stdout",
     "output_type": "stream",
     "text": [
      "\n"
     ]
    },
    {
     "data": {
      "application/vnd.jupyter.widget-view+json": {
       "model_id": "cc2548a2f36e458ea3f39163f540055f",
       "version_major": 2,
       "version_minor": 0
      },
      "text/plain": [
       "HBox(children=(FloatProgress(value=0.0, max=2845.0), HTML(value='')))"
      ]
     },
     "metadata": {},
     "output_type": "display_data"
    },
    {
     "name": "stdout",
     "output_type": "stream",
     "text": [
      "\n"
     ]
    },
    {
     "data": {
      "application/vnd.jupyter.widget-view+json": {
       "model_id": "f8197c3070824572a0cf002afd15ac8a",
       "version_major": 2,
       "version_minor": 0
      },
      "text/plain": [
       "HBox(children=(FloatProgress(value=0.0, max=2845.0), HTML(value='')))"
      ]
     },
     "metadata": {},
     "output_type": "display_data"
    },
    {
     "name": "stdout",
     "output_type": "stream",
     "text": [
      "\n"
     ]
    }
   ],
   "source": [
    "#viewports_detector_tf = ViewportsFaceDetector(width = 200)\n",
    "\n",
    "for density in range(3, 11):\n",
    "    col_name = f'detectionsViewD_{density}'\n",
    "    \n",
    "    if col_name in dataset360.columns:\n",
    "        print('density already computed')\n",
    "        continue\n",
    "    \n",
    "    viewports_detector_torch = ViewportsFaceDetector(torch = True, width = 200, rows = density, cols = density*2)\n",
    "    detections_viewport = dataset360.image_path.progress_apply(lambda x: viewports_detector_torch.detect_faces_polys(x)[0])\n",
    "    dataset360[col_name] = detections_viewport\n",
    "    dataset360.to_pickle('../dataframes/dataset360_detections.pkl')"
   ]
  },
  {
   "cell_type": "code",
   "execution_count": 17,
   "metadata": {},
   "outputs": [
    {
     "data": {
      "text/html": [
       "<div>\n",
       "<style scoped>\n",
       "    .dataframe tbody tr th:only-of-type {\n",
       "        vertical-align: middle;\n",
       "    }\n",
       "\n",
       "    .dataframe tbody tr th {\n",
       "        vertical-align: top;\n",
       "    }\n",
       "\n",
       "    .dataframe thead th {\n",
       "        text-align: right;\n",
       "    }\n",
       "</style>\n",
       "<table border=\"1\" class=\"dataframe\">\n",
       "  <thead>\n",
       "    <tr style=\"text-align: right;\">\n",
       "      <th></th>\n",
       "      <th>image_path</th>\n",
       "      <th>metadata</th>\n",
       "      <th>fold</th>\n",
       "      <th>phi</th>\n",
       "      <th>theta</th>\n",
       "      <th>r_h</th>\n",
       "      <th>faces</th>\n",
       "      <th>circular_perimeter_faces</th>\n",
       "      <th>detectionsViewD_3</th>\n",
       "      <th>detectionsViewD_4</th>\n",
       "      <th>detectionsViewD_5</th>\n",
       "      <th>detectionsViewD_6</th>\n",
       "      <th>detectionsViewD_7</th>\n",
       "      <th>detectionsViewD_8</th>\n",
       "      <th>detectionsViewD_9</th>\n",
       "      <th>detectionsViewD_10</th>\n",
       "    </tr>\n",
       "  </thead>\n",
       "  <tbody>\n",
       "    <tr>\n",
       "      <th>0</th>\n",
       "      <td>../data/dataset_360/FDDB-fold-01\\2002_07_19_bi...</td>\n",
       "      <td>../data/dataset_360/FDDB-fold-01\\2002_07_19_bi...</td>\n",
       "      <td>FDDB-fold-01</td>\n",
       "      <td>35</td>\n",
       "      <td>-123</td>\n",
       "      <td>-1</td>\n",
       "      <td>[[(1056, 367), (1083, 368), (1110, 366), (1053...</td>\n",
       "      <td>[[(1056, 367), (1083, 368), (1110, 366), (1114...</td>\n",
       "      <td>[[(1054, 375), (1081, 375), (1108, 374), (1108...</td>\n",
       "      <td>[[(1059, 375), (1085, 377), (1112, 377), (1111...</td>\n",
       "      <td>[[(1056, 373), (1083, 376), (1112, 378), (1111...</td>\n",
       "      <td>[[(1054, 377), (1080, 377), (1106, 376), (1110...</td>\n",
       "      <td>[[(1043, 380), (1070, 378), (1095, 376), (1106...</td>\n",
       "      <td>[[(1059, 375), (1085, 377), (1112, 377), (1111...</td>\n",
       "      <td>[[(1048, 381), (1072, 379), (1093, 376), (1105...</td>\n",
       "      <td>[[(1050, 380), (1076, 379), (1101, 376), (1108...</td>\n",
       "    </tr>\n",
       "    <tr>\n",
       "      <th>1</th>\n",
       "      <td>../data/dataset_360/FDDB-fold-01\\2002_07_19_bi...</td>\n",
       "      <td>../data/dataset_360/FDDB-fold-01\\2002_07_19_bi...</td>\n",
       "      <td>FDDB-fold-01</td>\n",
       "      <td>85</td>\n",
       "      <td>-142</td>\n",
       "      <td>-1</td>\n",
       "      <td>[[(1118, 537), (1174, 537), (1225, 530), (1100...</td>\n",
       "      <td>[[(1118, 537), (1174, 537), (1225, 530), (1269...</td>\n",
       "      <td>[[(1078, 552), (1143, 547), (1195, 535), (1245...</td>\n",
       "      <td>[[(1112, 546), (1162, 544), (1209, 538), (1249...</td>\n",
       "      <td>[[(1122, 544), (1174, 544), (1223, 539), (1260...</td>\n",
       "      <td>[[(1132, 540), (1189, 542), (1243, 537), (1275...</td>\n",
       "      <td>[[(1137, 545), (1191, 547), (1246, 544), (1276...</td>\n",
       "      <td>[[(1130, 554), (1195, 559), (1259, 555), (12, ...</td>\n",
       "      <td>[[(1099, 566), (1173, 566), (1241, 558), (3, 5...</td>\n",
       "      <td>[[(1143, 541), (1198, 546), (1256, 545), (1, 5...</td>\n",
       "    </tr>\n",
       "    <tr>\n",
       "      <th>2</th>\n",
       "      <td>../data/dataset_360/FDDB-fold-01\\2002_07_19_bi...</td>\n",
       "      <td>../data/dataset_360/FDDB-fold-01\\2002_07_19_bi...</td>\n",
       "      <td>FDDB-fold-01</td>\n",
       "      <td>-52</td>\n",
       "      <td>-81</td>\n",
       "      <td>-1</td>\n",
       "      <td>[[(800, 120), (843, 110), (894, 104), (824, 15...</td>\n",
       "      <td>[[(800, 120), (843, 110), (894, 104), (901, 13...</td>\n",
       "      <td>[[(815, 119), (860, 117), (904, 120), (895, 14...</td>\n",
       "      <td>[[(803, 135), (834, 122), (876, 112), (892, 13...</td>\n",
       "      <td>[[(818, 134), (854, 129), (896, 127), (896, 14...</td>\n",
       "      <td>[[(803, 135), (834, 122), (876, 112), (892, 13...</td>\n",
       "      <td>[[(917, 91), (978, 95), (1031, 106), (1017, 12...</td>\n",
       "      <td>[[(811, 126), (855, 121), (901, 121), (897, 14...</td>\n",
       "      <td>[[(802, 128), (840, 118), (886, 112), (893, 14...</td>\n",
       "      <td>[[(818, 134), (854, 129), (896, 127), (896, 14...</td>\n",
       "    </tr>\n",
       "    <tr>\n",
       "      <th>3</th>\n",
       "      <td>../data/dataset_360/FDDB-fold-01\\2002_07_19_bi...</td>\n",
       "      <td>../data/dataset_360/FDDB-fold-01\\2002_07_19_bi...</td>\n",
       "      <td>FDDB-fold-01</td>\n",
       "      <td>-16</td>\n",
       "      <td>36</td>\n",
       "      <td>-1</td>\n",
       "      <td>[[(462, 198), (509, 196), (556, 197), (466, 25...</td>\n",
       "      <td>[[(462, 198), (509, 196), (556, 197), (552, 25...</td>\n",
       "      <td>[[(456, 214), (495, 218), (530, 225), (530, 26...</td>\n",
       "      <td>[[(467, 212), (510, 213), (551, 218), (547, 25...</td>\n",
       "      <td>[[(460, 206), (506, 203), (554, 205), (550, 25...</td>\n",
       "      <td>[[(457, 211), (501, 206), (548, 205), (546, 25...</td>\n",
       "      <td>[[(467, 205), (511, 208), (551, 215), (547, 25...</td>\n",
       "      <td>[[(462, 216), (501, 209), (545, 206), (546, 25...</td>\n",
       "      <td>[[(457, 211), (498, 202), (547, 197), (549, 25...</td>\n",
       "      <td>[[(465, 209), (507, 207), (550, 209), (549, 25...</td>\n",
       "    </tr>\n",
       "    <tr>\n",
       "      <th>4</th>\n",
       "      <td>../data/dataset_360/FDDB-fold-01\\2002_07_19_bi...</td>\n",
       "      <td>../data/dataset_360/FDDB-fold-01\\2002_07_19_bi...</td>\n",
       "      <td>FDDB-fold-01</td>\n",
       "      <td>-71</td>\n",
       "      <td>140</td>\n",
       "      <td>-1</td>\n",
       "      <td>[[(1100, 34), (1170, 2), (464, 31), (11, 61), ...</td>\n",
       "      <td>[[(1100, 34), (1170, 2), (464, 31), (264, 59),...</td>\n",
       "      <td>[[(1215, 51), (1264, 25), (326, 12), (244, 49)...</td>\n",
       "      <td>[[(1184, 40), (35, 15), (370, 25), (245, 57), ...</td>\n",
       "      <td>[[(1185, 31), (135, 14), (352, 32), (236, 62),...</td>\n",
       "      <td>[[(1174, 28), (170, 15), (346, 38), (234, 64),...</td>\n",
       "      <td>[[(1205, 44), (18, 19), (346, 19), (240, 55), ...</td>\n",
       "      <td>[[(1169, 23), (218, 17), (335, 43), (226, 67),...</td>\n",
       "      <td>[[(1166, 22), (227, 19), (329, 45), (222, 69),...</td>\n",
       "      <td>[[(1164, 19), (234, 19), (327, 46), (219, 69),...</td>\n",
       "    </tr>\n",
       "  </tbody>\n",
       "</table>\n",
       "</div>"
      ],
      "text/plain": [
       "                                          image_path  \\\n",
       "0  ../data/dataset_360/FDDB-fold-01\\2002_07_19_bi...   \n",
       "1  ../data/dataset_360/FDDB-fold-01\\2002_07_19_bi...   \n",
       "2  ../data/dataset_360/FDDB-fold-01\\2002_07_19_bi...   \n",
       "3  ../data/dataset_360/FDDB-fold-01\\2002_07_19_bi...   \n",
       "4  ../data/dataset_360/FDDB-fold-01\\2002_07_19_bi...   \n",
       "\n",
       "                                            metadata          fold  phi  \\\n",
       "0  ../data/dataset_360/FDDB-fold-01\\2002_07_19_bi...  FDDB-fold-01   35   \n",
       "1  ../data/dataset_360/FDDB-fold-01\\2002_07_19_bi...  FDDB-fold-01   85   \n",
       "2  ../data/dataset_360/FDDB-fold-01\\2002_07_19_bi...  FDDB-fold-01  -52   \n",
       "3  ../data/dataset_360/FDDB-fold-01\\2002_07_19_bi...  FDDB-fold-01  -16   \n",
       "4  ../data/dataset_360/FDDB-fold-01\\2002_07_19_bi...  FDDB-fold-01  -71   \n",
       "\n",
       "   theta  r_h                                              faces  \\\n",
       "0   -123   -1  [[(1056, 367), (1083, 368), (1110, 366), (1053...   \n",
       "1   -142   -1  [[(1118, 537), (1174, 537), (1225, 530), (1100...   \n",
       "2    -81   -1  [[(800, 120), (843, 110), (894, 104), (824, 15...   \n",
       "3     36   -1  [[(462, 198), (509, 196), (556, 197), (466, 25...   \n",
       "4    140   -1  [[(1100, 34), (1170, 2), (464, 31), (11, 61), ...   \n",
       "\n",
       "                            circular_perimeter_faces  \\\n",
       "0  [[(1056, 367), (1083, 368), (1110, 366), (1114...   \n",
       "1  [[(1118, 537), (1174, 537), (1225, 530), (1269...   \n",
       "2  [[(800, 120), (843, 110), (894, 104), (901, 13...   \n",
       "3  [[(462, 198), (509, 196), (556, 197), (552, 25...   \n",
       "4  [[(1100, 34), (1170, 2), (464, 31), (264, 59),...   \n",
       "\n",
       "                                   detectionsViewD_3  \\\n",
       "0  [[(1054, 375), (1081, 375), (1108, 374), (1108...   \n",
       "1  [[(1078, 552), (1143, 547), (1195, 535), (1245...   \n",
       "2  [[(815, 119), (860, 117), (904, 120), (895, 14...   \n",
       "3  [[(456, 214), (495, 218), (530, 225), (530, 26...   \n",
       "4  [[(1215, 51), (1264, 25), (326, 12), (244, 49)...   \n",
       "\n",
       "                                   detectionsViewD_4  \\\n",
       "0  [[(1059, 375), (1085, 377), (1112, 377), (1111...   \n",
       "1  [[(1112, 546), (1162, 544), (1209, 538), (1249...   \n",
       "2  [[(803, 135), (834, 122), (876, 112), (892, 13...   \n",
       "3  [[(467, 212), (510, 213), (551, 218), (547, 25...   \n",
       "4  [[(1184, 40), (35, 15), (370, 25), (245, 57), ...   \n",
       "\n",
       "                                   detectionsViewD_5  \\\n",
       "0  [[(1056, 373), (1083, 376), (1112, 378), (1111...   \n",
       "1  [[(1122, 544), (1174, 544), (1223, 539), (1260...   \n",
       "2  [[(818, 134), (854, 129), (896, 127), (896, 14...   \n",
       "3  [[(460, 206), (506, 203), (554, 205), (550, 25...   \n",
       "4  [[(1185, 31), (135, 14), (352, 32), (236, 62),...   \n",
       "\n",
       "                                   detectionsViewD_6  \\\n",
       "0  [[(1054, 377), (1080, 377), (1106, 376), (1110...   \n",
       "1  [[(1132, 540), (1189, 542), (1243, 537), (1275...   \n",
       "2  [[(803, 135), (834, 122), (876, 112), (892, 13...   \n",
       "3  [[(457, 211), (501, 206), (548, 205), (546, 25...   \n",
       "4  [[(1174, 28), (170, 15), (346, 38), (234, 64),...   \n",
       "\n",
       "                                   detectionsViewD_7  \\\n",
       "0  [[(1043, 380), (1070, 378), (1095, 376), (1106...   \n",
       "1  [[(1137, 545), (1191, 547), (1246, 544), (1276...   \n",
       "2  [[(917, 91), (978, 95), (1031, 106), (1017, 12...   \n",
       "3  [[(467, 205), (511, 208), (551, 215), (547, 25...   \n",
       "4  [[(1205, 44), (18, 19), (346, 19), (240, 55), ...   \n",
       "\n",
       "                                   detectionsViewD_8  \\\n",
       "0  [[(1059, 375), (1085, 377), (1112, 377), (1111...   \n",
       "1  [[(1130, 554), (1195, 559), (1259, 555), (12, ...   \n",
       "2  [[(811, 126), (855, 121), (901, 121), (897, 14...   \n",
       "3  [[(462, 216), (501, 209), (545, 206), (546, 25...   \n",
       "4  [[(1169, 23), (218, 17), (335, 43), (226, 67),...   \n",
       "\n",
       "                                   detectionsViewD_9  \\\n",
       "0  [[(1048, 381), (1072, 379), (1093, 376), (1105...   \n",
       "1  [[(1099, 566), (1173, 566), (1241, 558), (3, 5...   \n",
       "2  [[(802, 128), (840, 118), (886, 112), (893, 14...   \n",
       "3  [[(457, 211), (498, 202), (547, 197), (549, 25...   \n",
       "4  [[(1166, 22), (227, 19), (329, 45), (222, 69),...   \n",
       "\n",
       "                                  detectionsViewD_10  \n",
       "0  [[(1050, 380), (1076, 379), (1101, 376), (1108...  \n",
       "1  [[(1143, 541), (1198, 546), (1256, 545), (1, 5...  \n",
       "2  [[(818, 134), (854, 129), (896, 127), (896, 14...  \n",
       "3  [[(465, 209), (507, 207), (550, 209), (549, 25...  \n",
       "4  [[(1164, 19), (234, 19), (327, 46), (219, 69),...  "
      ]
     },
     "execution_count": 17,
     "metadata": {},
     "output_type": "execute_result"
    }
   ],
   "source": [
    "dataset360.head()"
   ]
  },
  {
   "cell_type": "markdown",
   "metadata": {},
   "source": [
    "## Sphere Net MTCNN"
   ]
  },
  {
   "cell_type": "code",
   "execution_count": 18,
   "metadata": {},
   "outputs": [],
   "source": [
    "from sphere_mtcnn import SphereMTCNN_Torch\n",
    "\n",
    "sphere_mtcnn = SphereMTCNN_Torch()"
   ]
  },
  {
   "cell_type": "code",
   "execution_count": 19,
   "metadata": {},
   "outputs": [],
   "source": [
    "\n",
    "def sphere_aux(path):\n",
    "    try:\n",
    "        bounds = sphere_mtcnn.detect_faces_polys(path)[0]\n",
    "    except:\n",
    "        bounds = 'erro'\n",
    "    return bounds\n",
    "        "
   ]
  },
  {
   "cell_type": "code",
   "execution_count": 20,
   "metadata": {},
   "outputs": [
    {
     "data": {
      "application/vnd.jupyter.widget-view+json": {
       "model_id": "e027ba79a94e47a4be68b478359d7fca",
       "version_major": 2,
       "version_minor": 0
      },
      "text/plain": [
       "HBox(children=(FloatProgress(value=0.0, max=2845.0), HTML(value='')))"
      ]
     },
     "metadata": {},
     "output_type": "display_data"
    },
    {
     "name": "stdout",
     "output_type": "stream",
     "text": [
      "\n"
     ]
    }
   ],
   "source": [
    "detections_sphere_mtcnn = dataset360.image_path.progress_apply(sphere_aux)"
   ]
  },
  {
   "cell_type": "code",
   "execution_count": 21,
   "metadata": {},
   "outputs": [],
   "source": [
    "dataset360['detections_sphere_mtcnn'] = detections_sphere_mtcnn"
   ]
  },
  {
   "cell_type": "code",
   "execution_count": 22,
   "metadata": {},
   "outputs": [],
   "source": [
    "dataset360.to_pickle('../dataframes/dataset360_detections.pkl')"
   ]
  },
  {
   "cell_type": "code",
   "execution_count": null,
   "metadata": {},
   "outputs": [],
   "source": []
  }
 ],
 "metadata": {
  "kernelspec": {
   "display_name": "Python 3",
   "language": "python",
   "name": "python3"
  },
  "language_info": {
   "codemirror_mode": {
    "name": "ipython",
    "version": 3
   },
   "file_extension": ".py",
   "mimetype": "text/x-python",
   "name": "python",
   "nbconvert_exporter": "python",
   "pygments_lexer": "ipython3",
   "version": "3.8.3"
  }
 },
 "nbformat": 4,
 "nbformat_minor": 4
}
