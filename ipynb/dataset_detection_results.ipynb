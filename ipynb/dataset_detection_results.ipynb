{
 "cells": [
  {
   "cell_type": "code",
   "execution_count": 1,
   "metadata": {},
   "outputs": [
    {
     "name": "stderr",
     "output_type": "stream",
     "text": [
      "C:\\Users\\paulo\\anaconda3\\envs\\faces\\lib\\site-packages\\tqdm\\std.py:668: FutureWarning: The Panel class is removed from pandas. Accessing it from the top-level namespace will also be removed in the next version\n",
      "  from pandas import Panel\n",
      "Using TensorFlow backend.\n"
     ]
    }
   ],
   "source": [
    "import sys\n",
    "sys.path.append('../')\n",
    "\n",
    "import pandas as pd\n",
    "from tqdm.notebook import tqdm\n",
    "tqdm.pandas()\n",
    "\n",
    "from mtcnn_torch import MTCNN_Torch\n",
    "from faces_viewport import MTCNN_tf, ViewportsFaceDetector"
   ]
  },
  {
   "cell_type": "code",
   "execution_count": 2,
   "metadata": {},
   "outputs": [
    {
     "data": {
      "text/html": [
       "<div>\n",
       "<style scoped>\n",
       "    .dataframe tbody tr th:only-of-type {\n",
       "        vertical-align: middle;\n",
       "    }\n",
       "\n",
       "    .dataframe tbody tr th {\n",
       "        vertical-align: top;\n",
       "    }\n",
       "\n",
       "    .dataframe thead th {\n",
       "        text-align: right;\n",
       "    }\n",
       "</style>\n",
       "<table border=\"1\" class=\"dataframe\">\n",
       "  <thead>\n",
       "    <tr style=\"text-align: right;\">\n",
       "      <th></th>\n",
       "      <th>image_path</th>\n",
       "      <th>metadata</th>\n",
       "      <th>fold</th>\n",
       "      <th>phi</th>\n",
       "      <th>theta</th>\n",
       "      <th>r_h</th>\n",
       "      <th>faces</th>\n",
       "      <th>circular_perimeter_faces</th>\n",
       "    </tr>\n",
       "  </thead>\n",
       "  <tbody>\n",
       "    <tr>\n",
       "      <th>0</th>\n",
       "      <td>../data/dataset_360/FDDB-fold-01\\2002_07_19_bi...</td>\n",
       "      <td>../data/dataset_360/FDDB-fold-01\\2002_07_19_bi...</td>\n",
       "      <td>FDDB-fold-01</td>\n",
       "      <td>-35</td>\n",
       "      <td>78</td>\n",
       "      <td>0.994500</td>\n",
       "      <td>[[(320, 114), (374, 112), (427, 116), (328, 15...</td>\n",
       "      <td>[[(320, 114), (374, 112), (427, 116), (415, 15...</td>\n",
       "    </tr>\n",
       "    <tr>\n",
       "      <th>1</th>\n",
       "      <td>../data/dataset_360/FDDB-fold-01\\2002_07_19_bi...</td>\n",
       "      <td>../data/dataset_360/FDDB-fold-01\\2002_07_19_bi...</td>\n",
       "      <td>FDDB-fold-01</td>\n",
       "      <td>22</td>\n",
       "      <td>-142</td>\n",
       "      <td>0.523074</td>\n",
       "      <td>[[(1138, 357), (1152, 357), (1166, 356), (1138...</td>\n",
       "      <td>[[(1138, 357), (1152, 357), (1166, 356), (1167...</td>\n",
       "    </tr>\n",
       "    <tr>\n",
       "      <th>2</th>\n",
       "      <td>../data/dataset_360/FDDB-fold-01\\2002_07_19_bi...</td>\n",
       "      <td>../data/dataset_360/FDDB-fold-01\\2002_07_19_bi...</td>\n",
       "      <td>FDDB-fold-01</td>\n",
       "      <td>46</td>\n",
       "      <td>-103</td>\n",
       "      <td>0.695416</td>\n",
       "      <td>[[(941, 453), (965, 457), (990, 459), (932, 47...</td>\n",
       "      <td>[[(941, 453), (965, 457), (990, 459), (988, 48...</td>\n",
       "    </tr>\n",
       "    <tr>\n",
       "      <th>3</th>\n",
       "      <td>../data/dataset_360/FDDB-fold-01\\2002_07_19_bi...</td>\n",
       "      <td>../data/dataset_360/FDDB-fold-01\\2002_07_19_bi...</td>\n",
       "      <td>FDDB-fold-01</td>\n",
       "      <td>-39</td>\n",
       "      <td>-95</td>\n",
       "      <td>0.616609</td>\n",
       "      <td>[[(940, 144), (975, 143), (1010, 144), (945, 1...</td>\n",
       "      <td>[[(940, 144), (975, 143), (1010, 144), (1006, ...</td>\n",
       "    </tr>\n",
       "    <tr>\n",
       "      <th>4</th>\n",
       "      <td>../data/dataset_360/FDDB-fold-01\\2002_07_19_bi...</td>\n",
       "      <td>../data/dataset_360/FDDB-fold-01\\2002_07_19_bi...</td>\n",
       "      <td>FDDB-fold-01</td>\n",
       "      <td>41</td>\n",
       "      <td>132</td>\n",
       "      <td>0.556615</td>\n",
       "      <td>[[(149, 430), (170, 431), (190, 431), (147, 45...</td>\n",
       "      <td>[[(149, 430), (170, 431), (190, 431), (192, 45...</td>\n",
       "    </tr>\n",
       "  </tbody>\n",
       "</table>\n",
       "</div>"
      ],
      "text/plain": [
       "                                          image_path  \\\n",
       "0  ../data/dataset_360/FDDB-fold-01\\2002_07_19_bi...   \n",
       "1  ../data/dataset_360/FDDB-fold-01\\2002_07_19_bi...   \n",
       "2  ../data/dataset_360/FDDB-fold-01\\2002_07_19_bi...   \n",
       "3  ../data/dataset_360/FDDB-fold-01\\2002_07_19_bi...   \n",
       "4  ../data/dataset_360/FDDB-fold-01\\2002_07_19_bi...   \n",
       "\n",
       "                                            metadata          fold  phi  \\\n",
       "0  ../data/dataset_360/FDDB-fold-01\\2002_07_19_bi...  FDDB-fold-01  -35   \n",
       "1  ../data/dataset_360/FDDB-fold-01\\2002_07_19_bi...  FDDB-fold-01   22   \n",
       "2  ../data/dataset_360/FDDB-fold-01\\2002_07_19_bi...  FDDB-fold-01   46   \n",
       "3  ../data/dataset_360/FDDB-fold-01\\2002_07_19_bi...  FDDB-fold-01  -39   \n",
       "4  ../data/dataset_360/FDDB-fold-01\\2002_07_19_bi...  FDDB-fold-01   41   \n",
       "\n",
       "   theta       r_h                                              faces  \\\n",
       "0     78  0.994500  [[(320, 114), (374, 112), (427, 116), (328, 15...   \n",
       "1   -142  0.523074  [[(1138, 357), (1152, 357), (1166, 356), (1138...   \n",
       "2   -103  0.695416  [[(941, 453), (965, 457), (990, 459), (932, 47...   \n",
       "3    -95  0.616609  [[(940, 144), (975, 143), (1010, 144), (945, 1...   \n",
       "4    132  0.556615  [[(149, 430), (170, 431), (190, 431), (147, 45...   \n",
       "\n",
       "                            circular_perimeter_faces  \n",
       "0  [[(320, 114), (374, 112), (427, 116), (415, 15...  \n",
       "1  [[(1138, 357), (1152, 357), (1166, 356), (1167...  \n",
       "2  [[(941, 453), (965, 457), (990, 459), (988, 48...  \n",
       "3  [[(940, 144), (975, 143), (1010, 144), (1006, ...  \n",
       "4  [[(149, 430), (170, 431), (190, 431), (192, 45...  "
      ]
     },
     "execution_count": 2,
     "metadata": {},
     "output_type": "execute_result"
    }
   ],
   "source": [
    "dataset360 = pd.read_pickle('../dataframes/dataset360.pkl')\n",
    "dataset360.head()"
   ]
  },
  {
   "cell_type": "code",
   "execution_count": 3,
   "metadata": {},
   "outputs": [],
   "source": [
    "mtcnn_torch = MTCNN_Torch()\n",
    "#viewports_detector_tf = ViewportsFaceDetector(width = 200)\n",
    "viewports_detector_torch = ViewportsFaceDetector(torch = True, width = 200)\n",
    "#mtcnn_tf = MTCNN_tf(verbose = 1)"
   ]
  },
  {
   "cell_type": "code",
   "execution_count": 4,
   "metadata": {},
   "outputs": [
    {
     "data": {
      "application/vnd.jupyter.widget-view+json": {
       "model_id": "0e3bc82f600845da9dac8702b6ac2028",
       "version_major": 2,
       "version_minor": 0
      },
      "text/plain": [
       "HBox(children=(FloatProgress(value=0.0, max=2845.0), HTML(value='')))"
      ]
     },
     "metadata": {},
     "output_type": "display_data"
    },
    {
     "name": "stdout",
     "output_type": "stream",
     "text": [
      "\n"
     ]
    }
   ],
   "source": [
    "detections_mtcnn = dataset360.image_path.progress_apply(lambda x: mtcnn_torch.detect_faces_polys(x)[0])"
   ]
  },
  {
   "cell_type": "code",
   "execution_count": 5,
   "metadata": {},
   "outputs": [],
   "source": [
    "dataset360['detections_mtcnn'] = detections_mtcnn"
   ]
  },
  {
   "cell_type": "code",
   "execution_count": 6,
   "metadata": {},
   "outputs": [],
   "source": [
    "dataset360.to_pickle('../dataframes/dataset360_detections.pkl')"
   ]
  },
  {
   "cell_type": "code",
   "execution_count": 7,
   "metadata": {},
   "outputs": [
    {
     "data": {
      "text/html": [
       "<div>\n",
       "<style scoped>\n",
       "    .dataframe tbody tr th:only-of-type {\n",
       "        vertical-align: middle;\n",
       "    }\n",
       "\n",
       "    .dataframe tbody tr th {\n",
       "        vertical-align: top;\n",
       "    }\n",
       "\n",
       "    .dataframe thead th {\n",
       "        text-align: right;\n",
       "    }\n",
       "</style>\n",
       "<table border=\"1\" class=\"dataframe\">\n",
       "  <thead>\n",
       "    <tr style=\"text-align: right;\">\n",
       "      <th></th>\n",
       "      <th>image_path</th>\n",
       "      <th>metadata</th>\n",
       "      <th>fold</th>\n",
       "      <th>phi</th>\n",
       "      <th>theta</th>\n",
       "      <th>r_h</th>\n",
       "      <th>faces</th>\n",
       "      <th>circular_perimeter_faces</th>\n",
       "      <th>detections_mtcnn</th>\n",
       "    </tr>\n",
       "  </thead>\n",
       "  <tbody>\n",
       "    <tr>\n",
       "      <th>0</th>\n",
       "      <td>../data/dataset_360/FDDB-fold-01\\2002_07_19_bi...</td>\n",
       "      <td>../data/dataset_360/FDDB-fold-01\\2002_07_19_bi...</td>\n",
       "      <td>FDDB-fold-01</td>\n",
       "      <td>-35</td>\n",
       "      <td>78</td>\n",
       "      <td>0.994500</td>\n",
       "      <td>[[(320, 114), (374, 112), (427, 116), (328, 15...</td>\n",
       "      <td>[[(320, 114), (374, 112), (427, 116), (415, 15...</td>\n",
       "      <td>[[(332, 119), (402, 119), (402, 202), (332, 20...</td>\n",
       "    </tr>\n",
       "    <tr>\n",
       "      <th>1</th>\n",
       "      <td>../data/dataset_360/FDDB-fold-01\\2002_07_19_bi...</td>\n",
       "      <td>../data/dataset_360/FDDB-fold-01\\2002_07_19_bi...</td>\n",
       "      <td>FDDB-fold-01</td>\n",
       "      <td>22</td>\n",
       "      <td>-142</td>\n",
       "      <td>0.523074</td>\n",
       "      <td>[[(1138, 357), (1152, 357), (1166, 356), (1138...</td>\n",
       "      <td>[[(1138, 357), (1152, 357), (1166, 356), (1167...</td>\n",
       "      <td>[[(1140, 362), (1164, 362), (1164, 395), (1140...</td>\n",
       "    </tr>\n",
       "    <tr>\n",
       "      <th>2</th>\n",
       "      <td>../data/dataset_360/FDDB-fold-01\\2002_07_19_bi...</td>\n",
       "      <td>../data/dataset_360/FDDB-fold-01\\2002_07_19_bi...</td>\n",
       "      <td>FDDB-fold-01</td>\n",
       "      <td>46</td>\n",
       "      <td>-103</td>\n",
       "      <td>0.695416</td>\n",
       "      <td>[[(941, 453), (965, 457), (990, 459), (932, 47...</td>\n",
       "      <td>[[(941, 453), (965, 457), (990, 459), (988, 48...</td>\n",
       "      <td>[[(931, 461), (975, 461), (975, 505), (931, 50...</td>\n",
       "    </tr>\n",
       "    <tr>\n",
       "      <th>3</th>\n",
       "      <td>../data/dataset_360/FDDB-fold-01\\2002_07_19_bi...</td>\n",
       "      <td>../data/dataset_360/FDDB-fold-01\\2002_07_19_bi...</td>\n",
       "      <td>FDDB-fold-01</td>\n",
       "      <td>-39</td>\n",
       "      <td>-95</td>\n",
       "      <td>0.616609</td>\n",
       "      <td>[[(940, 144), (975, 143), (1010, 144), (945, 1...</td>\n",
       "      <td>[[(940, 144), (975, 143), (1010, 144), (1006, ...</td>\n",
       "      <td>[[(947, 147), (1000, 147), (1000, 205), (947, ...</td>\n",
       "    </tr>\n",
       "    <tr>\n",
       "      <th>4</th>\n",
       "      <td>../data/dataset_360/FDDB-fold-01\\2002_07_19_bi...</td>\n",
       "      <td>../data/dataset_360/FDDB-fold-01\\2002_07_19_bi...</td>\n",
       "      <td>FDDB-fold-01</td>\n",
       "      <td>41</td>\n",
       "      <td>132</td>\n",
       "      <td>0.556615</td>\n",
       "      <td>[[(149, 430), (170, 431), (190, 431), (147, 45...</td>\n",
       "      <td>[[(149, 430), (170, 431), (190, 431), (192, 45...</td>\n",
       "      <td>[[(150, 437), (186, 437), (186, 480), (150, 48...</td>\n",
       "    </tr>\n",
       "  </tbody>\n",
       "</table>\n",
       "</div>"
      ],
      "text/plain": [
       "                                          image_path  \\\n",
       "0  ../data/dataset_360/FDDB-fold-01\\2002_07_19_bi...   \n",
       "1  ../data/dataset_360/FDDB-fold-01\\2002_07_19_bi...   \n",
       "2  ../data/dataset_360/FDDB-fold-01\\2002_07_19_bi...   \n",
       "3  ../data/dataset_360/FDDB-fold-01\\2002_07_19_bi...   \n",
       "4  ../data/dataset_360/FDDB-fold-01\\2002_07_19_bi...   \n",
       "\n",
       "                                            metadata          fold  phi  \\\n",
       "0  ../data/dataset_360/FDDB-fold-01\\2002_07_19_bi...  FDDB-fold-01  -35   \n",
       "1  ../data/dataset_360/FDDB-fold-01\\2002_07_19_bi...  FDDB-fold-01   22   \n",
       "2  ../data/dataset_360/FDDB-fold-01\\2002_07_19_bi...  FDDB-fold-01   46   \n",
       "3  ../data/dataset_360/FDDB-fold-01\\2002_07_19_bi...  FDDB-fold-01  -39   \n",
       "4  ../data/dataset_360/FDDB-fold-01\\2002_07_19_bi...  FDDB-fold-01   41   \n",
       "\n",
       "   theta       r_h                                              faces  \\\n",
       "0     78  0.994500  [[(320, 114), (374, 112), (427, 116), (328, 15...   \n",
       "1   -142  0.523074  [[(1138, 357), (1152, 357), (1166, 356), (1138...   \n",
       "2   -103  0.695416  [[(941, 453), (965, 457), (990, 459), (932, 47...   \n",
       "3    -95  0.616609  [[(940, 144), (975, 143), (1010, 144), (945, 1...   \n",
       "4    132  0.556615  [[(149, 430), (170, 431), (190, 431), (147, 45...   \n",
       "\n",
       "                            circular_perimeter_faces  \\\n",
       "0  [[(320, 114), (374, 112), (427, 116), (415, 15...   \n",
       "1  [[(1138, 357), (1152, 357), (1166, 356), (1167...   \n",
       "2  [[(941, 453), (965, 457), (990, 459), (988, 48...   \n",
       "3  [[(940, 144), (975, 143), (1010, 144), (1006, ...   \n",
       "4  [[(149, 430), (170, 431), (190, 431), (192, 45...   \n",
       "\n",
       "                                    detections_mtcnn  \n",
       "0  [[(332, 119), (402, 119), (402, 202), (332, 20...  \n",
       "1  [[(1140, 362), (1164, 362), (1164, 395), (1140...  \n",
       "2  [[(931, 461), (975, 461), (975, 505), (931, 50...  \n",
       "3  [[(947, 147), (1000, 147), (1000, 205), (947, ...  \n",
       "4  [[(150, 437), (186, 437), (186, 480), (150, 48...  "
      ]
     },
     "execution_count": 7,
     "metadata": {},
     "output_type": "execute_result"
    }
   ],
   "source": [
    "dataset360.head()"
   ]
  },
  {
   "cell_type": "code",
   "execution_count": null,
   "metadata": {},
   "outputs": [],
   "source": []
  }
 ],
 "metadata": {
  "kernelspec": {
   "display_name": "Python 3",
   "language": "python",
   "name": "python3"
  },
  "language_info": {
   "codemirror_mode": {
    "name": "ipython",
    "version": 3
   },
   "file_extension": ".py",
   "mimetype": "text/x-python",
   "name": "python",
   "nbconvert_exporter": "python",
   "pygments_lexer": "ipython3",
   "version": "3.8.3"
  }
 },
 "nbformat": 4,
 "nbformat_minor": 4
}
