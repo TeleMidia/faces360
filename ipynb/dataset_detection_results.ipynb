{
 "cells": [
  {
   "cell_type": "code",
   "execution_count": 1,
   "metadata": {},
   "outputs": [
    {
     "name": "stderr",
     "output_type": "stream",
     "text": [
      "C:\\Users\\paulo\\anaconda3\\envs\\faces\\lib\\site-packages\\tqdm\\std.py:668: FutureWarning: The Panel class is removed from pandas. Accessing it from the top-level namespace will also be removed in the next version\n",
      "  from pandas import Panel\n",
      "Using TensorFlow backend.\n"
     ]
    }
   ],
   "source": [
    "import sys\n",
    "import numpy as np\n",
    "sys.path.append('../')\n",
    "\n",
    "import pandas as pd\n",
    "from tqdm.notebook import tqdm\n",
    "tqdm.pandas()\n",
    "\n",
    "from mtcnn_torch import MTCNN_Torch\n",
    "from faces_viewport import MTCNN_tf, ViewportsFaceDetector"
   ]
  },
  {
   "cell_type": "code",
   "execution_count": 2,
   "metadata": {},
   "outputs": [
    {
     "data": {
      "text/html": [
       "<div>\n",
       "<style scoped>\n",
       "    .dataframe tbody tr th:only-of-type {\n",
       "        vertical-align: middle;\n",
       "    }\n",
       "\n",
       "    .dataframe tbody tr th {\n",
       "        vertical-align: top;\n",
       "    }\n",
       "\n",
       "    .dataframe thead th {\n",
       "        text-align: right;\n",
       "    }\n",
       "</style>\n",
       "<table border=\"1\" class=\"dataframe\">\n",
       "  <thead>\n",
       "    <tr style=\"text-align: right;\">\n",
       "      <th></th>\n",
       "      <th>image_path</th>\n",
       "      <th>metadata</th>\n",
       "      <th>fold</th>\n",
       "      <th>phi</th>\n",
       "      <th>theta</th>\n",
       "      <th>r_h</th>\n",
       "      <th>faces</th>\n",
       "      <th>circular_perimeter_faces</th>\n",
       "    </tr>\n",
       "  </thead>\n",
       "  <tbody>\n",
       "    <tr>\n",
       "      <th>0</th>\n",
       "      <td>../data/dataset_360/FDDB-fold-01\\2002_07_19_bi...</td>\n",
       "      <td>../data/dataset_360/FDDB-fold-01\\2002_07_19_bi...</td>\n",
       "      <td>FDDB-fold-01</td>\n",
       "      <td>57</td>\n",
       "      <td>136</td>\n",
       "      <td>0.454058</td>\n",
       "      <td>[[(140, 483), (160, 483), (180, 482), (138, 50...</td>\n",
       "      <td>[[(140, 483), (160, 483), (180, 482), (184, 50...</td>\n",
       "    </tr>\n",
       "    <tr>\n",
       "      <th>1</th>\n",
       "      <td>../data/dataset_360/FDDB-fold-01\\2002_07_19_bi...</td>\n",
       "      <td>../data/dataset_360/FDDB-fold-01\\2002_07_19_bi...</td>\n",
       "      <td>FDDB-fold-01</td>\n",
       "      <td>85</td>\n",
       "      <td>-142</td>\n",
       "      <td>0.552233</td>\n",
       "      <td>[[(1122, 578), (1170, 578), (1215, 575), (1109...</td>\n",
       "      <td>[[(1122, 578), (1170, 578), (1215, 575), (1248...</td>\n",
       "    </tr>\n",
       "    <tr>\n",
       "      <th>2</th>\n",
       "      <td>../data/dataset_360/FDDB-fold-01\\2002_07_19_bi...</td>\n",
       "      <td>../data/dataset_360/FDDB-fold-01\\2002_07_19_bi...</td>\n",
       "      <td>FDDB-fold-01</td>\n",
       "      <td>-52</td>\n",
       "      <td>-81</td>\n",
       "      <td>0.462649</td>\n",
       "      <td>[[(866, 123), (889, 120), (913, 119), (872, 14...</td>\n",
       "      <td>[[(866, 123), (889, 120), (913, 119), (914, 13...</td>\n",
       "    </tr>\n",
       "    <tr>\n",
       "      <th>3</th>\n",
       "      <td>../data/dataset_360/FDDB-fold-01\\2002_07_19_bi...</td>\n",
       "      <td>../data/dataset_360/FDDB-fold-01\\2002_07_19_bi...</td>\n",
       "      <td>FDDB-fold-01</td>\n",
       "      <td>-16</td>\n",
       "      <td>36</td>\n",
       "      <td>0.551006</td>\n",
       "      <td>[[(488, 229), (510, 229), (533, 229), (489, 25...</td>\n",
       "      <td>[[(488, 229), (510, 229), (533, 229), (532, 25...</td>\n",
       "    </tr>\n",
       "    <tr>\n",
       "      <th>4</th>\n",
       "      <td>../data/dataset_360/FDDB-fold-01\\2002_07_19_bi...</td>\n",
       "      <td>../data/dataset_360/FDDB-fold-01\\2002_07_19_bi...</td>\n",
       "      <td>FDDB-fold-01</td>\n",
       "      <td>-71</td>\n",
       "      <td>140</td>\n",
       "      <td>0.552233</td>\n",
       "      <td>[[(40, 38), (137, 33), (236, 37), (79, 61), (1...</td>\n",
       "      <td>[[(40, 38), (137, 33), (236, 37), (199, 61), (...</td>\n",
       "    </tr>\n",
       "  </tbody>\n",
       "</table>\n",
       "</div>"
      ],
      "text/plain": [
       "                                          image_path  \\\n",
       "0  ../data/dataset_360/FDDB-fold-01\\2002_07_19_bi...   \n",
       "1  ../data/dataset_360/FDDB-fold-01\\2002_07_19_bi...   \n",
       "2  ../data/dataset_360/FDDB-fold-01\\2002_07_19_bi...   \n",
       "3  ../data/dataset_360/FDDB-fold-01\\2002_07_19_bi...   \n",
       "4  ../data/dataset_360/FDDB-fold-01\\2002_07_19_bi...   \n",
       "\n",
       "                                            metadata          fold  phi  \\\n",
       "0  ../data/dataset_360/FDDB-fold-01\\2002_07_19_bi...  FDDB-fold-01   57   \n",
       "1  ../data/dataset_360/FDDB-fold-01\\2002_07_19_bi...  FDDB-fold-01   85   \n",
       "2  ../data/dataset_360/FDDB-fold-01\\2002_07_19_bi...  FDDB-fold-01  -52   \n",
       "3  ../data/dataset_360/FDDB-fold-01\\2002_07_19_bi...  FDDB-fold-01  -16   \n",
       "4  ../data/dataset_360/FDDB-fold-01\\2002_07_19_bi...  FDDB-fold-01  -71   \n",
       "\n",
       "   theta       r_h                                              faces  \\\n",
       "0    136  0.454058  [[(140, 483), (160, 483), (180, 482), (138, 50...   \n",
       "1   -142  0.552233  [[(1122, 578), (1170, 578), (1215, 575), (1109...   \n",
       "2    -81  0.462649  [[(866, 123), (889, 120), (913, 119), (872, 14...   \n",
       "3     36  0.551006  [[(488, 229), (510, 229), (533, 229), (489, 25...   \n",
       "4    140  0.552233  [[(40, 38), (137, 33), (236, 37), (79, 61), (1...   \n",
       "\n",
       "                            circular_perimeter_faces  \n",
       "0  [[(140, 483), (160, 483), (180, 482), (184, 50...  \n",
       "1  [[(1122, 578), (1170, 578), (1215, 575), (1248...  \n",
       "2  [[(866, 123), (889, 120), (913, 119), (914, 13...  \n",
       "3  [[(488, 229), (510, 229), (533, 229), (532, 25...  \n",
       "4  [[(40, 38), (137, 33), (236, 37), (199, 61), (...  "
      ]
     },
     "execution_count": 2,
     "metadata": {},
     "output_type": "execute_result"
    }
   ],
   "source": [
    "dataset360 = pd.read_pickle('../dataframes/dataset360_detections.pkl')\n",
    "dataset360.head()"
   ]
  },
  {
   "cell_type": "markdown",
   "metadata": {},
   "source": [
    "## MTCNN"
   ]
  },
  {
   "cell_type": "code",
   "execution_count": 3,
   "metadata": {},
   "outputs": [],
   "source": [
    "mtcnn_torch = MTCNN_Torch()\n",
    "#mtcnn_tf = MTCNN_tf(verbose = 1)"
   ]
  },
  {
   "cell_type": "code",
   "execution_count": 4,
   "metadata": {},
   "outputs": [
    {
     "data": {
      "application/vnd.jupyter.widget-view+json": {
       "model_id": "e3f1724d525a448bb1b7ccfe98ebe973",
       "version_major": 2,
       "version_minor": 0
      },
      "text/plain": [
       "HBox(children=(FloatProgress(value=0.0, max=2845.0), HTML(value='')))"
      ]
     },
     "metadata": {},
     "output_type": "display_data"
    },
    {
     "name": "stdout",
     "output_type": "stream",
     "text": [
      "\n"
     ]
    }
   ],
   "source": [
    "detections_mtcnn = dataset360.image_path.progress_apply(lambda x: mtcnn_torch.detect_faces_polys(x)[0])"
   ]
  },
  {
   "cell_type": "code",
   "execution_count": 8,
   "metadata": {},
   "outputs": [],
   "source": [
    "dataset360['detections_mtcnn'] = detections_mtcnn"
   ]
  },
  {
   "cell_type": "code",
   "execution_count": 9,
   "metadata": {},
   "outputs": [
    {
     "data": {
      "text/html": [
       "<div>\n",
       "<style scoped>\n",
       "    .dataframe tbody tr th:only-of-type {\n",
       "        vertical-align: middle;\n",
       "    }\n",
       "\n",
       "    .dataframe tbody tr th {\n",
       "        vertical-align: top;\n",
       "    }\n",
       "\n",
       "    .dataframe thead th {\n",
       "        text-align: right;\n",
       "    }\n",
       "</style>\n",
       "<table border=\"1\" class=\"dataframe\">\n",
       "  <thead>\n",
       "    <tr style=\"text-align: right;\">\n",
       "      <th></th>\n",
       "      <th>image_path</th>\n",
       "      <th>metadata</th>\n",
       "      <th>fold</th>\n",
       "      <th>phi</th>\n",
       "      <th>theta</th>\n",
       "      <th>r_h</th>\n",
       "      <th>faces</th>\n",
       "      <th>circular_perimeter_faces</th>\n",
       "      <th>detections_mtcnn</th>\n",
       "    </tr>\n",
       "  </thead>\n",
       "  <tbody>\n",
       "    <tr>\n",
       "      <th>0</th>\n",
       "      <td>../data/dataset_360/FDDB-fold-01\\2002_07_19_bi...</td>\n",
       "      <td>../data/dataset_360/FDDB-fold-01\\2002_07_19_bi...</td>\n",
       "      <td>FDDB-fold-01</td>\n",
       "      <td>57</td>\n",
       "      <td>136</td>\n",
       "      <td>0.454058</td>\n",
       "      <td>[[(140, 483), (160, 483), (180, 482), (138, 50...</td>\n",
       "      <td>[[(140, 483), (160, 483), (180, 482), (184, 50...</td>\n",
       "      <td>[[(142, 488), (175, 488), (175, 525), (142, 52...</td>\n",
       "    </tr>\n",
       "    <tr>\n",
       "      <th>1</th>\n",
       "      <td>../data/dataset_360/FDDB-fold-01\\2002_07_19_bi...</td>\n",
       "      <td>../data/dataset_360/FDDB-fold-01\\2002_07_19_bi...</td>\n",
       "      <td>FDDB-fold-01</td>\n",
       "      <td>85</td>\n",
       "      <td>-142</td>\n",
       "      <td>0.552233</td>\n",
       "      <td>[[(1122, 578), (1170, 578), (1215, 575), (1109...</td>\n",
       "      <td>[[(1122, 578), (1170, 578), (1215, 575), (1248...</td>\n",
       "      <td>[]</td>\n",
       "    </tr>\n",
       "    <tr>\n",
       "      <th>2</th>\n",
       "      <td>../data/dataset_360/FDDB-fold-01\\2002_07_19_bi...</td>\n",
       "      <td>../data/dataset_360/FDDB-fold-01\\2002_07_19_bi...</td>\n",
       "      <td>FDDB-fold-01</td>\n",
       "      <td>-52</td>\n",
       "      <td>-81</td>\n",
       "      <td>0.462649</td>\n",
       "      <td>[[(866, 123), (889, 120), (913, 119), (872, 14...</td>\n",
       "      <td>[[(866, 123), (889, 120), (913, 119), (914, 13...</td>\n",
       "      <td>[[(924, 97), (973, 97), (973, 145), (924, 145)...</td>\n",
       "    </tr>\n",
       "    <tr>\n",
       "      <th>3</th>\n",
       "      <td>../data/dataset_360/FDDB-fold-01\\2002_07_19_bi...</td>\n",
       "      <td>../data/dataset_360/FDDB-fold-01\\2002_07_19_bi...</td>\n",
       "      <td>FDDB-fold-01</td>\n",
       "      <td>-16</td>\n",
       "      <td>36</td>\n",
       "      <td>0.551006</td>\n",
       "      <td>[[(488, 229), (510, 229), (533, 229), (489, 25...</td>\n",
       "      <td>[[(488, 229), (510, 229), (533, 229), (532, 25...</td>\n",
       "      <td>[[(489, 234), (530, 234), (530, 283), (489, 28...</td>\n",
       "    </tr>\n",
       "    <tr>\n",
       "      <th>4</th>\n",
       "      <td>../data/dataset_360/FDDB-fold-01\\2002_07_19_bi...</td>\n",
       "      <td>../data/dataset_360/FDDB-fold-01\\2002_07_19_bi...</td>\n",
       "      <td>FDDB-fold-01</td>\n",
       "      <td>-71</td>\n",
       "      <td>140</td>\n",
       "      <td>0.552233</td>\n",
       "      <td>[[(40, 38), (137, 33), (236, 37), (79, 61), (1...</td>\n",
       "      <td>[[(40, 38), (137, 33), (236, 37), (199, 61), (...</td>\n",
       "      <td>[]</td>\n",
       "    </tr>\n",
       "  </tbody>\n",
       "</table>\n",
       "</div>"
      ],
      "text/plain": [
       "                                          image_path  \\\n",
       "0  ../data/dataset_360/FDDB-fold-01\\2002_07_19_bi...   \n",
       "1  ../data/dataset_360/FDDB-fold-01\\2002_07_19_bi...   \n",
       "2  ../data/dataset_360/FDDB-fold-01\\2002_07_19_bi...   \n",
       "3  ../data/dataset_360/FDDB-fold-01\\2002_07_19_bi...   \n",
       "4  ../data/dataset_360/FDDB-fold-01\\2002_07_19_bi...   \n",
       "\n",
       "                                            metadata          fold  phi  \\\n",
       "0  ../data/dataset_360/FDDB-fold-01\\2002_07_19_bi...  FDDB-fold-01   57   \n",
       "1  ../data/dataset_360/FDDB-fold-01\\2002_07_19_bi...  FDDB-fold-01   85   \n",
       "2  ../data/dataset_360/FDDB-fold-01\\2002_07_19_bi...  FDDB-fold-01  -52   \n",
       "3  ../data/dataset_360/FDDB-fold-01\\2002_07_19_bi...  FDDB-fold-01  -16   \n",
       "4  ../data/dataset_360/FDDB-fold-01\\2002_07_19_bi...  FDDB-fold-01  -71   \n",
       "\n",
       "   theta       r_h                                              faces  \\\n",
       "0    136  0.454058  [[(140, 483), (160, 483), (180, 482), (138, 50...   \n",
       "1   -142  0.552233  [[(1122, 578), (1170, 578), (1215, 575), (1109...   \n",
       "2    -81  0.462649  [[(866, 123), (889, 120), (913, 119), (872, 14...   \n",
       "3     36  0.551006  [[(488, 229), (510, 229), (533, 229), (489, 25...   \n",
       "4    140  0.552233  [[(40, 38), (137, 33), (236, 37), (79, 61), (1...   \n",
       "\n",
       "                            circular_perimeter_faces  \\\n",
       "0  [[(140, 483), (160, 483), (180, 482), (184, 50...   \n",
       "1  [[(1122, 578), (1170, 578), (1215, 575), (1248...   \n",
       "2  [[(866, 123), (889, 120), (913, 119), (914, 13...   \n",
       "3  [[(488, 229), (510, 229), (533, 229), (532, 25...   \n",
       "4  [[(40, 38), (137, 33), (236, 37), (199, 61), (...   \n",
       "\n",
       "                                    detections_mtcnn  \n",
       "0  [[(142, 488), (175, 488), (175, 525), (142, 52...  \n",
       "1                                                 []  \n",
       "2  [[(924, 97), (973, 97), (973, 145), (924, 145)...  \n",
       "3  [[(489, 234), (530, 234), (530, 283), (489, 28...  \n",
       "4                                                 []  "
      ]
     },
     "execution_count": 9,
     "metadata": {},
     "output_type": "execute_result"
    }
   ],
   "source": [
    "dataset360.head()"
   ]
  },
  {
   "cell_type": "code",
   "execution_count": 10,
   "metadata": {},
   "outputs": [],
   "source": [
    "dataset360.to_pickle('../dataframes/dataset360_detections.pkl')"
   ]
  },
  {
   "cell_type": "markdown",
   "metadata": {},
   "source": [
    "## Viewports MTCNN"
   ]
  },
  {
   "cell_type": "code",
   "execution_count": 11,
   "metadata": {},
   "outputs": [],
   "source": [
    "dataset360 = pd.read_pickle('../dataframes/dataset360_detections.pkl')"
   ]
  },
  {
   "cell_type": "code",
   "execution_count": 12,
   "metadata": {},
   "outputs": [
    {
     "data": {
      "application/vnd.jupyter.widget-view+json": {
       "model_id": "0e4c007b4616424daf96c23190b1ad5a",
       "version_major": 2,
       "version_minor": 0
      },
      "text/plain": [
       "HBox(children=(FloatProgress(value=0.0, max=2845.0), HTML(value='')))"
      ]
     },
     "metadata": {},
     "output_type": "display_data"
    },
    {
     "name": "stdout",
     "output_type": "stream",
     "text": [
      "\n"
     ]
    },
    {
     "data": {
      "application/vnd.jupyter.widget-view+json": {
       "model_id": "6fff132ee2d146c2b4e36f99ed3cf289",
       "version_major": 2,
       "version_minor": 0
      },
      "text/plain": [
       "HBox(children=(FloatProgress(value=0.0, max=2845.0), HTML(value='')))"
      ]
     },
     "metadata": {},
     "output_type": "display_data"
    },
    {
     "name": "stdout",
     "output_type": "stream",
     "text": [
      "\n"
     ]
    },
    {
     "data": {
      "application/vnd.jupyter.widget-view+json": {
       "model_id": "6ac44f37e2b74bafaa9e1b5f9c46edff",
       "version_major": 2,
       "version_minor": 0
      },
      "text/plain": [
       "HBox(children=(FloatProgress(value=0.0, max=2845.0), HTML(value='')))"
      ]
     },
     "metadata": {},
     "output_type": "display_data"
    },
    {
     "name": "stdout",
     "output_type": "stream",
     "text": [
      "\n"
     ]
    },
    {
     "data": {
      "application/vnd.jupyter.widget-view+json": {
       "model_id": "12c1a065c01c4f0aae009566184ed411",
       "version_major": 2,
       "version_minor": 0
      },
      "text/plain": [
       "HBox(children=(FloatProgress(value=0.0, max=2845.0), HTML(value='')))"
      ]
     },
     "metadata": {},
     "output_type": "display_data"
    },
    {
     "name": "stdout",
     "output_type": "stream",
     "text": [
      "\n"
     ]
    },
    {
     "data": {
      "application/vnd.jupyter.widget-view+json": {
       "model_id": "1d4612199d274ddd910a5bf51e4a73ae",
       "version_major": 2,
       "version_minor": 0
      },
      "text/plain": [
       "HBox(children=(FloatProgress(value=0.0, max=2845.0), HTML(value='')))"
      ]
     },
     "metadata": {},
     "output_type": "display_data"
    },
    {
     "name": "stdout",
     "output_type": "stream",
     "text": [
      "\n"
     ]
    },
    {
     "data": {
      "application/vnd.jupyter.widget-view+json": {
       "model_id": "1cab481624464428af6255d429fd7bcc",
       "version_major": 2,
       "version_minor": 0
      },
      "text/plain": [
       "HBox(children=(FloatProgress(value=0.0, max=2845.0), HTML(value='')))"
      ]
     },
     "metadata": {},
     "output_type": "display_data"
    },
    {
     "name": "stdout",
     "output_type": "stream",
     "text": [
      "\n"
     ]
    },
    {
     "data": {
      "application/vnd.jupyter.widget-view+json": {
       "model_id": "c246ea1d54a045c5bcd282eea7d3f80e",
       "version_major": 2,
       "version_minor": 0
      },
      "text/plain": [
       "HBox(children=(FloatProgress(value=0.0, max=2845.0), HTML(value='')))"
      ]
     },
     "metadata": {},
     "output_type": "display_data"
    },
    {
     "name": "stdout",
     "output_type": "stream",
     "text": [
      "\n"
     ]
    },
    {
     "data": {
      "application/vnd.jupyter.widget-view+json": {
       "model_id": "ef63c6ba94ba407799731ed8ae414231",
       "version_major": 2,
       "version_minor": 0
      },
      "text/plain": [
       "HBox(children=(FloatProgress(value=0.0, max=2845.0), HTML(value='')))"
      ]
     },
     "metadata": {},
     "output_type": "display_data"
    },
    {
     "name": "stdout",
     "output_type": "stream",
     "text": [
      "\n"
     ]
    }
   ],
   "source": [
    "#viewports_detector_tf = ViewportsFaceDetector(width = 200)\n",
    "\n",
    "for density in range(3, 6):\n",
    "    col_name = f'detectionsViewD_{density}'\n",
    "    \n",
    "    if col_name in dataset360.columns:\n",
    "        print('density already computed')\n",
    "        continue\n",
    "    \n",
    "    viewports_detector_torch = ViewportsFaceDetector(torch = True, width = 200, rows = density, cols = density*2)\n",
    "    detections_viewport = dataset360.image_path.progress_apply(lambda x: viewports_detector_torch.detect_faces_polys(x)[0])\n",
    "    dataset360[col_name] = detections_viewport\n",
    "    dataset360.to_pickle('../dataframes/dataset360_detections.pkl')"
   ]
  },
  {
   "cell_type": "code",
   "execution_count": 13,
   "metadata": {},
   "outputs": [
    {
     "data": {
      "text/html": [
       "<div>\n",
       "<style scoped>\n",
       "    .dataframe tbody tr th:only-of-type {\n",
       "        vertical-align: middle;\n",
       "    }\n",
       "\n",
       "    .dataframe tbody tr th {\n",
       "        vertical-align: top;\n",
       "    }\n",
       "\n",
       "    .dataframe thead th {\n",
       "        text-align: right;\n",
       "    }\n",
       "</style>\n",
       "<table border=\"1\" class=\"dataframe\">\n",
       "  <thead>\n",
       "    <tr style=\"text-align: right;\">\n",
       "      <th></th>\n",
       "      <th>image_path</th>\n",
       "      <th>metadata</th>\n",
       "      <th>fold</th>\n",
       "      <th>phi</th>\n",
       "      <th>theta</th>\n",
       "      <th>r_h</th>\n",
       "      <th>faces</th>\n",
       "      <th>circular_perimeter_faces</th>\n",
       "      <th>detections_mtcnn</th>\n",
       "      <th>detectionsViewD_3</th>\n",
       "      <th>detectionsViewD_4</th>\n",
       "      <th>detectionsViewD_5</th>\n",
       "      <th>detectionsViewD_6</th>\n",
       "      <th>detectionsViewD_7</th>\n",
       "      <th>detectionsViewD_8</th>\n",
       "      <th>detectionsViewD_9</th>\n",
       "      <th>detectionsViewD_10</th>\n",
       "    </tr>\n",
       "  </thead>\n",
       "  <tbody>\n",
       "    <tr>\n",
       "      <th>0</th>\n",
       "      <td>../data/dataset_360/FDDB-fold-01\\2002_07_19_bi...</td>\n",
       "      <td>../data/dataset_360/FDDB-fold-01\\2002_07_19_bi...</td>\n",
       "      <td>FDDB-fold-01</td>\n",
       "      <td>57</td>\n",
       "      <td>136</td>\n",
       "      <td>0.454058</td>\n",
       "      <td>[[(140, 483), (160, 483), (180, 482), (138, 50...</td>\n",
       "      <td>[[(140, 483), (160, 483), (180, 482), (184, 50...</td>\n",
       "      <td>[[(142, 488), (175, 488), (175, 525), (142, 52...</td>\n",
       "      <td>[[(147, 487), (165, 489), (184, 491), (181, 50...</td>\n",
       "      <td>[[(141, 488), (160, 489), (179, 488), (182, 50...</td>\n",
       "      <td>[[(137, 490), (156, 489), (175, 487), (180, 50...</td>\n",
       "      <td>[[(133, 492), (152, 490), (172, 488), (179, 50...</td>\n",
       "      <td>[[(130, 492), (150, 489), (168, 486), (178, 50...</td>\n",
       "      <td>[[(132, 491), (150, 488), (168, 484), (178, 50...</td>\n",
       "      <td>[[(130, 493), (148, 490), (166, 486), (177, 50...</td>\n",
       "      <td>[[(137, 490), (155, 489), (173, 487), (179, 50...</td>\n",
       "    </tr>\n",
       "    <tr>\n",
       "      <th>1</th>\n",
       "      <td>../data/dataset_360/FDDB-fold-01\\2002_07_19_bi...</td>\n",
       "      <td>../data/dataset_360/FDDB-fold-01\\2002_07_19_bi...</td>\n",
       "      <td>FDDB-fold-01</td>\n",
       "      <td>85</td>\n",
       "      <td>-142</td>\n",
       "      <td>0.552233</td>\n",
       "      <td>[[(1122, 578), (1170, 578), (1215, 575), (1109...</td>\n",
       "      <td>[[(1122, 578), (1170, 578), (1215, 575), (1248...</td>\n",
       "      <td>[]</td>\n",
       "      <td>[[(1149, 579), (1191, 585), (1243, 589), (1229...</td>\n",
       "      <td>[[(1149, 578), (1189, 584), (1237, 588), (1222...</td>\n",
       "      <td>[[(1128, 581), (1169, 581), (1210, 579), (1234...</td>\n",
       "      <td>[[(1125, 580), (1170, 581), (1219, 580), (1237...</td>\n",
       "      <td>[[(1134, 580), (1177, 582), (1225, 581), (1242...</td>\n",
       "      <td>[[(1129, 581), (1176, 584), (1229, 584), (1238...</td>\n",
       "      <td>[[(1118, 585), (1163, 585), (1206, 582), (1232...</td>\n",
       "      <td>[[(1103, 588), (1148, 585), (1192, 581), (1228...</td>\n",
       "    </tr>\n",
       "    <tr>\n",
       "      <th>2</th>\n",
       "      <td>../data/dataset_360/FDDB-fold-01\\2002_07_19_bi...</td>\n",
       "      <td>../data/dataset_360/FDDB-fold-01\\2002_07_19_bi...</td>\n",
       "      <td>FDDB-fold-01</td>\n",
       "      <td>-52</td>\n",
       "      <td>-81</td>\n",
       "      <td>0.462649</td>\n",
       "      <td>[[(866, 123), (889, 120), (913, 119), (872, 14...</td>\n",
       "      <td>[[(866, 123), (889, 120), (913, 119), (914, 13...</td>\n",
       "      <td>[[(924, 97), (973, 97), (973, 145), (924, 145)...</td>\n",
       "      <td>[[(933, 100), (961, 106), (986, 114), (972, 12...</td>\n",
       "      <td>[[(921, 109), (946, 108), (974, 108), (972, 12...</td>\n",
       "      <td>[[(869, 125), (890, 124), (912, 125), (911, 13...</td>\n",
       "      <td>[[(921, 109), (946, 108), (974, 108), (972, 12...</td>\n",
       "      <td>[[(862, 133), (877, 127), (894, 122), (904, 13...</td>\n",
       "      <td>[[(921, 109), (946, 108), (974, 108), (972, 12...</td>\n",
       "      <td>[[(864, 130), (881, 125), (901, 119), (907, 13...</td>\n",
       "      <td>[[(921, 109), (946, 108), (974, 108), (972, 12...</td>\n",
       "    </tr>\n",
       "    <tr>\n",
       "      <th>3</th>\n",
       "      <td>../data/dataset_360/FDDB-fold-01\\2002_07_19_bi...</td>\n",
       "      <td>../data/dataset_360/FDDB-fold-01\\2002_07_19_bi...</td>\n",
       "      <td>FDDB-fold-01</td>\n",
       "      <td>-16</td>\n",
       "      <td>36</td>\n",
       "      <td>0.551006</td>\n",
       "      <td>[[(488, 229), (510, 229), (533, 229), (489, 25...</td>\n",
       "      <td>[[(488, 229), (510, 229), (533, 229), (532, 25...</td>\n",
       "      <td>[[(489, 234), (530, 234), (530, 283), (489, 28...</td>\n",
       "      <td>[[(488, 231), (510, 234), (530, 238), (530, 25...</td>\n",
       "      <td>[[(487, 232), (509, 233), (531, 235), (529, 25...</td>\n",
       "      <td>[[(486, 235), (507, 234), (528, 235), (528, 25...</td>\n",
       "      <td>[[(488, 236), (507, 235), (528, 234), (528, 25...</td>\n",
       "      <td>[[(484, 236), (504, 234), (527, 232), (528, 25...</td>\n",
       "      <td>[[(482, 236), (503, 234), (526, 232), (528, 25...</td>\n",
       "      <td>[[(485, 235), (506, 232), (527, 230), (529, 25...</td>\n",
       "      <td>[[(486, 235), (507, 234), (528, 235), (528, 25...</td>\n",
       "    </tr>\n",
       "    <tr>\n",
       "      <th>4</th>\n",
       "      <td>../data/dataset_360/FDDB-fold-01\\2002_07_19_bi...</td>\n",
       "      <td>../data/dataset_360/FDDB-fold-01\\2002_07_19_bi...</td>\n",
       "      <td>FDDB-fold-01</td>\n",
       "      <td>-71</td>\n",
       "      <td>140</td>\n",
       "      <td>0.552233</td>\n",
       "      <td>[[(40, 38), (137, 33), (236, 37), (79, 61), (1...</td>\n",
       "      <td>[[(40, 38), (137, 33), (236, 37), (199, 61), (...</td>\n",
       "      <td>[]</td>\n",
       "      <td>[[(122, 35), (182, 46), (218, 60), (177, 71), ...</td>\n",
       "      <td>[[(122, 35), (182, 46), (218, 60), (177, 71), ...</td>\n",
       "      <td>[[(47, 57), (86, 45), (151, 34), (187, 53), (2...</td>\n",
       "      <td>[[(69, 40), (143, 40), (213, 45), (184, 63), (...</td>\n",
       "      <td>[[(49, 59), (82, 46), (144, 34), (187, 50), (2...</td>\n",
       "      <td>[[(48, 54), (90, 43), (164, 34), (189, 54), (2...</td>\n",
       "      <td>[[(80, 37), (158, 41), (217, 49), (180, 66), (...</td>\n",
       "      <td>[[(47, 57), (86, 45), (151, 34), (187, 53), (2...</td>\n",
       "    </tr>\n",
       "  </tbody>\n",
       "</table>\n",
       "</div>"
      ],
      "text/plain": [
       "                                          image_path  \\\n",
       "0  ../data/dataset_360/FDDB-fold-01\\2002_07_19_bi...   \n",
       "1  ../data/dataset_360/FDDB-fold-01\\2002_07_19_bi...   \n",
       "2  ../data/dataset_360/FDDB-fold-01\\2002_07_19_bi...   \n",
       "3  ../data/dataset_360/FDDB-fold-01\\2002_07_19_bi...   \n",
       "4  ../data/dataset_360/FDDB-fold-01\\2002_07_19_bi...   \n",
       "\n",
       "                                            metadata          fold  phi  \\\n",
       "0  ../data/dataset_360/FDDB-fold-01\\2002_07_19_bi...  FDDB-fold-01   57   \n",
       "1  ../data/dataset_360/FDDB-fold-01\\2002_07_19_bi...  FDDB-fold-01   85   \n",
       "2  ../data/dataset_360/FDDB-fold-01\\2002_07_19_bi...  FDDB-fold-01  -52   \n",
       "3  ../data/dataset_360/FDDB-fold-01\\2002_07_19_bi...  FDDB-fold-01  -16   \n",
       "4  ../data/dataset_360/FDDB-fold-01\\2002_07_19_bi...  FDDB-fold-01  -71   \n",
       "\n",
       "   theta       r_h                                              faces  \\\n",
       "0    136  0.454058  [[(140, 483), (160, 483), (180, 482), (138, 50...   \n",
       "1   -142  0.552233  [[(1122, 578), (1170, 578), (1215, 575), (1109...   \n",
       "2    -81  0.462649  [[(866, 123), (889, 120), (913, 119), (872, 14...   \n",
       "3     36  0.551006  [[(488, 229), (510, 229), (533, 229), (489, 25...   \n",
       "4    140  0.552233  [[(40, 38), (137, 33), (236, 37), (79, 61), (1...   \n",
       "\n",
       "                            circular_perimeter_faces  \\\n",
       "0  [[(140, 483), (160, 483), (180, 482), (184, 50...   \n",
       "1  [[(1122, 578), (1170, 578), (1215, 575), (1248...   \n",
       "2  [[(866, 123), (889, 120), (913, 119), (914, 13...   \n",
       "3  [[(488, 229), (510, 229), (533, 229), (532, 25...   \n",
       "4  [[(40, 38), (137, 33), (236, 37), (199, 61), (...   \n",
       "\n",
       "                                    detections_mtcnn  \\\n",
       "0  [[(142, 488), (175, 488), (175, 525), (142, 52...   \n",
       "1                                                 []   \n",
       "2  [[(924, 97), (973, 97), (973, 145), (924, 145)...   \n",
       "3  [[(489, 234), (530, 234), (530, 283), (489, 28...   \n",
       "4                                                 []   \n",
       "\n",
       "                                   detectionsViewD_3  \\\n",
       "0  [[(147, 487), (165, 489), (184, 491), (181, 50...   \n",
       "1  [[(1149, 579), (1191, 585), (1243, 589), (1229...   \n",
       "2  [[(933, 100), (961, 106), (986, 114), (972, 12...   \n",
       "3  [[(488, 231), (510, 234), (530, 238), (530, 25...   \n",
       "4  [[(122, 35), (182, 46), (218, 60), (177, 71), ...   \n",
       "\n",
       "                                   detectionsViewD_4  \\\n",
       "0  [[(141, 488), (160, 489), (179, 488), (182, 50...   \n",
       "1  [[(1149, 578), (1189, 584), (1237, 588), (1222...   \n",
       "2  [[(921, 109), (946, 108), (974, 108), (972, 12...   \n",
       "3  [[(487, 232), (509, 233), (531, 235), (529, 25...   \n",
       "4  [[(122, 35), (182, 46), (218, 60), (177, 71), ...   \n",
       "\n",
       "                                   detectionsViewD_5  \\\n",
       "0  [[(137, 490), (156, 489), (175, 487), (180, 50...   \n",
       "1  [[(1128, 581), (1169, 581), (1210, 579), (1234...   \n",
       "2  [[(869, 125), (890, 124), (912, 125), (911, 13...   \n",
       "3  [[(486, 235), (507, 234), (528, 235), (528, 25...   \n",
       "4  [[(47, 57), (86, 45), (151, 34), (187, 53), (2...   \n",
       "\n",
       "                                   detectionsViewD_6  \\\n",
       "0  [[(133, 492), (152, 490), (172, 488), (179, 50...   \n",
       "1  [[(1125, 580), (1170, 581), (1219, 580), (1237...   \n",
       "2  [[(921, 109), (946, 108), (974, 108), (972, 12...   \n",
       "3  [[(488, 236), (507, 235), (528, 234), (528, 25...   \n",
       "4  [[(69, 40), (143, 40), (213, 45), (184, 63), (...   \n",
       "\n",
       "                                   detectionsViewD_7  \\\n",
       "0  [[(130, 492), (150, 489), (168, 486), (178, 50...   \n",
       "1  [[(1134, 580), (1177, 582), (1225, 581), (1242...   \n",
       "2  [[(862, 133), (877, 127), (894, 122), (904, 13...   \n",
       "3  [[(484, 236), (504, 234), (527, 232), (528, 25...   \n",
       "4  [[(49, 59), (82, 46), (144, 34), (187, 50), (2...   \n",
       "\n",
       "                                   detectionsViewD_8  \\\n",
       "0  [[(132, 491), (150, 488), (168, 484), (178, 50...   \n",
       "1  [[(1129, 581), (1176, 584), (1229, 584), (1238...   \n",
       "2  [[(921, 109), (946, 108), (974, 108), (972, 12...   \n",
       "3  [[(482, 236), (503, 234), (526, 232), (528, 25...   \n",
       "4  [[(48, 54), (90, 43), (164, 34), (189, 54), (2...   \n",
       "\n",
       "                                   detectionsViewD_9  \\\n",
       "0  [[(130, 493), (148, 490), (166, 486), (177, 50...   \n",
       "1  [[(1118, 585), (1163, 585), (1206, 582), (1232...   \n",
       "2  [[(864, 130), (881, 125), (901, 119), (907, 13...   \n",
       "3  [[(485, 235), (506, 232), (527, 230), (529, 25...   \n",
       "4  [[(80, 37), (158, 41), (217, 49), (180, 66), (...   \n",
       "\n",
       "                                  detectionsViewD_10  \n",
       "0  [[(137, 490), (155, 489), (173, 487), (179, 50...  \n",
       "1  [[(1103, 588), (1148, 585), (1192, 581), (1228...  \n",
       "2  [[(921, 109), (946, 108), (974, 108), (972, 12...  \n",
       "3  [[(486, 235), (507, 234), (528, 235), (528, 25...  \n",
       "4  [[(47, 57), (86, 45), (151, 34), (187, 53), (2...  "
      ]
     },
     "execution_count": 13,
     "metadata": {},
     "output_type": "execute_result"
    }
   ],
   "source": [
    "dataset360.head()"
   ]
  },
  {
   "cell_type": "markdown",
   "metadata": {},
   "source": [
    "## Sphere Net MTCNN"
   ]
  },
  {
   "cell_type": "code",
   "execution_count": 14,
   "metadata": {},
   "outputs": [],
   "source": [
    "from sphere_mtcnn import SphereMTCNN_Torch\n",
    "\n",
    "sphere_mtcnn = SphereMTCNN_Torch()"
   ]
  },
  {
   "cell_type": "code",
   "execution_count": 15,
   "metadata": {},
   "outputs": [],
   "source": [
    "\n",
    "def sphere_aux(path):\n",
    "    try:\n",
    "        bounds = sphere_mtcnn.detect_faces_polys(path)[0]\n",
    "    except:\n",
    "        bounds = 'erro'\n",
    "    return bounds\n",
    "        "
   ]
  },
  {
   "cell_type": "code",
   "execution_count": 16,
   "metadata": {},
   "outputs": [
    {
     "data": {
      "application/vnd.jupyter.widget-view+json": {
       "model_id": "ba58310f2d5b425f8f9b5340e2f90353",
       "version_major": 2,
       "version_minor": 0
      },
      "text/plain": [
       "HBox(children=(FloatProgress(value=0.0, max=2845.0), HTML(value='')))"
      ]
     },
     "metadata": {},
     "output_type": "display_data"
    },
    {
     "name": "stdout",
     "output_type": "stream",
     "text": [
      "\n"
     ]
    }
   ],
   "source": [
    "detections_sphere_mtcnn = dataset360.image_path.progress_apply(sphere_aux)"
   ]
  },
  {
   "cell_type": "code",
   "execution_count": 17,
   "metadata": {},
   "outputs": [],
   "source": [
    "dataset360['detections_sphere_mtcnn'] = detections_sphere_mtcnn"
   ]
  },
  {
   "cell_type": "code",
   "execution_count": 18,
   "metadata": {},
   "outputs": [],
   "source": [
    "dataset360.to_pickle('../dataframes/dataset360_detections.pkl')"
   ]
  },
  {
   "cell_type": "code",
   "execution_count": null,
   "metadata": {},
   "outputs": [],
   "source": []
  }
 ],
 "metadata": {
  "kernelspec": {
   "display_name": "Python 3",
   "language": "python",
   "name": "python3"
  },
  "language_info": {
   "codemirror_mode": {
    "name": "ipython",
    "version": 3
   },
   "file_extension": ".py",
   "mimetype": "text/x-python",
   "name": "python",
   "nbconvert_exporter": "python",
   "pygments_lexer": "ipython3",
   "version": "3.8.3"
  }
 },
 "nbformat": 4,
 "nbformat_minor": 4
}
