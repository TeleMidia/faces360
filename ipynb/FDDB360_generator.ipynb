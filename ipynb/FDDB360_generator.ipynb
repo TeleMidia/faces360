{
 "cells": [
  {
   "cell_type": "code",
   "execution_count": 1,
   "metadata": {},
   "outputs": [],
   "source": [
    "import sys, cv2, os, re, random\n",
    "sys.path.append('../')\n",
    "\n",
    "import pandas as pd\n",
    "from IPython.core.pylabtools import figsize\n",
    "from matplotlib import pyplot as plt\n",
    "from tqdm.notebook import tqdm\n",
    "from fddb_reader import *\n",
    "from equi_augmentation import *\n",
    "from utils import *\n",
    "figsize(12, 5)\n",
    "\n",
    "np.random.seed(42)"
   ]
  },
  {
   "cell_type": "code",
   "execution_count": 2,
   "metadata": {},
   "outputs": [],
   "source": [
    "def project_fddb_to_equi(image_data, back, phi, theta, r_h = 1, draw_faces = False):\n",
    "    \n",
    "    image = draw_image(image_data, draw_faces = False)\n",
    "    \n",
    "    #print(image_data)\n",
    "    \n",
    "    projected, _, projector, r_h = image_projection_to_equi(back, image, phi, theta, r_h = r_h)\n",
    "    proj_path = image_data['path'].replace('/', '_')+'.jpg'\n",
    "    \n",
    "    projected_faces = projected.copy()\n",
    "    \n",
    "    faces_points = []\n",
    "    for face in image_data['faces']:\n",
    "        \n",
    "        projected_pointsy_x = projector(get8boundingpointsy_x(face['bounding_box']))\n",
    "        projected_points = [(p[1],p[0]) for p in projected_pointsy_x]\n",
    "        faces_points.append(projected_points)\n",
    "        \n",
    "        t_left, t_center, t_right, c_left, c_right, b_left, b_center, b_right = projected_points\n",
    "        \n",
    "        projected_faces = draw_points(projected_faces, projected_points, color = (255,0,0))\n",
    "   \n",
    "    if draw_faces:\n",
    "        plt.imshow(cv2.cvtColor(projected_faces, cv2.COLOR_BGR2RGB))\n",
    "        plt.show()\n",
    "        \n",
    "    return projected, faces_points, r_h"
   ]
  },
  {
   "cell_type": "code",
   "execution_count": 3,
   "metadata": {},
   "outputs": [],
   "source": [
    "folds = get_files_folder('../data/FDDB-folds', lambda x: x.endswith('ellipseList.txt'))\n",
    "folds = [x.replace('\\\\','/') for x in folds]"
   ]
  },
  {
   "cell_type": "code",
   "execution_count": 4,
   "metadata": {},
   "outputs": [],
   "source": [
    "backs = [cv2.imread(url) for url in get_files_folder('../data/equi_backs', is_image)] ## background"
   ]
  },
  {
   "cell_type": "code",
   "execution_count": 5,
   "metadata": {},
   "outputs": [
    {
     "data": {
      "text/plain": [
       "\"\\nall_im = []\\nfor l in images:\\n    for im in l:\\n        image = cv2.imread('../data/originalPics/'+im['path']+'.jpg', cv2.IMREAD_COLOR)\\n        all_im.append(image.shape[0])\\nmax(all_im)\\n\""
      ]
     },
     "execution_count": 5,
     "metadata": {},
     "output_type": "execute_result"
    }
   ],
   "source": [
    "images = [read_fold(fold) for fold in folds]\n",
    "'''\n",
    "all_im = []\n",
    "for l in images:\n",
    "    for im in l:\n",
    "        image = cv2.imread('../data/originalPics/'+im['path']+'.jpg', cv2.IMREAD_COLOR)\n",
    "        all_im.append(image.shape[0])\n",
    "max(all_im)\n",
    "'''\n",
    "##max height in FDDB is 450"
   ]
  },
  {
   "cell_type": "code",
   "execution_count": 6,
   "metadata": {},
   "outputs": [
    {
     "data": {
      "application/vnd.jupyter.widget-view+json": {
       "model_id": "79a1187f52d74267a100c7067a1b3823",
       "version_major": 2,
       "version_minor": 0
      },
      "text/plain": [
       "HBox(children=(FloatProgress(value=0.0, max=290.0), HTML(value='')))"
      ]
     },
     "metadata": {},
     "output_type": "display_data"
    },
    {
     "name": "stdout",
     "output_type": "stream",
     "text": [
      "\n"
     ]
    },
    {
     "data": {
      "application/vnd.jupyter.widget-view+json": {
       "model_id": "da8364c73f64407caa3753eb69c2a199",
       "version_major": 2,
       "version_minor": 0
      },
      "text/plain": [
       "HBox(children=(FloatProgress(value=0.0, max=285.0), HTML(value='')))"
      ]
     },
     "metadata": {},
     "output_type": "display_data"
    },
    {
     "name": "stdout",
     "output_type": "stream",
     "text": [
      "\n"
     ]
    },
    {
     "data": {
      "application/vnd.jupyter.widget-view+json": {
       "model_id": "38f2dc1736f54615b5d20dc7a4ffa7ff",
       "version_major": 2,
       "version_minor": 0
      },
      "text/plain": [
       "HBox(children=(FloatProgress(value=0.0, max=274.0), HTML(value='')))"
      ]
     },
     "metadata": {},
     "output_type": "display_data"
    },
    {
     "name": "stdout",
     "output_type": "stream",
     "text": [
      "\n"
     ]
    },
    {
     "data": {
      "application/vnd.jupyter.widget-view+json": {
       "model_id": "216fed37dcab46a29257b6d867088c36",
       "version_major": 2,
       "version_minor": 0
      },
      "text/plain": [
       "HBox(children=(FloatProgress(value=0.0, max=302.0), HTML(value='')))"
      ]
     },
     "metadata": {},
     "output_type": "display_data"
    },
    {
     "name": "stdout",
     "output_type": "stream",
     "text": [
      "\n"
     ]
    },
    {
     "data": {
      "application/vnd.jupyter.widget-view+json": {
       "model_id": "833c8f61d63a40949c7f29eb4eb0b561",
       "version_major": 2,
       "version_minor": 0
      },
      "text/plain": [
       "HBox(children=(FloatProgress(value=0.0, max=298.0), HTML(value='')))"
      ]
     },
     "metadata": {},
     "output_type": "display_data"
    },
    {
     "name": "stdout",
     "output_type": "stream",
     "text": [
      "\n"
     ]
    },
    {
     "data": {
      "application/vnd.jupyter.widget-view+json": {
       "model_id": "abf948795e694fb581a8120864aa051e",
       "version_major": 2,
       "version_minor": 0
      },
      "text/plain": [
       "HBox(children=(FloatProgress(value=0.0, max=302.0), HTML(value='')))"
      ]
     },
     "metadata": {},
     "output_type": "display_data"
    },
    {
     "name": "stdout",
     "output_type": "stream",
     "text": [
      "\n"
     ]
    },
    {
     "data": {
      "application/vnd.jupyter.widget-view+json": {
       "model_id": "bfe34de75f2c419bbe263fbbb560a4ee",
       "version_major": 2,
       "version_minor": 0
      },
      "text/plain": [
       "HBox(children=(FloatProgress(value=0.0, max=279.0), HTML(value='')))"
      ]
     },
     "metadata": {},
     "output_type": "display_data"
    },
    {
     "name": "stdout",
     "output_type": "stream",
     "text": [
      "\n"
     ]
    },
    {
     "data": {
      "application/vnd.jupyter.widget-view+json": {
       "model_id": "5eacca11cd364b39816bf0e4c57bdb4c",
       "version_major": 2,
       "version_minor": 0
      },
      "text/plain": [
       "HBox(children=(FloatProgress(value=0.0, max=276.0), HTML(value='')))"
      ]
     },
     "metadata": {},
     "output_type": "display_data"
    },
    {
     "name": "stdout",
     "output_type": "stream",
     "text": [
      "\n"
     ]
    },
    {
     "data": {
      "application/vnd.jupyter.widget-view+json": {
       "model_id": "27f82e5419244530999d7c807f4dd6f8",
       "version_major": 2,
       "version_minor": 0
      },
      "text/plain": [
       "HBox(children=(FloatProgress(value=0.0, max=259.0), HTML(value='')))"
      ]
     },
     "metadata": {},
     "output_type": "display_data"
    },
    {
     "name": "stdout",
     "output_type": "stream",
     "text": [
      "\n"
     ]
    },
    {
     "data": {
      "application/vnd.jupyter.widget-view+json": {
       "model_id": "1356fc8adb224d2386b995960ec6400a",
       "version_major": 2,
       "version_minor": 0
      },
      "text/plain": [
       "HBox(children=(FloatProgress(value=0.0, max=280.0), HTML(value='')))"
      ]
     },
     "metadata": {},
     "output_type": "display_data"
    },
    {
     "name": "stdout",
     "output_type": "stream",
     "text": [
      "\n"
     ]
    }
   ],
   "source": [
    "dataset_path = \"../data/dataset_360\"\n",
    "\n",
    "if not os.path.exists(dataset_path):\n",
    "    os.mkdir(dataset_path)  \n",
    "for i, fold in enumerate(folds):\n",
    "    x = re.findall('FDDB-fold-\\d\\d', fold)[0]\n",
    "    path_fold = os.path.join(dataset_path, x)\n",
    "    #print(path_fold)\n",
    "    images = read_fold(fold)\n",
    "    temp_file = os.path.join(dataset_path,f'temp{i}.npy')\n",
    "    \n",
    "    if not os.path.exists(temp_file):        \n",
    "        #vec = np.random.choice(7, len(images), p=[0.05,0.18, 0.18, 0.18, 0.18, 0.18, 0.05]) #defines the vertical position\n",
    "        back_inds = np.random.choice(len(backs), len(images)) #defines the index of the background image\n",
    "        \n",
    "        temp = open(temp_file, \"wb\")\n",
    "        #np.save(temp, [vec, back_inds])\n",
    "        np.save(temp, back_inds)\n",
    "        temp.close()\n",
    "    else:\n",
    "        print('exists')\n",
    "        with open(temp_file, \"rb\") as temp:\n",
    "            #vec, back_inds = np.load(temp)\n",
    "            back_inds = np.load(temp)\n",
    "    \n",
    "    if not os.path.exists(path_fold):\n",
    "        os.mkdir(path_fold)    \n",
    "    #for image, pos, back_i in tqdm(zip(images, vec, back_inds), total = len(images)):\n",
    "    for image, back_i in tqdm(zip(images, back_inds), total = len(images)):\n",
    "        im_path = image['path'].replace('/', '_')+'.jpg'\n",
    "        proj_path = os.path.join(path_fold, im_path)\n",
    "        \n",
    "        if os.path.exists(proj_path):\n",
    "            continue\n",
    "        '''\n",
    "        base_phi = -90+pos*30 #-90 to 90\n",
    "        \n",
    "        if abs(base_phi) != 90:\n",
    "            phi = np.random.randint(base_phi-15, base_phi+15)\n",
    "        elif base_phi == -90:\n",
    "            phi = np.random.randint(base_phi, base_phi+15)\n",
    "        else:\n",
    "            phi = np.random.randint(base_phi-15, base_phi+1)\n",
    "        '''\n",
    "        phi = np.random.randint(-90, 90)\n",
    "        theta = np.random.randint(-180, 180)\n",
    "        #r_h=random.uniform(0.5, 1)\n",
    "        r_h = -1 #default height\n",
    "        proj, faces_points, r_h = project_fddb_to_equi(image, backs[back_i].copy(), np.radians(phi), np.radians(theta), r_h)\n",
    "        \n",
    "        lines = []        \n",
    "        lines.append(im_path+'\\n')\n",
    "        lines.append(f'{phi} {theta} {r_h}\\n')\n",
    "        lines.append(str(len(faces_points))+'\\n')\n",
    "        for face_points in faces_points:\n",
    "            lines.append(str(face_points)+'\\n')\n",
    "            \n",
    "        f = open(proj_path.replace('jpg','txt'), \"w\")\n",
    "        f.writelines(lines)\n",
    "        f.close()\n",
    "        \n",
    "        cv2.imwrite(proj_path, proj)\n",
    "        \n",
    "        #print(proj_path)\n",
    "        #print(phi, theta)\n",
    "    if os.path.exists(temp_file):\n",
    "        os.remove(temp_file)\n"
   ]
  },
  {
   "cell_type": "code",
   "execution_count": null,
   "metadata": {},
   "outputs": [],
   "source": []
  }
 ],
 "metadata": {
  "kernelspec": {
   "display_name": "Python 3",
   "language": "python",
   "name": "python3"
  },
  "language_info": {
   "codemirror_mode": {
    "name": "ipython",
    "version": 3
   },
   "file_extension": ".py",
   "mimetype": "text/x-python",
   "name": "python",
   "nbconvert_exporter": "python",
   "pygments_lexer": "ipython3",
   "version": "3.8.3"
  }
 },
 "nbformat": 4,
 "nbformat_minor": 4
}
