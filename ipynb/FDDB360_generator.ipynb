{
 "cells": [
  {
   "cell_type": "code",
   "execution_count": 1,
   "metadata": {},
   "outputs": [],
   "source": [
    "import sys, cv2, os, re, random\n",
    "sys.path.append('../')\n",
    "\n",
    "from IPython.core.pylabtools import figsize\n",
    "from matplotlib import pyplot as plt\n",
    "from tqdm.notebook import tqdm\n",
    "from fddb_reader import *\n",
    "from equi_augmentation import *\n",
    "from utils import *\n",
    "figsize(12, 5)\n",
    "\n",
    "np.random.seed(42)"
   ]
  },
  {
   "cell_type": "code",
   "execution_count": 2,
   "metadata": {},
   "outputs": [],
   "source": [
    "def project_fddb_to_equi(image_data, back, phi, theta, r_h = 1, draw_faces = False):\n",
    "    \n",
    "    image = draw_image(image_data, draw_faces = False)\n",
    "    \n",
    "    #print(image_data)\n",
    "    \n",
    "    projected, _, projector = image_projection_to_equi(back, image, phi, theta, r_h = r_h)\n",
    "    proj_path = image_data['path'].replace('/', '_')+'.jpg'\n",
    "    \n",
    "    projected_faces = projected.copy()\n",
    "    \n",
    "    faces_points = []\n",
    "    for face in image_data['faces']:\n",
    "        \n",
    "        projected_pointsy_x = projector(get8boundingpointsy_x(face['bounding_box']))\n",
    "        projected_points = [(p[1],p[0]) for p in projected_pointsy_x]\n",
    "        faces_points.append(projected_points)\n",
    "        \n",
    "        t_left, t_center, t_right, c_left, c_right, b_left, b_center, b_right = projected_points\n",
    "        \n",
    "        projected_faces = draw_points(projected_faces, projected_points, color = (255,0,0))\n",
    "   \n",
    "    if draw_faces:\n",
    "        plt.imshow(cv2.cvtColor(projected_faces, cv2.COLOR_BGR2RGB))\n",
    "        plt.show()\n",
    "        \n",
    "    return projected, faces_points"
   ]
  },
  {
   "cell_type": "code",
   "execution_count": 3,
   "metadata": {},
   "outputs": [],
   "source": [
    "folds = get_files_folder('../data/FDDB-folds', lambda x: x.endswith('ellipseList.txt'))\n",
    "folds = [x.replace('\\\\','/') for x in folds]"
   ]
  },
  {
   "cell_type": "code",
   "execution_count": 4,
   "metadata": {},
   "outputs": [],
   "source": [
    "backs = [cv2.imread(url) for url in get_files_folder('../data/equi_backs', is_image)] ## background"
   ]
  },
  {
   "cell_type": "code",
   "execution_count": 7,
   "metadata": {},
   "outputs": [
    {
     "data": {
      "text/plain": [
       "2845"
      ]
     },
     "execution_count": 7,
     "metadata": {},
     "output_type": "execute_result"
    }
   ],
   "source": [
    "images = [read_fold(fold) for fold in folds]\n",
    "\n",
    "all_im = []\n",
    "for l in images:\n",
    "    for im in l:\n",
    "        image = cv2.imread('../data/originalPics/'+im['path']+'.jpg', cv2.IMREAD_COLOR)\n",
    "        all_im.append(image.shape[0])\n",
    "max(all_im)\n",
    "\n",
    "##max height in FDDB is 450"
   ]
  },
  {
   "cell_type": "code",
   "execution_count": 6,
   "metadata": {},
   "outputs": [
    {
     "data": {
      "application/vnd.jupyter.widget-view+json": {
       "model_id": "81df4e20baf84a7d8f6d95b0624c7141",
       "version_major": 2,
       "version_minor": 0
      },
      "text/plain": [
       "HBox(children=(FloatProgress(value=0.0, max=290.0), HTML(value='')))"
      ]
     },
     "metadata": {},
     "output_type": "display_data"
    },
    {
     "name": "stdout",
     "output_type": "stream",
     "text": [
      "\n"
     ]
    },
    {
     "data": {
      "application/vnd.jupyter.widget-view+json": {
       "model_id": "5d98c2c3fc4a42dab63843ff800d3328",
       "version_major": 2,
       "version_minor": 0
      },
      "text/plain": [
       "HBox(children=(FloatProgress(value=0.0, max=285.0), HTML(value='')))"
      ]
     },
     "metadata": {},
     "output_type": "display_data"
    },
    {
     "name": "stdout",
     "output_type": "stream",
     "text": [
      "\n",
      "exists\n"
     ]
    },
    {
     "data": {
      "application/vnd.jupyter.widget-view+json": {
       "model_id": "7b00cf290ba24c11a26ef24da6f2fed2",
       "version_major": 2,
       "version_minor": 0
      },
      "text/plain": [
       "HBox(children=(FloatProgress(value=0.0, max=274.0), HTML(value='')))"
      ]
     },
     "metadata": {},
     "output_type": "display_data"
    },
    {
     "name": "stdout",
     "output_type": "stream",
     "text": [
      "\n"
     ]
    },
    {
     "data": {
      "application/vnd.jupyter.widget-view+json": {
       "model_id": "02226db521904917b249067e0a1be536",
       "version_major": 2,
       "version_minor": 0
      },
      "text/plain": [
       "HBox(children=(FloatProgress(value=0.0, max=302.0), HTML(value='')))"
      ]
     },
     "metadata": {},
     "output_type": "display_data"
    },
    {
     "name": "stdout",
     "output_type": "stream",
     "text": [
      "\n"
     ]
    },
    {
     "data": {
      "application/vnd.jupyter.widget-view+json": {
       "model_id": "f2828372845c463c941a81c154e5c76d",
       "version_major": 2,
       "version_minor": 0
      },
      "text/plain": [
       "HBox(children=(FloatProgress(value=0.0, max=298.0), HTML(value='')))"
      ]
     },
     "metadata": {},
     "output_type": "display_data"
    },
    {
     "name": "stdout",
     "output_type": "stream",
     "text": [
      "\n"
     ]
    },
    {
     "data": {
      "application/vnd.jupyter.widget-view+json": {
       "model_id": "e37abf717ae04e6ebc6435d08bf65faa",
       "version_major": 2,
       "version_minor": 0
      },
      "text/plain": [
       "HBox(children=(FloatProgress(value=0.0, max=302.0), HTML(value='')))"
      ]
     },
     "metadata": {},
     "output_type": "display_data"
    },
    {
     "name": "stdout",
     "output_type": "stream",
     "text": [
      "\n"
     ]
    },
    {
     "data": {
      "application/vnd.jupyter.widget-view+json": {
       "model_id": "d82527bd76004aba94f866efb7462920",
       "version_major": 2,
       "version_minor": 0
      },
      "text/plain": [
       "HBox(children=(FloatProgress(value=0.0, max=279.0), HTML(value='')))"
      ]
     },
     "metadata": {},
     "output_type": "display_data"
    },
    {
     "name": "stdout",
     "output_type": "stream",
     "text": [
      "\n"
     ]
    },
    {
     "data": {
      "application/vnd.jupyter.widget-view+json": {
       "model_id": "67ce2b5b1b364dd78d29488d03ad6d84",
       "version_major": 2,
       "version_minor": 0
      },
      "text/plain": [
       "HBox(children=(FloatProgress(value=0.0, max=276.0), HTML(value='')))"
      ]
     },
     "metadata": {},
     "output_type": "display_data"
    },
    {
     "name": "stdout",
     "output_type": "stream",
     "text": [
      "\n"
     ]
    },
    {
     "data": {
      "application/vnd.jupyter.widget-view+json": {
       "model_id": "3ff41468f03c4b5c9caab56ead94f86e",
       "version_major": 2,
       "version_minor": 0
      },
      "text/plain": [
       "HBox(children=(FloatProgress(value=0.0, max=259.0), HTML(value='')))"
      ]
     },
     "metadata": {},
     "output_type": "display_data"
    },
    {
     "name": "stdout",
     "output_type": "stream",
     "text": [
      "\n"
     ]
    },
    {
     "data": {
      "application/vnd.jupyter.widget-view+json": {
       "model_id": "7732c596b06e4a01898d441da8724caf",
       "version_major": 2,
       "version_minor": 0
      },
      "text/plain": [
       "HBox(children=(FloatProgress(value=0.0, max=280.0), HTML(value='')))"
      ]
     },
     "metadata": {},
     "output_type": "display_data"
    },
    {
     "name": "stdout",
     "output_type": "stream",
     "text": [
      "\n"
     ]
    }
   ],
   "source": [
    "dataset_path = \"../data/dataset_360\"\n",
    "\n",
    "if not os.path.exists(dataset_path):\n",
    "    os.mkdir(dataset_path)  \n",
    "for i, fold in enumerate(folds):\n",
    "    x = re.findall('FDDB-fold-\\d\\d', fold)[0]\n",
    "    path_fold = os.path.join(dataset_path, x)\n",
    "    #print(path_fold)\n",
    "    images = read_fold(fold)\n",
    "    temp_file = os.path.join(dataset_path,f'temp{i}.npy')\n",
    "    \n",
    "    if not os.path.exists(temp_file):        \n",
    "        #vec = np.random.choice(7, len(images), p=[0.05,0.18, 0.18, 0.18, 0.18, 0.18, 0.05]) #defines the vertical position\n",
    "        back_inds = np.random.choice(len(backs), len(images)) #defines the index of the background image\n",
    "        \n",
    "        temp = open(temp_file, \"wb\")\n",
    "        #np.save(temp, [vec, back_inds])\n",
    "        np.save(temp, back_inds)\n",
    "        temp.close()\n",
    "    else:\n",
    "        print('exists')\n",
    "        with open(temp_file, \"rb\") as temp:\n",
    "            #vec, back_inds = np.load(temp)\n",
    "            back_inds = np.load(temp)\n",
    "    \n",
    "    if not os.path.exists(path_fold):\n",
    "        os.mkdir(path_fold)    \n",
    "    #for image, pos, back_i in tqdm(zip(images, vec, back_inds), total = len(images)):\n",
    "    for image, back_i in tqdm(zip(images, back_inds), total = len(images)):\n",
    "        im_path = image['path'].replace('/', '_')+'.jpg'\n",
    "        proj_path = os.path.join(path_fold, im_path)\n",
    "        \n",
    "        if os.path.exists(proj_path):\n",
    "            continue\n",
    "        '''\n",
    "        base_phi = -90+pos*30 #-90 to 90\n",
    "        \n",
    "        if abs(base_phi) != 90:\n",
    "            phi = np.random.randint(base_phi-15, base_phi+15)\n",
    "        elif base_phi == -90:\n",
    "            phi = np.random.randint(base_phi, base_phi+15)\n",
    "        else:\n",
    "            phi = np.random.randint(base_phi-15, base_phi+1)\n",
    "        '''\n",
    "        phi = np.random.randint(-90, 90)\n",
    "        theta = np.random.randint(-180, 180)\n",
    "        #r_h=random.uniform(0.5, 1)\n",
    "        r_h = -1 #default height\n",
    "        proj, faces_points = project_fddb_to_equi(image, backs[back_i].copy(), np.radians(phi), np.radians(theta), r_h)\n",
    "        \n",
    "        lines = []        \n",
    "        lines.append(im_path+'\\n')\n",
    "        lines.append(f'{phi} {theta} {r_h}\\n')\n",
    "        lines.append(str(len(faces_points))+'\\n')\n",
    "        for face_points in faces_points:\n",
    "            lines.append(str(face_points)+'\\n')\n",
    "            \n",
    "        f = open(proj_path.replace('jpg','txt'), \"w\")\n",
    "        f.writelines(lines)\n",
    "        f.close()\n",
    "        \n",
    "        cv2.imwrite(proj_path, proj)\n",
    "        \n",
    "        #print(proj_path)\n",
    "        #print(phi, theta)\n",
    "    if os.path.exists(temp_file):\n",
    "        os.remove(temp_file)\n"
   ]
  },
  {
   "cell_type": "code",
   "execution_count": null,
   "metadata": {},
   "outputs": [],
   "source": []
  }
 ],
 "metadata": {
  "kernelspec": {
   "display_name": "Python 3",
   "language": "python",
   "name": "python3"
  },
  "language_info": {
   "codemirror_mode": {
    "name": "ipython",
    "version": 3
   },
   "file_extension": ".py",
   "mimetype": "text/x-python",
   "name": "python",
   "nbconvert_exporter": "python",
   "pygments_lexer": "ipython3",
   "version": "3.8.3"
  }
 },
 "nbformat": 4,
 "nbformat_minor": 4
}
