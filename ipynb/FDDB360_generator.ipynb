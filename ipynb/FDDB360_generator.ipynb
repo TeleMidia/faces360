{
 "cells": [
  {
   "cell_type": "code",
   "execution_count": null,
   "metadata": {},
   "outputs": [],
   "source": [
    "import sys, cv2, os, re, random\n",
    "sys.path.append('../')\n",
    "\n",
    "from IPython.core.pylabtools import figsize\n",
    "from matplotlib import pyplot as plt\n",
    "from tqdm.notebook import tqdm\n",
    "from fddb_reader import *\n",
    "from equi_augmentation import *\n",
    "from utils import *\n",
    "figsize(12, 5)\n",
    "\n",
    "np.random.seed(42)"
   ]
  },
  {
   "cell_type": "code",
   "execution_count": null,
   "metadata": {},
   "outputs": [],
   "source": [
    "def project_fddb_to_equi(image_data, back, phi, theta, r_h = 1, draw_faces = False):\n",
    "    \n",
    "    image = draw_image(image_data, draw_faces = False)\n",
    "    \n",
    "    #print(image_data)\n",
    "    \n",
    "    projected, _, projector = image_projection_to_equi(back, image, phi, theta, r_h = r_h)\n",
    "    proj_path = image_data['path'].replace('/', '_')+'.jpg'\n",
    "    \n",
    "    projected_faces = projected.copy()\n",
    "    \n",
    "    faces_points = []\n",
    "    for face in image_data['faces']:\n",
    "        \n",
    "        projected_pointsy_x = projector(get8boundingpointsy_x(face['bounding_box']))\n",
    "        projected_points = [(p[1],p[0]) for p in projected_pointsy_x]\n",
    "        faces_points.append(projected_points)\n",
    "        \n",
    "        t_left, t_center, t_right, c_left, c_right, b_left, b_center, b_right = projected_points\n",
    "        \n",
    "        projected_faces = draw_points(projected_faces, projected_points, color = (255,0,0))\n",
    "   \n",
    "    if draw_faces:\n",
    "        plt.imshow(cv2.cvtColor(projected_faces, cv2.COLOR_BGR2RGB))\n",
    "        plt.show()\n",
    "        \n",
    "    return projected, faces_points"
   ]
  },
  {
   "cell_type": "code",
   "execution_count": null,
   "metadata": {},
   "outputs": [],
   "source": [
    "folds = get_files_folder('../data/FDDB-folds', lambda x: x.endswith('ellipseList.txt'))\n",
    "folds = [x.replace('\\\\','/') for x in folds]"
   ]
  },
  {
   "cell_type": "code",
   "execution_count": null,
   "metadata": {},
   "outputs": [],
   "source": [
    "backs = [cv2.imread(url) for url in get_files_folder('../data/equi_backs', is_image)] ## background"
   ]
  },
  {
   "cell_type": "code",
   "execution_count": null,
   "metadata": {},
   "outputs": [],
   "source": [
    "##projection -90 to 90 - aproximatedely the same amount of images in each position [-60, -30, 0, 30, 60] - +-2000 range 15\n",
    "##10%\n",
    "\n",
    "dataset_path = \"../data/dataset_360\"\n",
    "\n",
    "#os.mkdir(dataset_path)  \n",
    "for fold in folds:\n",
    "    x = re.findall('FDDB-fold-\\d\\d', fold)[0]\n",
    "    path_fold = os.path.join(dataset_path, x)\n",
    "    #print(path_fold)\n",
    "    images = read_fold(fold)\n",
    "    \n",
    "    vec = np.random.choice(7, len(images), p=[0.05,0.18, 0.18, 0.18, 0.18, 0.18, 0.05]) #defines the vertical position\n",
    "    back_inds = np.random.choice(len(backs), len(images)) #defines the index of the background image\n",
    "    \n",
    "    #os.mkdir(path_fold)    \n",
    "    for image, pos, back_i in tqdm(zip(images, vec, back_inds), total = len(images)):\n",
    "        im_path = image['path'].replace('/', '_')+'.jpg'\n",
    "        proj_path = os.path.join(path_fold, im_path)\n",
    "        \n",
    "        base_phi = -90+pos*30 #-90 to 90\n",
    "        \n",
    "        if abs(base_phi) != 90:\n",
    "            phi = np.random.randint(base_phi-15, base_phi+15)\n",
    "        elif base_phi == -90:\n",
    "            phi = np.random.randint(base_phi, base_phi+15)\n",
    "        else:\n",
    "            phi = np.random.randint(base_phi-15, base_phi+1)\n",
    "        \n",
    "        theta = np.random.randint(-180, 181)\n",
    "        r_h=random.uniform(0.5, 1)\n",
    "        proj, faces_points = project_fddb_to_equi(image, backs[back_i].copy(), np.radians(phi), np.radians(theta), r_h)\n",
    "        \n",
    "        lines = []        \n",
    "        lines.append(im_path+'\\n')\n",
    "        lines.append(f'{phi} {theta} {r_h}\\n')\n",
    "        lines.append(str(len(faces_points))+'\\n')\n",
    "        for face_points in faces_points:\n",
    "            lines.append(str(face_points)+'\\n')\n",
    "            \n",
    "        f = open(proj_path.replace('jpg','txt'), \"w\")\n",
    "        f.writelines(lines)\n",
    "        f.close()\n",
    "        \n",
    "        cv2.imwrite(proj_path, proj)\n",
    "        \n",
    "        #print(proj_path)\n",
    "        #print(phi, theta)\n"
   ]
  },
  {
   "cell_type": "code",
   "execution_count": null,
   "metadata": {},
   "outputs": [],
   "source": []
  }
 ],
 "metadata": {
  "kernelspec": {
   "display_name": "Python 3",
   "language": "python",
   "name": "python3"
  },
  "language_info": {
   "codemirror_mode": {
    "name": "ipython",
    "version": 3
   },
   "file_extension": ".py",
   "mimetype": "text/x-python",
   "name": "python",
   "nbconvert_exporter": "python",
   "pygments_lexer": "ipython3",
   "version": "3.8.3"
  }
 },
 "nbformat": 4,
 "nbformat_minor": 4
}
