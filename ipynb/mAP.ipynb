{
 "cells": [
  {
   "cell_type": "code",
   "execution_count": 1,
   "metadata": {},
   "outputs": [
    {
     "name": "stderr",
     "output_type": "stream",
     "text": [
      "C:\\Users\\paulo\\anaconda3\\envs\\faces\\lib\\site-packages\\tqdm\\std.py:668: FutureWarning: The Panel class is removed from pandas. Accessing it from the top-level namespace will also be removed in the next version\n",
      "  from pandas import Panel\n"
     ]
    }
   ],
   "source": [
    "import sys\n",
    "sys.path.append('../')\n",
    "import pandas as pd\n",
    "import numpy as np\n",
    "from tqdm.notebook import tqdm\n",
    "import matplotlib.pyplot as plt\n",
    "from shapely import geometry\n",
    "from utils import *\n",
    "tqdm.pandas()\n",
    "\n",
    "plt.rcParams[\"figure.figsize\"] = [12,6]"
   ]
  },
  {
   "cell_type": "code",
   "execution_count": 2,
   "metadata": {},
   "outputs": [
    {
     "data": {
      "text/html": [
       "<div>\n",
       "<style scoped>\n",
       "    .dataframe tbody tr th:only-of-type {\n",
       "        vertical-align: middle;\n",
       "    }\n",
       "\n",
       "    .dataframe tbody tr th {\n",
       "        vertical-align: top;\n",
       "    }\n",
       "\n",
       "    .dataframe thead th {\n",
       "        text-align: right;\n",
       "    }\n",
       "</style>\n",
       "<table border=\"1\" class=\"dataframe\">\n",
       "  <thead>\n",
       "    <tr style=\"text-align: right;\">\n",
       "      <th></th>\n",
       "      <th>image_path</th>\n",
       "      <th>metadata</th>\n",
       "      <th>fold</th>\n",
       "      <th>phi</th>\n",
       "      <th>theta</th>\n",
       "      <th>r_h</th>\n",
       "      <th>faces</th>\n",
       "      <th>circular_perimeter_faces</th>\n",
       "      <th>detectionsViewD_3</th>\n",
       "      <th>detectionsViewD_4</th>\n",
       "      <th>detectionsViewD_5</th>\n",
       "      <th>detectionsViewD_6</th>\n",
       "      <th>detectionsViewD_7</th>\n",
       "      <th>detectionsViewD_8</th>\n",
       "      <th>detectionsViewD_9</th>\n",
       "      <th>detectionsViewD_10</th>\n",
       "      <th>detections_sphere_mtcnn</th>\n",
       "      <th>detections_mtcnn</th>\n",
       "    </tr>\n",
       "  </thead>\n",
       "  <tbody>\n",
       "    <tr>\n",
       "      <th>0</th>\n",
       "      <td>../data/dataset_360/FDDB-fold-01\\2002_07_19_bi...</td>\n",
       "      <td>../data/dataset_360/FDDB-fold-01\\2002_07_19_bi...</td>\n",
       "      <td>FDDB-fold-01</td>\n",
       "      <td>35</td>\n",
       "      <td>-123</td>\n",
       "      <td>-1</td>\n",
       "      <td>[[(1056, 367), (1083, 368), (1110, 366), (1053...</td>\n",
       "      <td>[[(1056, 367), (1083, 368), (1110, 366), (1114...</td>\n",
       "      <td>[[(1054, 375), (1081, 375), (1108, 374), (1108...</td>\n",
       "      <td>[[(1059, 375), (1085, 377), (1112, 377), (1111...</td>\n",
       "      <td>[[(1056, 373), (1083, 376), (1112, 378), (1111...</td>\n",
       "      <td>[[(1054, 377), (1080, 377), (1106, 376), (1110...</td>\n",
       "      <td>[[(1043, 380), (1070, 378), (1095, 376), (1106...</td>\n",
       "      <td>[[(1059, 375), (1085, 377), (1112, 377), (1111...</td>\n",
       "      <td>[[(1048, 381), (1072, 379), (1093, 376), (1105...</td>\n",
       "      <td>[[(1050, 380), (1076, 379), (1101, 376), (1108...</td>\n",
       "      <td>[]</td>\n",
       "      <td>[[(1054, 377), (1111, 377), (1111, 450), (1054...</td>\n",
       "    </tr>\n",
       "    <tr>\n",
       "      <th>1</th>\n",
       "      <td>../data/dataset_360/FDDB-fold-01\\2002_07_19_bi...</td>\n",
       "      <td>../data/dataset_360/FDDB-fold-01\\2002_07_19_bi...</td>\n",
       "      <td>FDDB-fold-01</td>\n",
       "      <td>85</td>\n",
       "      <td>-142</td>\n",
       "      <td>-1</td>\n",
       "      <td>[[(1118, 537), (1174, 537), (1225, 530), (1100...</td>\n",
       "      <td>[[(1118, 537), (1174, 537), (1225, 530), (1269...</td>\n",
       "      <td>[[(1078, 552), (1143, 547), (1195, 535), (1245...</td>\n",
       "      <td>[[(1112, 546), (1162, 544), (1209, 538), (1249...</td>\n",
       "      <td>[[(1122, 544), (1174, 544), (1223, 539), (1260...</td>\n",
       "      <td>[[(1132, 540), (1189, 542), (1243, 537), (1275...</td>\n",
       "      <td>[[(1137, 545), (1191, 547), (1246, 544), (1276...</td>\n",
       "      <td>[[(1130, 554), (1195, 559), (1259, 555), (12, ...</td>\n",
       "      <td>[[(1099, 566), (1173, 566), (1241, 558), (3, 5...</td>\n",
       "      <td>[[(1143, 541), (1198, 546), (1256, 545), (1, 5...</td>\n",
       "      <td>[]</td>\n",
       "      <td>[]</td>\n",
       "    </tr>\n",
       "  </tbody>\n",
       "</table>\n",
       "</div>"
      ],
      "text/plain": [
       "                                          image_path  \\\n",
       "0  ../data/dataset_360/FDDB-fold-01\\2002_07_19_bi...   \n",
       "1  ../data/dataset_360/FDDB-fold-01\\2002_07_19_bi...   \n",
       "\n",
       "                                            metadata          fold  phi  \\\n",
       "0  ../data/dataset_360/FDDB-fold-01\\2002_07_19_bi...  FDDB-fold-01   35   \n",
       "1  ../data/dataset_360/FDDB-fold-01\\2002_07_19_bi...  FDDB-fold-01   85   \n",
       "\n",
       "   theta  r_h                                              faces  \\\n",
       "0   -123   -1  [[(1056, 367), (1083, 368), (1110, 366), (1053...   \n",
       "1   -142   -1  [[(1118, 537), (1174, 537), (1225, 530), (1100...   \n",
       "\n",
       "                            circular_perimeter_faces  \\\n",
       "0  [[(1056, 367), (1083, 368), (1110, 366), (1114...   \n",
       "1  [[(1118, 537), (1174, 537), (1225, 530), (1269...   \n",
       "\n",
       "                                   detectionsViewD_3  \\\n",
       "0  [[(1054, 375), (1081, 375), (1108, 374), (1108...   \n",
       "1  [[(1078, 552), (1143, 547), (1195, 535), (1245...   \n",
       "\n",
       "                                   detectionsViewD_4  \\\n",
       "0  [[(1059, 375), (1085, 377), (1112, 377), (1111...   \n",
       "1  [[(1112, 546), (1162, 544), (1209, 538), (1249...   \n",
       "\n",
       "                                   detectionsViewD_5  \\\n",
       "0  [[(1056, 373), (1083, 376), (1112, 378), (1111...   \n",
       "1  [[(1122, 544), (1174, 544), (1223, 539), (1260...   \n",
       "\n",
       "                                   detectionsViewD_6  \\\n",
       "0  [[(1054, 377), (1080, 377), (1106, 376), (1110...   \n",
       "1  [[(1132, 540), (1189, 542), (1243, 537), (1275...   \n",
       "\n",
       "                                   detectionsViewD_7  \\\n",
       "0  [[(1043, 380), (1070, 378), (1095, 376), (1106...   \n",
       "1  [[(1137, 545), (1191, 547), (1246, 544), (1276...   \n",
       "\n",
       "                                   detectionsViewD_8  \\\n",
       "0  [[(1059, 375), (1085, 377), (1112, 377), (1111...   \n",
       "1  [[(1130, 554), (1195, 559), (1259, 555), (12, ...   \n",
       "\n",
       "                                   detectionsViewD_9  \\\n",
       "0  [[(1048, 381), (1072, 379), (1093, 376), (1105...   \n",
       "1  [[(1099, 566), (1173, 566), (1241, 558), (3, 5...   \n",
       "\n",
       "                                  detectionsViewD_10 detections_sphere_mtcnn  \\\n",
       "0  [[(1050, 380), (1076, 379), (1101, 376), (1108...                      []   \n",
       "1  [[(1143, 541), (1198, 546), (1256, 545), (1, 5...                      []   \n",
       "\n",
       "                                    detections_mtcnn  \n",
       "0  [[(1054, 377), (1111, 377), (1111, 450), (1054...  \n",
       "1                                                 []  "
      ]
     },
     "execution_count": 2,
     "metadata": {},
     "output_type": "execute_result"
    }
   ],
   "source": [
    "dataset360 = pd.read_pickle('../dataframes/dataset360_detections.pkl')\n",
    "dataset360.head(2)"
   ]
  },
  {
   "cell_type": "markdown",
   "metadata": {},
   "source": [
    "## mAP"
   ]
  },
  {
   "cell_type": "code",
   "execution_count": 3,
   "metadata": {},
   "outputs": [],
   "source": [
    "def compute_metrics(df, gt_column, pred_column, threshold = 0.5):\n",
    "    total_faces = df.circular_perimeter_faces.apply(len).sum()\n",
    "\n",
    "    tps = []\n",
    "    fps = []\n",
    "\n",
    "    tp = 0\n",
    "    fp = 0\n",
    "    for index , row in df.iterrows(): \n",
    "        ground_truths = row['circular_perimeter_faces']\n",
    "        gt_polys = [geometry.Polygon(adjust_bounds(gt)).convex_hull for gt in ground_truths]\n",
    "\n",
    "        tests = row[pred_column]   \n",
    "        for test in tests:               \n",
    "            ious = []\n",
    "\n",
    "            for gt_poly in gt_polys:            \n",
    "                gt_test = geometry.Polygon(adjust_bounds(test)).convex_hull\n",
    "\n",
    "                iou = gt_poly.intersection(gt_test).area/gt_poly.union(gt_test).area\n",
    "                ious.append(iou)\n",
    "\n",
    "            if len(gt_polys) > 0:\n",
    "                max_iou = np.argmax(ious)\n",
    "\n",
    "                if ious[max_iou] > threshold:#true positive\n",
    "                    tp+=1\n",
    "\n",
    "                    gt_polys.pop(max_iou)\n",
    "\n",
    "                else:\n",
    "                    fp += 1\n",
    "            else: \n",
    "                fp += 1\n",
    "\n",
    "            #print(f'tp: {tp}, fp: {fp}')\n",
    "            tps.append(tp)\n",
    "            fps.append(fp)\n",
    "\n",
    "    tps = np.array(tps)\n",
    "    fps = np.array(fps)\n",
    "    \n",
    "    precision = tps/(tps+fps)\n",
    "    recall = tps/total_faces\n",
    "\n",
    "    eval_df = pd.DataFrame({'precision':precision, 'recall':recall})\n",
    "    \n",
    "    prec_at_rec = []\n",
    "    \n",
    "    ##map\n",
    "    for recall_level in np.linspace(0.0, 1.0, 11):\n",
    "        try:\n",
    "            x = eval_df[eval_df['recall'] >= recall_level]['precision']\n",
    "            prec = max(x)\n",
    "        except:\n",
    "            prec = 0.0\n",
    "        prec_at_rec.append(prec)\n",
    "    avg_prec = np.mean(prec_at_rec)\n",
    "\n",
    "    #print('11 point precision is ', prec_at_rec)\n",
    "    #print(f'mAP.{threshold*100} is ', avg_prec)\n",
    "\n",
    "    return avg_prec, precision, recall, prec_at_rec, tps, fps"
   ]
  },
  {
   "cell_type": "code",
   "execution_count": 4,
   "metadata": {},
   "outputs": [],
   "source": [
    "total_images_faces = lambda d: f'Faces: {d.circular_perimeter_faces.apply(len).sum()} Images:{len(d.circular_perimeter_faces)}'"
   ]
  },
  {
   "cell_type": "markdown",
   "metadata": {},
   "source": [
    "## Evaluate Dataset"
   ]
  },
  {
   "cell_type": "code",
   "execution_count": 5,
   "metadata": {},
   "outputs": [],
   "source": [
    "def evaluate_dataset(dataset, threshold = 0.50):\n",
    "    d_column_prefix = 'detectionsViewD_'\n",
    "    d_numbers = [int(c.split('_')[-1]) for c in dataset.columns[::-1] if c.startswith(d_column_prefix)]\n",
    "    d_numbers.sort()\n",
    "    mAPs = []\n",
    "    baseline = []\n",
    "    \n",
    "    mAP_baseline,_,_,_,_,_ = compute_metrics(dataset360, 'circular_perimeter_faces', 'detections_mtcnn', threshold = threshold) \n",
    "    for d_number in tqdm(d_numbers):\n",
    "        d_column = d_column_prefix+str(d_number)\n",
    "\n",
    "        mAP,_,_,_,_,_ = compute_metrics(dataset, 'circular_perimeter_faces', d_column, threshold = threshold) \n",
    "        mAPs.append(mAP)\n",
    "        baseline.append(mAP_baseline)\n",
    "        \n",
    "    return d_numbers, mAPs, baseline"
   ]
  },
  {
   "cell_type": "code",
   "execution_count": 6,
   "metadata": {},
   "outputs": [],
   "source": [
    "def plot_results(d_numbers, mAPs_50, baseline_50, mAPs_25, baseline_25):\n",
    "    \n",
    "    fig, axs = plt.subplots(1,2)\n",
    "    \n",
    "    axs[0].set_title('mAP.50 Results')\n",
    "    axs[0].set_xlabel('Viewports Density')\n",
    "    axs[0].set_ylabel('mAP')\n",
    "    axs[0].plot(d_numbers, mAPs_50, label='mtcnn_view')\n",
    "    axs[0].plot(d_numbers, baseline_50, label='mtcnn')\n",
    "    axs[0].legend()\n",
    "\n",
    "    axs[1].set_title('mAP.25 Results')\n",
    "    axs[1].set_xlabel('Viewports Density')\n",
    "    axs[1].set_ylabel('mAP')\n",
    "    axs[1].plot(d_numbers, mAPs_25, label='mtcnn_view')\n",
    "    axs[1].plot(d_numbers, baseline_25, label='mtcnn')\n",
    "    axs[1].legend()\n",
    "    plt.show()"
   ]
  },
  {
   "cell_type": "markdown",
   "metadata": {},
   "source": [
    "## Overall"
   ]
  },
  {
   "cell_type": "code",
   "execution_count": 7,
   "metadata": {},
   "outputs": [
    {
     "name": "stdout",
     "output_type": "stream",
     "text": [
      "Faces: 5171 Images:2845\n"
     ]
    },
    {
     "data": {
      "application/vnd.jupyter.widget-view+json": {
       "model_id": "e3ed9227e8554d9893e1a4430cdf6a13",
       "version_major": 2,
       "version_minor": 0
      },
      "text/plain": [
       "HBox(children=(FloatProgress(value=0.0, max=8.0), HTML(value='')))"
      ]
     },
     "metadata": {},
     "output_type": "display_data"
    },
    {
     "name": "stdout",
     "output_type": "stream",
     "text": [
      "\n"
     ]
    },
    {
     "data": {
      "application/vnd.jupyter.widget-view+json": {
       "model_id": "b9ece5d3870a4fd4b1ccba62a7bc5609",
       "version_major": 2,
       "version_minor": 0
      },
      "text/plain": [
       "HBox(children=(FloatProgress(value=0.0, max=8.0), HTML(value='')))"
      ]
     },
     "metadata": {},
     "output_type": "display_data"
    },
    {
     "name": "stdout",
     "output_type": "stream",
     "text": [
      "\n"
     ]
    },
    {
     "data": {
      "image/png": "[encoded data removed]",
      "text/plain": [
       "<Figure size 864x432 with 2 Axes>"
      ]
     },
     "metadata": {
      "needs_background": "light"
     },
     "output_type": "display_data"
    }
   ],
   "source": [
    "print(total_images_faces(dataset360))\n",
    "d_numbers, mAPs_50, baseline_50 = evaluate_dataset(dataset360, threshold=0.50)\n",
    "d_numbers, mAPs_25, baseline_25 = evaluate_dataset(dataset360, threshold=0.25)\n",
    "\n",
    "plot_results(d_numbers, mAPs_50, baseline_50, mAPs_25, baseline_25)"
   ]
  },
  {
   "cell_type": "markdown",
   "metadata": {},
   "source": [
    "## Close to Poles"
   ]
  },
  {
   "cell_type": "code",
   "execution_count": 12,
   "metadata": {},
   "outputs": [
    {
     "data": {
      "text/plain": [
       "(322, 18)"
      ]
     },
     "execution_count": 12,
     "metadata": {},
     "output_type": "execute_result"
    }
   ],
   "source": [
    "poles = dataset360.loc[dataset360.phi.apply(abs) >= 80]\n",
    "poles.shape"
   ]
  },
  {
   "cell_type": "code",
   "execution_count": 13,
   "metadata": {},
   "outputs": [
    {
     "name": "stdout",
     "output_type": "stream",
     "text": [
      "Faces: 575 Images:322\n"
     ]
    },
    {
     "data": {
      "application/vnd.jupyter.widget-view+json": {
       "model_id": "d9fd6b97ae4c436384cf53660d334a70",
       "version_major": 2,
       "version_minor": 0
      },
      "text/plain": [
       "HBox(children=(FloatProgress(value=0.0, max=8.0), HTML(value='')))"
      ]
     },
     "metadata": {},
     "output_type": "display_data"
    },
    {
     "name": "stdout",
     "output_type": "stream",
     "text": [
      "\n"
     ]
    },
    {
     "data": {
      "application/vnd.jupyter.widget-view+json": {
       "model_id": "30464706aed647b3ac68fcea2d532c59",
       "version_major": 2,
       "version_minor": 0
      },
      "text/plain": [
       "HBox(children=(FloatProgress(value=0.0, max=8.0), HTML(value='')))"
      ]
     },
     "metadata": {},
     "output_type": "display_data"
    },
    {
     "name": "stdout",
     "output_type": "stream",
     "text": [
      "\n"
     ]
    },
    {
     "data": {
      "image/png": "[encoded data removed]",
      "text/plain": [
       "<Figure size 864x432 with 2 Axes>"
      ]
     },
     "metadata": {
      "needs_background": "light"
     },
     "output_type": "display_data"
    }
   ],
   "source": [
    "print(total_images_faces(poles))\n",
    "d_numbers, mAPs_50, baseline_50 = evaluate_dataset(poles, threshold=0.50)\n",
    "d_numbers, mAPs_25, baseline_25 = evaluate_dataset(poles, threshold=0.25)\n",
    "\n",
    "plot_results(d_numbers, mAPs_50, baseline_50, mAPs_25, baseline_25)"
   ]
  },
  {
   "cell_type": "markdown",
   "metadata": {},
   "source": [
    "## Close to Borders"
   ]
  },
  {
   "cell_type": "code",
   "execution_count": 10,
   "metadata": {},
   "outputs": [
    {
     "data": {
      "text/plain": [
       "(239, 18)"
      ]
     },
     "execution_count": 10,
     "metadata": {},
     "output_type": "execute_result"
    }
   ],
   "source": [
    "borders = dataset360.loc[dataset360.theta.apply(abs) >= 165]\n",
    "borders.shape"
   ]
  },
  {
   "cell_type": "code",
   "execution_count": 11,
   "metadata": {},
   "outputs": [
    {
     "name": "stdout",
     "output_type": "stream",
     "text": [
      "Faces: 422 Images:239\n"
     ]
    },
    {
     "data": {
      "application/vnd.jupyter.widget-view+json": {
       "model_id": "d9b893cde670497fac4fc3111cf33291",
       "version_major": 2,
       "version_minor": 0
      },
      "text/plain": [
       "HBox(children=(FloatProgress(value=0.0, max=8.0), HTML(value='')))"
      ]
     },
     "metadata": {},
     "output_type": "display_data"
    },
    {
     "name": "stdout",
     "output_type": "stream",
     "text": [
      "\n"
     ]
    },
    {
     "data": {
      "application/vnd.jupyter.widget-view+json": {
       "model_id": "267b7fa237874c029f9a1f61ccc80be6",
       "version_major": 2,
       "version_minor": 0
      },
      "text/plain": [
       "HBox(children=(FloatProgress(value=0.0, max=8.0), HTML(value='')))"
      ]
     },
     "metadata": {},
     "output_type": "display_data"
    },
    {
     "name": "stdout",
     "output_type": "stream",
     "text": [
      "\n"
     ]
    },
    {
     "data": {
      "image/png": "[encoded data removed]",
      "text/plain": [
       "<Figure size 864x432 with 2 Axes>"
      ]
     },
     "metadata": {
      "needs_background": "light"
     },
     "output_type": "display_data"
    }
   ],
   "source": [
    "print(total_images_faces(borders))\n",
    "d_numbers, mAPs_50, baseline_50 = evaluate_dataset(borders, threshold=0.50)\n",
    "d_numbers, mAPs_25, baseline_25 = evaluate_dataset(borders, threshold=0.25)\n",
    "\n",
    "plot_results(d_numbers, mAPs_50, baseline_50, mAPs_25, baseline_25)"
   ]
  }
 ],
 "metadata": {
  "kernelspec": {
   "display_name": "Python 3",
   "language": "python",
   "name": "python3"
  },
  "language_info": {
   "codemirror_mode": {
    "name": "ipython",
    "version": 3
   },
   "file_extension": ".py",
   "mimetype": "text/x-python",
   "name": "python",
   "nbconvert_exporter": "python",
   "pygments_lexer": "ipython3",
   "version": "3.8.3"
  }
 },
 "nbformat": 4,
 "nbformat_minor": 4
}
