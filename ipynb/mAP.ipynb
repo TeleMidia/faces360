{
 "cells": [
  {
   "cell_type": "code",
   "execution_count": 1,
   "metadata": {},
   "outputs": [
    {
     "name": "stderr",
     "output_type": "stream",
     "text": [
      "C:\\Users\\paulo\\anaconda3\\envs\\faces\\lib\\site-packages\\tqdm\\std.py:668: FutureWarning: The Panel class is removed from pandas. Accessing it from the top-level namespace will also be removed in the next version\n",
      "  from pandas import Panel\n"
     ]
    }
   ],
   "source": [
    "import sys\n",
    "sys.path.append('../')\n",
    "import pandas as pd\n",
    "import numpy as np\n",
    "from tqdm.notebook import tqdm\n",
    "import matplotlib.pyplot as plt\n",
    "from shapely import geometry\n",
    "from utils import *\n",
    "tqdm.pandas()\n",
    "\n",
    "plt.rcParams[\"figure.figsize\"] = [12,6]"
   ]
  },
  {
   "cell_type": "code",
   "execution_count": 2,
   "metadata": {},
   "outputs": [
    {
     "data": {
      "text/html": [
       "<div>\n",
       "<style scoped>\n",
       "    .dataframe tbody tr th:only-of-type {\n",
       "        vertical-align: middle;\n",
       "    }\n",
       "\n",
       "    .dataframe tbody tr th {\n",
       "        vertical-align: top;\n",
       "    }\n",
       "\n",
       "    .dataframe thead th {\n",
       "        text-align: right;\n",
       "    }\n",
       "</style>\n",
       "<table border=\"1\" class=\"dataframe\">\n",
       "  <thead>\n",
       "    <tr style=\"text-align: right;\">\n",
       "      <th></th>\n",
       "      <th>image_path</th>\n",
       "      <th>metadata</th>\n",
       "      <th>fold</th>\n",
       "      <th>phi</th>\n",
       "      <th>theta</th>\n",
       "      <th>r_h</th>\n",
       "      <th>faces</th>\n",
       "      <th>circular_perimeter_faces</th>\n",
       "      <th>detections_mtcnn</th>\n",
       "      <th>detectionsViewD_3</th>\n",
       "      <th>detectionsViewD_4</th>\n",
       "      <th>detectionsViewD_5</th>\n",
       "      <th>detectionsViewD_6</th>\n",
       "      <th>detectionsViewD_7</th>\n",
       "      <th>detectionsViewD_8</th>\n",
       "      <th>detectionsViewD_9</th>\n",
       "      <th>detectionsViewD_10</th>\n",
       "      <th>detections_sphere_mtcnn</th>\n",
       "    </tr>\n",
       "  </thead>\n",
       "  <tbody>\n",
       "    <tr>\n",
       "      <th>0</th>\n",
       "      <td>../data/dataset_360/FDDB-fold-01\\2002_07_19_bi...</td>\n",
       "      <td>../data/dataset_360/FDDB-fold-01\\2002_07_19_bi...</td>\n",
       "      <td>FDDB-fold-01</td>\n",
       "      <td>57</td>\n",
       "      <td>136</td>\n",
       "      <td>0.454058</td>\n",
       "      <td>[[(140, 483), (160, 483), (180, 482), (138, 50...</td>\n",
       "      <td>[[(140, 483), (160, 483), (180, 482), (184, 50...</td>\n",
       "      <td>[[(142, 488), (175, 488), (175, 525), (142, 52...</td>\n",
       "      <td>[[(147, 487), (165, 489), (184, 491), (181, 50...</td>\n",
       "      <td>[[(141, 488), (160, 489), (179, 488), (182, 50...</td>\n",
       "      <td>[[(137, 490), (156, 489), (175, 487), (180, 50...</td>\n",
       "      <td>[[(133, 492), (152, 490), (172, 488), (179, 50...</td>\n",
       "      <td>[[(130, 492), (150, 489), (168, 486), (178, 50...</td>\n",
       "      <td>[[(132, 491), (150, 488), (168, 484), (178, 50...</td>\n",
       "      <td>[[(130, 493), (148, 490), (166, 486), (177, 50...</td>\n",
       "      <td>[[(137, 490), (155, 489), (173, 487), (179, 50...</td>\n",
       "      <td>[]</td>\n",
       "    </tr>\n",
       "    <tr>\n",
       "      <th>1</th>\n",
       "      <td>../data/dataset_360/FDDB-fold-01\\2002_07_19_bi...</td>\n",
       "      <td>../data/dataset_360/FDDB-fold-01\\2002_07_19_bi...</td>\n",
       "      <td>FDDB-fold-01</td>\n",
       "      <td>85</td>\n",
       "      <td>-142</td>\n",
       "      <td>0.552233</td>\n",
       "      <td>[[(1122, 578), (1170, 578), (1215, 575), (1109...</td>\n",
       "      <td>[[(1122, 578), (1170, 578), (1215, 575), (1248...</td>\n",
       "      <td>[]</td>\n",
       "      <td>[[(1149, 579), (1191, 585), (1243, 589), (1229...</td>\n",
       "      <td>[[(1149, 578), (1189, 584), (1237, 588), (1222...</td>\n",
       "      <td>[[(1128, 581), (1169, 581), (1210, 579), (1234...</td>\n",
       "      <td>[[(1125, 580), (1170, 581), (1219, 580), (1237...</td>\n",
       "      <td>[[(1134, 580), (1177, 582), (1225, 581), (1242...</td>\n",
       "      <td>[[(1129, 581), (1176, 584), (1229, 584), (1238...</td>\n",
       "      <td>[[(1118, 585), (1163, 585), (1206, 582), (1232...</td>\n",
       "      <td>[[(1103, 588), (1148, 585), (1192, 581), (1228...</td>\n",
       "      <td>[]</td>\n",
       "    </tr>\n",
       "  </tbody>\n",
       "</table>\n",
       "</div>"
      ],
      "text/plain": [
       "                                          image_path  \\\n",
       "0  ../data/dataset_360/FDDB-fold-01\\2002_07_19_bi...   \n",
       "1  ../data/dataset_360/FDDB-fold-01\\2002_07_19_bi...   \n",
       "\n",
       "                                            metadata          fold  phi  \\\n",
       "0  ../data/dataset_360/FDDB-fold-01\\2002_07_19_bi...  FDDB-fold-01   57   \n",
       "1  ../data/dataset_360/FDDB-fold-01\\2002_07_19_bi...  FDDB-fold-01   85   \n",
       "\n",
       "   theta       r_h                                              faces  \\\n",
       "0    136  0.454058  [[(140, 483), (160, 483), (180, 482), (138, 50...   \n",
       "1   -142  0.552233  [[(1122, 578), (1170, 578), (1215, 575), (1109...   \n",
       "\n",
       "                            circular_perimeter_faces  \\\n",
       "0  [[(140, 483), (160, 483), (180, 482), (184, 50...   \n",
       "1  [[(1122, 578), (1170, 578), (1215, 575), (1248...   \n",
       "\n",
       "                                    detections_mtcnn  \\\n",
       "0  [[(142, 488), (175, 488), (175, 525), (142, 52...   \n",
       "1                                                 []   \n",
       "\n",
       "                                   detectionsViewD_3  \\\n",
       "0  [[(147, 487), (165, 489), (184, 491), (181, 50...   \n",
       "1  [[(1149, 579), (1191, 585), (1243, 589), (1229...   \n",
       "\n",
       "                                   detectionsViewD_4  \\\n",
       "0  [[(141, 488), (160, 489), (179, 488), (182, 50...   \n",
       "1  [[(1149, 578), (1189, 584), (1237, 588), (1222...   \n",
       "\n",
       "                                   detectionsViewD_5  \\\n",
       "0  [[(137, 490), (156, 489), (175, 487), (180, 50...   \n",
       "1  [[(1128, 581), (1169, 581), (1210, 579), (1234...   \n",
       "\n",
       "                                   detectionsViewD_6  \\\n",
       "0  [[(133, 492), (152, 490), (172, 488), (179, 50...   \n",
       "1  [[(1125, 580), (1170, 581), (1219, 580), (1237...   \n",
       "\n",
       "                                   detectionsViewD_7  \\\n",
       "0  [[(130, 492), (150, 489), (168, 486), (178, 50...   \n",
       "1  [[(1134, 580), (1177, 582), (1225, 581), (1242...   \n",
       "\n",
       "                                   detectionsViewD_8  \\\n",
       "0  [[(132, 491), (150, 488), (168, 484), (178, 50...   \n",
       "1  [[(1129, 581), (1176, 584), (1229, 584), (1238...   \n",
       "\n",
       "                                   detectionsViewD_9  \\\n",
       "0  [[(130, 493), (148, 490), (166, 486), (177, 50...   \n",
       "1  [[(1118, 585), (1163, 585), (1206, 582), (1232...   \n",
       "\n",
       "                                  detectionsViewD_10 detections_sphere_mtcnn  \n",
       "0  [[(137, 490), (155, 489), (173, 487), (179, 50...                      []  \n",
       "1  [[(1103, 588), (1148, 585), (1192, 581), (1228...                      []  "
      ]
     },
     "execution_count": 2,
     "metadata": {},
     "output_type": "execute_result"
    }
   ],
   "source": [
    "dataset360 = pd.read_pickle('../dataframes/dataset360_detections.pkl')\n",
    "dataset360.head(2)"
   ]
  },
  {
   "cell_type": "markdown",
   "metadata": {},
   "source": [
    "## mAP"
   ]
  },
  {
   "cell_type": "code",
   "execution_count": 3,
   "metadata": {},
   "outputs": [],
   "source": [
    "def compute_metrics(df, gt_column, pred_column, threshold = 0.5):\n",
    "    total_faces = df.circular_perimeter_faces.apply(len).sum()\n",
    "\n",
    "    tps = []\n",
    "    fps = []\n",
    "\n",
    "    tp = 0\n",
    "    fp = 0\n",
    "    for index , row in df.iterrows(): \n",
    "        ground_truths = row['circular_perimeter_faces']\n",
    "        gt_polys = [geometry.Polygon(adjust_bounds(gt)).convex_hull for gt in ground_truths]\n",
    "        #gt_polys = [geometry.Polygon(gt) for gt in ground_truths]\n",
    "\n",
    "        tests = row[pred_column]   \n",
    "        for test in tests:               \n",
    "            ious = []\n",
    "\n",
    "            for gt_poly in gt_polys:            \n",
    "                gt_test = geometry.Polygon(adjust_bounds(test)).convex_hull\n",
    "                try:\n",
    "                    iou = gt_poly.intersection(gt_test).area/gt_poly.union(gt_test).buffer(0).area\n",
    "                except:\n",
    "                    iou = 0\n",
    "                ious.append(iou)\n",
    "\n",
    "            if len(gt_polys) > 0:\n",
    "                max_iou = np.argmax(ious)\n",
    "\n",
    "                if ious[max_iou] > threshold:#true positive\n",
    "                    tp+=1\n",
    "\n",
    "                    gt_polys.pop(max_iou)\n",
    "\n",
    "                else:\n",
    "                    fp += 1\n",
    "            else: \n",
    "                fp += 1\n",
    "\n",
    "            #print(f'tp: {tp}, fp: {fp}')\n",
    "            tps.append(tp)\n",
    "            fps.append(fp)\n",
    "\n",
    "    tps = np.array(tps)\n",
    "    fps = np.array(fps)\n",
    "    \n",
    "    precision = tps/(tps+fps)\n",
    "    recall = tps/total_faces\n",
    "\n",
    "    eval_df = pd.DataFrame({'precision':precision, 'recall':recall})\n",
    "    \n",
    "    prec_at_rec = []\n",
    "    \n",
    "    ##map\n",
    "    for recall_level in np.linspace(0.0, 1.0, 11):\n",
    "        try:\n",
    "            x = eval_df[eval_df['recall'] >= recall_level]['precision']\n",
    "            prec = max(x)\n",
    "        except Exception as e:\n",
    "            prec = 0.0\n",
    "        prec_at_rec.append(prec)\n",
    "    avg_prec = np.mean(prec_at_rec)\n",
    "\n",
    "    #print('11 point precision is ', prec_at_rec)\n",
    "    #print(f'mAP.{threshold*100} is ', avg_prec)\n",
    "\n",
    "    return avg_prec, precision, recall, prec_at_rec, tps, fps"
   ]
  },
  {
   "cell_type": "code",
   "execution_count": 4,
   "metadata": {},
   "outputs": [],
   "source": [
    "total_images_faces = lambda d: f'Faces: {d.circular_perimeter_faces.apply(len).sum()} Images:{len(d.circular_perimeter_faces)}'"
   ]
  },
  {
   "cell_type": "markdown",
   "metadata": {},
   "source": [
    "## Evaluate Dataset"
   ]
  },
  {
   "cell_type": "code",
   "execution_count": 5,
   "metadata": {},
   "outputs": [],
   "source": [
    "def evaluate_dataset(dataset, threshold = 0.50):\n",
    "    d_column_prefix = 'detectionsViewD_'\n",
    "    d_numbers = [int(c.split('_')[-1]) for c in dataset.columns[::-1] if c.startswith(d_column_prefix)]\n",
    "    d_numbers.sort()\n",
    "    mAPs = []\n",
    "    baseline = []\n",
    "    \n",
    "    mAP_baseline,_,_,_,_,_ = compute_metrics(dataset360, 'circular_perimeter_faces', 'detections_mtcnn', threshold = threshold) \n",
    "    for d_number in tqdm(d_numbers):\n",
    "        d_column = d_column_prefix+str(d_number)\n",
    "\n",
    "        mAP,_,_,_,_,_ = compute_metrics(dataset, 'circular_perimeter_faces', d_column, threshold = threshold) \n",
    "        mAPs.append(mAP)\n",
    "        baseline.append(mAP_baseline)\n",
    "        \n",
    "    return d_numbers, mAPs, baseline"
   ]
  },
  {
   "cell_type": "code",
   "execution_count": 6,
   "metadata": {},
   "outputs": [],
   "source": [
    "def plot_results(d_numbers, mAPs_50, baseline_50, mAPs_25, baseline_25):\n",
    "    \n",
    "    fig, axs = plt.subplots(1,2)\n",
    "    \n",
    "    axs[0].set_title('mAP.50 Results')\n",
    "    axs[0].set_xlabel('Viewports Density')\n",
    "    axs[0].set_ylabel('mAP')\n",
    "    axs[0].plot(d_numbers, mAPs_50, label='mtcnn_view')\n",
    "    axs[0].plot(d_numbers, baseline_50, label='mtcnn')\n",
    "    axs[0].legend()\n",
    "\n",
    "    axs[1].set_title('mAP.25 Results')\n",
    "    axs[1].set_xlabel('Viewports Density')\n",
    "    axs[1].set_ylabel('mAP')\n",
    "    axs[1].plot(d_numbers, mAPs_25, label='mtcnn_view')\n",
    "    axs[1].plot(d_numbers, baseline_25, label='mtcnn')\n",
    "    axs[1].legend()\n",
    "    plt.show()"
   ]
  },
  {
   "cell_type": "markdown",
   "metadata": {},
   "source": [
    "## Overall"
   ]
  },
  {
   "cell_type": "code",
   "execution_count": 7,
   "metadata": {
    "scrolled": true
   },
   "outputs": [
    {
     "name": "stdout",
     "output_type": "stream",
     "text": [
      "Faces: 5171 Images:2845\n"
     ]
    },
    {
     "data": {
      "application/vnd.jupyter.widget-view+json": {
       "model_id": "08964fba8b7a4d63922fe9e9f0e5fc1c",
       "version_major": 2,
       "version_minor": 0
      },
      "text/plain": [
       "HBox(children=(FloatProgress(value=0.0, max=8.0), HTML(value='')))"
      ]
     },
     "metadata": {},
     "output_type": "display_data"
    },
    {
     "name": "stdout",
     "output_type": "stream",
     "text": [
      "\n"
     ]
    },
    {
     "data": {
      "application/vnd.jupyter.widget-view+json": {
       "model_id": "ca0b356796f24e8cb6a6ab1d2033e2f5",
       "version_major": 2,
       "version_minor": 0
      },
      "text/plain": [
       "HBox(children=(FloatProgress(value=0.0, max=8.0), HTML(value='')))"
      ]
     },
     "metadata": {},
     "output_type": "display_data"
    },
    {
     "name": "stdout",
     "output_type": "stream",
     "text": [
      "\n"
     ]
    },
    {
     "data": {
      "image/png": "[encoded data removed]",
      "text/plain": [
       "<Figure size 864x432 with 2 Axes>"
      ]
     },
     "metadata": {
      "needs_background": "light"
     },
     "output_type": "display_data"
    }
   ],
   "source": [
    "print(total_images_faces(dataset360))\n",
    "d_numbers, mAPs_50, baseline_50 = evaluate_dataset(dataset360, threshold=0.50)\n",
    "d_numbers, mAPs_25, baseline_25 = evaluate_dataset(dataset360, threshold=0.25)\n",
    "\n",
    "plot_results(d_numbers, mAPs_50, baseline_50, mAPs_25, baseline_25)"
   ]
  },
  {
   "cell_type": "markdown",
   "metadata": {},
   "source": [
    "## Close to Poles"
   ]
  },
  {
   "cell_type": "code",
   "execution_count": 8,
   "metadata": {},
   "outputs": [
    {
     "data": {
      "text/plain": [
       "(983, 18)"
      ]
     },
     "execution_count": 8,
     "metadata": {},
     "output_type": "execute_result"
    }
   ],
   "source": [
    "poles = dataset360.loc[dataset360.phi.apply(abs) >= 60]\n",
    "poles.shape"
   ]
  },
  {
   "cell_type": "code",
   "execution_count": 9,
   "metadata": {},
   "outputs": [
    {
     "name": "stdout",
     "output_type": "stream",
     "text": [
      "Faces: 1770 Images:983\n"
     ]
    },
    {
     "data": {
      "application/vnd.jupyter.widget-view+json": {
       "model_id": "88bccfe36f5142a596acca9b90e1eb6a",
       "version_major": 2,
       "version_minor": 0
      },
      "text/plain": [
       "HBox(children=(FloatProgress(value=0.0, max=8.0), HTML(value='')))"
      ]
     },
     "metadata": {},
     "output_type": "display_data"
    },
    {
     "name": "stdout",
     "output_type": "stream",
     "text": [
      "\n"
     ]
    },
    {
     "data": {
      "application/vnd.jupyter.widget-view+json": {
       "model_id": "e7d4c060dbea4d228700dc008f60e982",
       "version_major": 2,
       "version_minor": 0
      },
      "text/plain": [
       "HBox(children=(FloatProgress(value=0.0, max=8.0), HTML(value='')))"
      ]
     },
     "metadata": {},
     "output_type": "display_data"
    },
    {
     "name": "stdout",
     "output_type": "stream",
     "text": [
      "\n"
     ]
    },
    {
     "data": {
      "image/png": "[encoded data removed]",
      "text/plain": [
       "<Figure size 864x432 with 2 Axes>"
      ]
     },
     "metadata": {
      "needs_background": "light"
     },
     "output_type": "display_data"
    }
   ],
   "source": [
    "print(total_images_faces(poles))\n",
    "d_numbers, mAPs_50, baseline_50 = evaluate_dataset(poles, threshold=0.50)\n",
    "d_numbers, mAPs_25, baseline_25 = evaluate_dataset(poles, threshold=0.25)\n",
    "\n",
    "plot_results(d_numbers, mAPs_50, baseline_50, mAPs_25, baseline_25)"
   ]
  },
  {
   "cell_type": "markdown",
   "metadata": {},
   "source": [
    "## Close to Borders"
   ]
  },
  {
   "cell_type": "code",
   "execution_count": 10,
   "metadata": {},
   "outputs": [
    {
     "data": {
      "text/plain": [
       "(146, 18)"
      ]
     },
     "execution_count": 10,
     "metadata": {},
     "output_type": "execute_result"
    }
   ],
   "source": [
    "borders = dataset360.loc[dataset360.theta.apply(abs) >= 170]\n",
    "borders.shape"
   ]
  },
  {
   "cell_type": "code",
   "execution_count": 11,
   "metadata": {},
   "outputs": [
    {
     "name": "stdout",
     "output_type": "stream",
     "text": [
      "Faces: 284 Images:146\n"
     ]
    },
    {
     "data": {
      "application/vnd.jupyter.widget-view+json": {
       "model_id": "871ce358612b4898b3c9f608199b38c5",
       "version_major": 2,
       "version_minor": 0
      },
      "text/plain": [
       "HBox(children=(FloatProgress(value=0.0, max=8.0), HTML(value='')))"
      ]
     },
     "metadata": {},
     "output_type": "display_data"
    },
    {
     "name": "stdout",
     "output_type": "stream",
     "text": [
      "\n"
     ]
    },
    {
     "data": {
      "application/vnd.jupyter.widget-view+json": {
       "model_id": "1df1f041b3b748d7b0e7c6ca85d5e541",
       "version_major": 2,
       "version_minor": 0
      },
      "text/plain": [
       "HBox(children=(FloatProgress(value=0.0, max=8.0), HTML(value='')))"
      ]
     },
     "metadata": {},
     "output_type": "display_data"
    },
    {
     "name": "stdout",
     "output_type": "stream",
     "text": [
      "\n"
     ]
    },
    {
     "data": {
      "image/png": "[encoded data removed]",
      "text/plain": [
       "<Figure size 864x432 with 2 Axes>"
      ]
     },
     "metadata": {
      "needs_background": "light"
     },
     "output_type": "display_data"
    }
   ],
   "source": [
    "print(total_images_faces(borders))\n",
    "d_numbers, mAPs_50, baseline_50 = evaluate_dataset(borders, threshold=0.50)\n",
    "d_numbers, mAPs_25, baseline_25 = evaluate_dataset(borders, threshold=0.25)\n",
    "\n",
    "plot_results(d_numbers, mAPs_50, baseline_50, mAPs_25, baseline_25)"
   ]
  },
  {
   "cell_type": "code",
   "execution_count": null,
   "metadata": {},
   "outputs": [],
   "source": []
  }
 ],
 "metadata": {
  "kernelspec": {
   "display_name": "Python 3",
   "language": "python",
   "name": "python3"
  },
  "language_info": {
   "codemirror_mode": {
    "name": "ipython",
    "version": 3
   },
   "file_extension": ".py",
   "mimetype": "text/x-python",
   "name": "python",
   "nbconvert_exporter": "python",
   "pygments_lexer": "ipython3",
   "version": "3.8.3"
  }
 },
 "nbformat": 4,
 "nbformat_minor": 4
}
