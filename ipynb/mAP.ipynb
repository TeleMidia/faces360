{
 "cells": [
  {
   "cell_type": "code",
   "execution_count": 1,
   "metadata": {},
   "outputs": [
    {
     "name": "stderr",
     "output_type": "stream",
     "text": [
      "C:\\Users\\paulo\\anaconda3\\envs\\faces\\lib\\site-packages\\tqdm\\std.py:668: FutureWarning: The Panel class is removed from pandas. Accessing it from the top-level namespace will also be removed in the next version\n",
      "  from pandas import Panel\n"
     ]
    }
   ],
   "source": [
    "import sys\n",
    "sys.path.append('../')\n",
    "import pandas as pd\n",
    "import numpy as np\n",
    "from tqdm.notebook import tqdm\n",
    "import matplotlib.pyplot as plt\n",
    "from shapely import geometry\n",
    "from utils import *\n",
    "tqdm.pandas()"
   ]
  },
  {
   "cell_type": "code",
   "execution_count": 2,
   "metadata": {},
   "outputs": [
    {
     "data": {
      "text/html": [
       "<div>\n",
       "<style scoped>\n",
       "    .dataframe tbody tr th:only-of-type {\n",
       "        vertical-align: middle;\n",
       "    }\n",
       "\n",
       "    .dataframe tbody tr th {\n",
       "        vertical-align: top;\n",
       "    }\n",
       "\n",
       "    .dataframe thead th {\n",
       "        text-align: right;\n",
       "    }\n",
       "</style>\n",
       "<table border=\"1\" class=\"dataframe\">\n",
       "  <thead>\n",
       "    <tr style=\"text-align: right;\">\n",
       "      <th></th>\n",
       "      <th>image_path</th>\n",
       "      <th>metadata</th>\n",
       "      <th>fold</th>\n",
       "      <th>phi</th>\n",
       "      <th>theta</th>\n",
       "      <th>r_h</th>\n",
       "      <th>faces</th>\n",
       "      <th>circular_perimeter_faces</th>\n",
       "      <th>detections_mtcnn</th>\n",
       "      <th>detections_viewport</th>\n",
       "      <th>detections_sphere_mtcnn</th>\n",
       "    </tr>\n",
       "  </thead>\n",
       "  <tbody>\n",
       "    <tr>\n",
       "      <th>0</th>\n",
       "      <td>../data/dataset_360/FDDB-fold-01\\2002_07_19_bi...</td>\n",
       "      <td>../data/dataset_360/FDDB-fold-01\\2002_07_19_bi...</td>\n",
       "      <td>FDDB-fold-01</td>\n",
       "      <td>-35</td>\n",
       "      <td>78</td>\n",
       "      <td>0.994500</td>\n",
       "      <td>[[(320, 114), (374, 112), (427, 116), (328, 15...</td>\n",
       "      <td>[[(320, 114), (374, 112), (427, 116), (415, 15...</td>\n",
       "      <td>[[(332, 119), (402, 119), (402, 202), (332, 20...</td>\n",
       "      <td>[[(324, 138), (357, 125), (399, 115), (411, 15...</td>\n",
       "      <td>[]</td>\n",
       "    </tr>\n",
       "    <tr>\n",
       "      <th>1</th>\n",
       "      <td>../data/dataset_360/FDDB-fold-01\\2002_07_19_bi...</td>\n",
       "      <td>../data/dataset_360/FDDB-fold-01\\2002_07_19_bi...</td>\n",
       "      <td>FDDB-fold-01</td>\n",
       "      <td>22</td>\n",
       "      <td>-142</td>\n",
       "      <td>0.523074</td>\n",
       "      <td>[[(1138, 357), (1152, 357), (1166, 356), (1138...</td>\n",
       "      <td>[[(1138, 357), (1152, 357), (1166, 356), (1167...</td>\n",
       "      <td>[[(1140, 362), (1164, 362), (1164, 395), (1140...</td>\n",
       "      <td>[[(1139, 361), (1149, 361), (1160, 360), (1162...</td>\n",
       "      <td>[]</td>\n",
       "    </tr>\n",
       "  </tbody>\n",
       "</table>\n",
       "</div>"
      ],
      "text/plain": [
       "                                          image_path  \\\n",
       "0  ../data/dataset_360/FDDB-fold-01\\2002_07_19_bi...   \n",
       "1  ../data/dataset_360/FDDB-fold-01\\2002_07_19_bi...   \n",
       "\n",
       "                                            metadata          fold  phi  \\\n",
       "0  ../data/dataset_360/FDDB-fold-01\\2002_07_19_bi...  FDDB-fold-01  -35   \n",
       "1  ../data/dataset_360/FDDB-fold-01\\2002_07_19_bi...  FDDB-fold-01   22   \n",
       "\n",
       "   theta       r_h                                              faces  \\\n",
       "0     78  0.994500  [[(320, 114), (374, 112), (427, 116), (328, 15...   \n",
       "1   -142  0.523074  [[(1138, 357), (1152, 357), (1166, 356), (1138...   \n",
       "\n",
       "                            circular_perimeter_faces  \\\n",
       "0  [[(320, 114), (374, 112), (427, 116), (415, 15...   \n",
       "1  [[(1138, 357), (1152, 357), (1166, 356), (1167...   \n",
       "\n",
       "                                    detections_mtcnn  \\\n",
       "0  [[(332, 119), (402, 119), (402, 202), (332, 20...   \n",
       "1  [[(1140, 362), (1164, 362), (1164, 395), (1140...   \n",
       "\n",
       "                                 detections_viewport detections_sphere_mtcnn  \n",
       "0  [[(324, 138), (357, 125), (399, 115), (411, 15...                      []  \n",
       "1  [[(1139, 361), (1149, 361), (1160, 360), (1162...                      []  "
      ]
     },
     "execution_count": 2,
     "metadata": {},
     "output_type": "execute_result"
    }
   ],
   "source": [
    "dataset360 = pd.read_pickle('../dataframes/dataset360_detections.pkl')\n",
    "dataset360.head(2)"
   ]
  },
  {
   "cell_type": "markdown",
   "metadata": {},
   "source": [
    "## mAP"
   ]
  },
  {
   "cell_type": "code",
   "execution_count": 3,
   "metadata": {},
   "outputs": [],
   "source": [
    "def compute_metrics(df, gt_column, pred_column, threshold = 0.5):\n",
    "    total_faces = df.circular_perimeter_faces.apply(len).sum()\n",
    "\n",
    "    tps = []\n",
    "    fps = []\n",
    "\n",
    "    tp = 0\n",
    "    fp = 0\n",
    "    for index , row in df.iterrows(): \n",
    "        ground_truths = row['circular_perimeter_faces']\n",
    "        gt_polys = [geometry.Polygon(adjust_bounds(gt)).convex_hull for gt in ground_truths]\n",
    "\n",
    "        tests = row[pred_column]   \n",
    "        for test in tests:               \n",
    "            ious = []\n",
    "\n",
    "            for gt_poly in gt_polys:            \n",
    "                gt_test = geometry.Polygon(adjust_bounds(test)).convex_hull\n",
    "\n",
    "                iou = gt_poly.intersection(gt_test).area/gt_poly.union(gt_test).area\n",
    "                ious.append(iou)\n",
    "\n",
    "            if len(gt_polys) > 0:\n",
    "                max_iou = np.argmax(ious)\n",
    "\n",
    "                if ious[max_iou] > threshold:#true positive\n",
    "                    tp+=1\n",
    "\n",
    "                    gt_polys.pop(max_iou)\n",
    "\n",
    "                else:\n",
    "                    fp += 1\n",
    "            else: \n",
    "                fp += 1\n",
    "\n",
    "            #print(f'tp: {tp}, fp: {fp}')\n",
    "            tps.append(tp)\n",
    "            fps.append(fp)\n",
    "\n",
    "    tps = np.array(tps)\n",
    "    fps = np.array(fps)\n",
    "    \n",
    "    precision = tps/(tps+fps)\n",
    "    recall = tps/total_faces\n",
    "\n",
    "    eval_df = pd.DataFrame({'precision':precision, 'recall':recall})\n",
    "    \n",
    "    prec_at_rec = []\n",
    "    \n",
    "    ##map\n",
    "    for recall_level in np.linspace(0.0, 1.0, 11):\n",
    "        try:\n",
    "            x = eval_df[eval_df['recall'] >= recall_level]['precision']\n",
    "            prec = max(x)\n",
    "        except:\n",
    "            prec = 0.0\n",
    "        prec_at_rec.append(prec)\n",
    "    avg_prec = np.mean(prec_at_rec)\n",
    "\n",
    "    print('11 point precision is ', prec_at_rec)\n",
    "    print('mAP is ', avg_prec)\n",
    "\n",
    "    return avg_prec, precision, recall, prec_at_rec"
   ]
  },
  {
   "cell_type": "markdown",
   "metadata": {},
   "source": [
    "## Overall"
   ]
  },
  {
   "cell_type": "code",
   "execution_count": 4,
   "metadata": {},
   "outputs": [
    {
     "name": "stdout",
     "output_type": "stream",
     "text": [
      "11 point precision is  [1.0, 0.6153388822829964, 0.6153388822829964, 0.6148511990754117, 0.6148511990754117, 0.6089432255903534, 0.6089432255903534, 0.6089432255903534, 0.0, 0.0, 0.0]\n",
      "mAP is  0.4806554399534433\n"
     ]
    }
   ],
   "source": [
    "avg_prec, precision, recall, prec_at_rec = compute_metrics(dataset360, 'circular_perimeter_faces', 'detections_viewport') "
   ]
  },
  {
   "cell_type": "markdown",
   "metadata": {},
   "source": [
    "## Close to Poles"
   ]
  },
  {
   "cell_type": "code",
   "execution_count": 12,
   "metadata": {},
   "outputs": [
    {
     "data": {
      "text/plain": [
       "(318, 11)"
      ]
     },
     "execution_count": 12,
     "metadata": {},
     "output_type": "execute_result"
    }
   ],
   "source": [
    "poles = dataset360.loc[dataset360.phi.apply(abs) >= 75]\n",
    "poles.shape"
   ]
  },
  {
   "cell_type": "code",
   "execution_count": 14,
   "metadata": {},
   "outputs": [
    {
     "name": "stdout",
     "output_type": "stream",
     "text": [
      "11 point precision is  [0.4444444444444444, 0.0, 0.0, 0.0, 0.0, 0.0, 0.0, 0.0, 0.0, 0.0, 0.0]\n",
      "mAP is  0.0404040404040404\n"
     ]
    }
   ],
   "source": [
    "avg_prec, precision, recall, prec_at_rec = compute_metrics(poles, 'circular_perimeter_faces', 'detections_mtcnn') "
   ]
  },
  {
   "cell_type": "markdown",
   "metadata": {},
   "source": [
    "## Close to Borders"
   ]
  },
  {
   "cell_type": "code",
   "execution_count": 20,
   "metadata": {},
   "outputs": [
    {
     "data": {
      "text/plain": [
       "(317, 11)"
      ]
     },
     "execution_count": 20,
     "metadata": {},
     "output_type": "execute_result"
    }
   ],
   "source": [
    "borders = dataset360.loc[dataset360.theta.apply(abs) >= 160]\n",
    "borders.shape"
   ]
  },
  {
   "cell_type": "code",
   "execution_count": 22,
   "metadata": {},
   "outputs": [
    {
     "name": "stdout",
     "output_type": "stream",
     "text": [
      "11 point precision is  [1.0, 0.7010869565217391, 0.7010869565217391, 0.688212927756654, 0.6732394366197183, 0.0, 0.0, 0.0, 0.0, 0.0, 0.0]\n",
      "mAP is  0.3421478434018046\n"
     ]
    }
   ],
   "source": [
    "avg_prec, precision, recall, prec_at_rec = compute_metrics(borders, 'circular_perimeter_faces', 'detections_mtcnn') "
   ]
  },
  {
   "cell_type": "code",
   "execution_count": null,
   "metadata": {},
   "outputs": [],
   "source": []
  }
 ],
 "metadata": {
  "kernelspec": {
   "display_name": "Python 3",
   "language": "python",
   "name": "python3"
  },
  "language_info": {
   "codemirror_mode": {
    "name": "ipython",
    "version": 3
   },
   "file_extension": ".py",
   "mimetype": "text/x-python",
   "name": "python",
   "nbconvert_exporter": "python",
   "pygments_lexer": "ipython3",
   "version": "3.8.3"
  }
 },
 "nbformat": 4,
 "nbformat_minor": 4
}
